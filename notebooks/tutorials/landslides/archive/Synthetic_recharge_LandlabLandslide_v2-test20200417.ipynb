{
 "cells": [
  {
   "cell_type": "markdown",
   "metadata": {},
   "source": [
    "\n",
    "# Watershed Dynamics Model \n",
    "\n",
    "<img src=\"https://www.washington.edu/brand/files/2014/09/W-Logo_Purple_Hex.png\" style=\"float:right;width:300px;padding:20px\">   \n",
    "\n",
    "\n",
    "<br />\n",
    "This Jupyter Notebook runs the Landlab LandslideProbability component on a synthetic \n",
    "Landlab grid using four recharge options as described in the paper: <br />\n",
    "#### Strauch et al. 2018. A hydro-climatological approach to predicting regional landslide probability using Landlab. Earth Surface Dynamics, 6, 1-26. <br /> \n",
    "This notebook performs the following functions:<br >\n",
    "* Import libraries and set HydroShare variables<br />\n",
    "* Create a grid and data fields used to calculate landslide probability<br />\n",
    "* Specify Recharge Distributions to compare four options<br /> \n",
    "* Run LandslideProbability function from Landlab landslide component<br /> \n",
    "* Compare the sensitivity based on four recharge options<br /> \n",
    "\n"
   ]
  },
  {
   "cell_type": "markdown",
   "metadata": {},
   "source": [
    "## 1.  HydroShare Setup and Preparation\n",
    "\n",
    "To run this notebook, we must import several libraries.\n",
    "The hs_utils library provides functions for interacting with HydroShare, including resource querying, dowloading, and creation.  Additional libraries support the functions of Landlab. "
   ]
  },
  {
   "cell_type": "code",
   "execution_count": 89,
   "metadata": {},
   "outputs": [],
   "source": [
    "#import Python utilities for calculating and plotting\n",
    "import numpy as np\n",
    "import matplotlib.pyplot as plt\n",
    "\n",
    "#import Landlab\n",
    "from landlab import RasterModelGrid\n",
    "from landlab.components import landslides\n",
    "from landlab.components.landslides import LandslideProbability\n",
    "from landlab.plot import imshow_grid\n",
    "from landlab.io import read_esri_ascii"
   ]
  },
  {
   "cell_type": "markdown",
   "metadata": {},
   "source": [
    "If you are curious about where the data is being downloaded, click on the Jupyter Notebook dashboard icon to see a File System view.  The homedir directory location printed above is where you can find the data and contents you will download to a HydroShare JupyterHub server.  At the end of this work session, you can migrate this data to the HydroShare iRods server as a Generic Resource. "
   ]
  },
  {
   "cell_type": "markdown",
   "metadata": {},
   "source": [
    "## Create a grid and data fields used to calculate landslide probability"
   ]
  },
  {
   "cell_type": "markdown",
   "metadata": {},
   "source": [
    "This example uses a synthetic model domain. As a first example, make a synthetic grid with 5 rows and 4 columns space 0.2 units apart.   <br /> \n",
    "##### Synthetic Grid Restart opportunity: After completing this entire notebook, go to the Dashboard, Kernal, and select Restart and Clear Output.  Execute the code from the beginning, but change the cell below to the rows, columns, and spacing of your choice.  "
   ]
  },
  {
   "cell_type": "code",
   "execution_count": 90,
   "metadata": {},
   "outputs": [],
   "source": [
    "grid = RasterModelGrid((5, 4))"
   ]
  },
  {
   "cell_type": "markdown",
   "metadata": {},
   "source": [
    "Confirm the size of the grid"
   ]
  },
  {
   "cell_type": "code",
   "execution_count": 91,
   "metadata": {},
   "outputs": [
    {
     "data": {
      "text/plain": [
       "20"
      ]
     },
     "execution_count": 91,
     "metadata": {},
     "output_type": "execute_result"
    }
   ],
   "source": [
    "grid.number_of_nodes"
   ]
  },
  {
   "cell_type": "markdown",
   "metadata": {},
   "source": [
    "To see what the grid id of our nodes are, execute the command below.  However, note that this command gives you the rows of the grid, but these are technically up-side-down from how the RasterModelGrid nodes are numbered (e.g,. node id 0 is at the bottom left corner of the grid). "
   ]
  },
  {
   "cell_type": "code",
   "execution_count": 92,
   "metadata": {},
   "outputs": [
    {
     "data": {
      "text/plain": [
       "array([[ 0,  1,  2,  3],\n",
       "       [ 4,  5,  6,  7],\n",
       "       [ 8,  9, 10, 11],\n",
       "       [12, 13, 14, 15],\n",
       "       [16, 17, 18, 19]])"
      ]
     },
     "execution_count": 92,
     "metadata": {},
     "output_type": "execute_result"
    }
   ],
   "source": [
    "grid.nodes"
   ]
  },
  {
   "cell_type": "markdown",
   "metadata": {},
   "source": [
    "We can also see how many core nodes we have (i.e., the nodes that calculations are performed on) in the center of the grid...not the edges, which are 'closed nodes'. Compare this array to the full grid above.  Asign these to the variable 'core_nodes' so we can use these later."
   ]
  },
  {
   "cell_type": "code",
   "execution_count": 93,
   "metadata": {},
   "outputs": [
    {
     "data": {
      "text/plain": [
       "array([ 5,  6,  9, 10, 13, 14])"
      ]
     },
     "execution_count": 93,
     "metadata": {},
     "output_type": "execute_result"
    }
   ],
   "source": [
    "core_nodes = grid.core_nodes\n",
    "core_nodes"
   ]
  },
  {
   "cell_type": "markdown",
   "metadata": {},
   "source": [
    "Check the list of data inputs that the component needs."
   ]
  },
  {
   "cell_type": "code",
   "execution_count": 94,
   "metadata": {},
   "outputs": [
    {
     "data": {
      "text/plain": [
       "['soil__density',\n",
       " 'soil__internal_friction_angle',\n",
       " 'soil__maximum_total_cohesion',\n",
       " 'soil__minimum_total_cohesion',\n",
       " 'soil__mode_total_cohesion',\n",
       " 'soil__saturated_hydraulic_conductivity',\n",
       " 'soil__thickness',\n",
       " 'soil__transmissivity',\n",
       " 'topographic__slope',\n",
       " 'topographic__specific_contributing_area']"
      ]
     },
     "execution_count": 94,
     "metadata": {},
     "output_type": "execute_result"
    }
   ],
   "source": [
    "sorted(LandslideProbability.input_var_names)"
   ]
  },
  {
   "cell_type": "markdown",
   "metadata": {},
   "source": [
    "Check the list of data outputs that the component will generate."
   ]
  },
  {
   "cell_type": "code",
   "execution_count": 95,
   "metadata": {},
   "outputs": [
    {
     "data": {
      "text/plain": [
       "['landslide__probability_of_failure',\n",
       " 'soil__mean_relative_wetness',\n",
       " 'soil__probability_of_saturation']"
      ]
     },
     "execution_count": 95,
     "metadata": {},
     "output_type": "execute_result"
    }
   ],
   "source": [
    "sorted(LandslideProbability.output_var_names)"
   ]
  },
  {
   "cell_type": "markdown",
   "metadata": {},
   "source": [
    "Review the details of what each variable represents.  Close the window with the upper right [x] after viewing."
   ]
  },
  {
   "cell_type": "code",
   "execution_count": 96,
   "metadata": {},
   "outputs": [],
   "source": [
    "?LandslideProbability"
   ]
  },
  {
   "cell_type": "markdown",
   "metadata": {},
   "source": [
    "Check the details of any input or output variable."
   ]
  },
  {
   "cell_type": "code",
   "execution_count": 97,
   "metadata": {},
   "outputs": [
    {
     "name": "stdout",
     "output_type": "stream",
     "text": [
      "name: soil__transmissivity\n",
      "description:\n",
      "  mode rate of water transmitted through a unit width of saturated\n",
      "  soil - either provided or calculated with Ksat and soil depth\n",
      "units: m2/day\n",
      "at: node\n",
      "intent: in\n"
     ]
    }
   ],
   "source": [
    "LandslideProbability.var_help('soil__transmissivity')"
   ]
  },
  {
   "cell_type": "markdown",
   "metadata": {},
   "source": [
    "Now we will create the required fields for the landslide component and add data as fields to the grid.  Thus, the data arrays will need to be as the length of the number of nodes.<br /> \n",
    "##### Data Fields Restart opportunity: After completing this entire notebook, go to the Dashboard, Kernal, and select Restart and Clear Output.  Execute the code from the beginning, but change the cell below to the data inputs of your choice.  "
   ]
  },
  {
   "cell_type": "code",
   "execution_count": 98,
   "metadata": {},
   "outputs": [],
   "source": [
    "gridnodes = grid.number_of_nodes\n",
    "grid_size = grid.number_of_nodes\n",
    "\n",
    "grid['node']['soil__density']= \\\n",
    "         2000. * np.ones(gridnodes)\n",
    "\n",
    "grid['node']['soil__internal_friction_angle']= \\\n",
    "         np.sort(np.random.uniform(26, 37, gridnodes))\n",
    "\n",
    "grid['node']['soil__mode_total_cohesion']= \\\n",
    "         np.sort(np.random.uniform(30, 900, gridnodes))\n",
    "    \n",
    "scatter_dat = np.random.uniform(1, 10, gridnodes)    \n",
    "grid['node']['soil__maximum_total_cohesion']= \\\n",
    "         grid.at_node['soil__mode_total_cohesion'] + scatter_dat\n",
    "\n",
    "grid['node']['soil__minimum_total_cohesion']= \\\n",
    "         grid.at_node['soil__mode_total_cohesion'] - scatter_dat\n",
    "\n",
    "grid['node']['soil__thickness']= \\\n",
    "         np.sort(np.random.uniform(1, 10, gridnodes))\n",
    "\n",
    "grid['node']['soil__transmissivity']= \\\n",
    "         np.sort(np.random.uniform(5, 20, gridnodes),-1)\n",
    "\n",
    "grid['node']['soil__saturated_hydraulic_conductivity']= \\\n",
    "        grid['node']['soil__transmissivity']/grid['node']['soil__thickness']\n",
    "        \n",
    "grid['node']['topographic__slope'] = np.random.rand(gridnodes)\n",
    "\n",
    "grid['node']['topographic__specific_contributing_area']= \\\n",
    "         np.sort(np.random.uniform(30, 900, gridnodes))"
   ]
  },
  {
   "cell_type": "markdown",
   "metadata": {},
   "source": [
    "Let's see what one of these fields (slope) looks like on the grid."
   ]
  },
  {
   "cell_type": "code",
   "execution_count": 99,
   "metadata": {},
   "outputs": [
    {
     "data": {
      "image/png": "[encoded data removed]",
      "text/plain": [
       "<Figure size 432x288 with 2 Axes>"
      ]
     },
     "metadata": {
      "needs_background": "light"
     },
     "output_type": "display_data"
    }
   ],
   "source": [
    "imshow_grid(grid,'topographic__slope', cmap='copper_r',\n",
    "                 grid_units=('coordinates', 'coordinates'), shrink=0.75,\n",
    "                 var_name='Slope', var_units='m/m')"
   ]
  },
  {
   "cell_type": "markdown",
   "metadata": {},
   "source": [
    "### Number of iterations to run Monte Carlo simulation"
   ]
  },
  {
   "cell_type": "markdown",
   "metadata": {},
   "source": [
    "The landslide component employes the infinite slope model to calculate factor-of-safety values using a Monte Carlo simulation approach, which randomly selects input values from parameter distributions. You can pick the number of iterations to run Monte Carlo simulations, but the default is 250. The higher the number of iteration, the longer the program runs, but the more precise the probability of failure result becomes.<br /> \n",
    "##### Random iterations Restart opportunity: After completing this entire notebook, go to the Dashboard, Kernal, and select Restart and Clear Output.  Execute the code from the beginning, but change the cell below to the number of iterations of your choice.  "
   ]
  },
  {
   "cell_type": "code",
   "execution_count": 100,
   "metadata": {},
   "outputs": [],
   "source": [
    "n = 25"
   ]
  },
  {
   "cell_type": "markdown",
   "metadata": {},
   "source": [
    "## Specify Recharge Distributions to compare four options"
   ]
  },
  {
   "cell_type": "markdown",
   "metadata": {},
   "source": [
    "There are _four_ different options for providing recharge for the Monte Carlo simulation.  We'll provide each of these recharge options below by specifying a recharge distribution and the necessary parameters. <br /> \n",
    "##### Restart opportunity: After completing this entire notebook, go to the Dashboard, Kernal, and select Restart and Clear Output.  Execute the code from the beginning, but change the cells below to adjust the recharge distributions."
   ]
  },
  {
   "cell_type": "markdown",
   "metadata": {},
   "source": [
    " ### 0. Recharge Option - component defaults"
   ]
  },
  {
   "cell_type": "code",
   "execution_count": 101,
   "metadata": {},
   "outputs": [
    {
     "name": "stdout",
     "output_type": "stream",
     "text": [
      "Distribution = Uniform for Default\n",
      "Recharge successfully instantiated with defaults\n"
     ]
    }
   ],
   "source": [
    "LS_prob0 = LandslideProbability(grid)\n",
    "print('Distribution = Uniform for Default') #LS_prob0.groundwater__recharge_distribution)\n",
    "print('Recharge successfully instantiated with defaults')\n"
   ]
  },
  {
   "cell_type": "markdown",
   "metadata": {},
   "source": [
    " ### 1. Recharge Option - 'uniform' distribution "
   ]
  },
  {
   "cell_type": "markdown",
   "metadata": {},
   "source": [
    "In this option, we'll apply a uniform distribution of recharge based on minimum and maximum recharge values.  We will then instantiate the LandslideProbability component with these parameters, as well as the grid and number of iterations we specified above.  Instantiate creates an instance of a class.  (For example, the _iPhone_ is a class and _each phone_ is an instance.)\n",
    "\n",
    "No outputs are generated by these commands as they are setting up the recharge and instantiating the component.\n"
   ]
  },
  {
   "cell_type": "code",
   "execution_count": 102,
   "metadata": {
    "scrolled": true
   },
   "outputs": [
    {
     "name": "stdout",
     "output_type": "stream",
     "text": [
      "Uniform recharge successfully instantiated\n"
     ]
    }
   ],
   "source": [
    "distribution1 = 'uniform'\n",
    "Remin_value = 5 \n",
    "Remax_value = 15 \n",
    "\n",
    "LS_prob1 = LandslideProbability(grid,number_of_iterations=n,\n",
    "    groundwater__recharge_distribution=distribution1,\n",
    "    groundwater__recharge_min_value=Remin_value,\n",
    "    groundwater__recharge_max_value=Remax_value)\n",
    "#print('Distribution = ' + LS_prob1.groundwater__recharge_distribution)\n",
    "print('Uniform recharge successfully instantiated')"
   ]
  },
  {
   "cell_type": "markdown",
   "metadata": {},
   "source": [
    "### 2. Recharge Option - 'lognormal' distribution"
   ]
  },
  {
   "cell_type": "markdown",
   "metadata": {},
   "source": [
    "In this option, we specify a lognormal distribution with a recharge mean and standard deviation values.  We instantiate the LandslideProbabilty class to create a new object or 'instance' of the class/component LandslideProbability. So now we have created two instances."
   ]
  },
  {
   "cell_type": "code",
   "execution_count": 103,
   "metadata": {},
   "outputs": [
    {
     "name": "stdout",
     "output_type": "stream",
     "text": [
      "Lognormal recharge successfully instantiated\n"
     ]
    }
   ],
   "source": [
    "distribution2 = 'lognormal'\n",
    "Remean = 10.\n",
    "Restandard_deviation = 0.25\n",
    "LS_prob2 = LandslideProbability(grid,number_of_iterations=n,\n",
    "    groundwater__recharge_distribution=distribution2,\n",
    "    groundwater__recharge_mean=Remean,\n",
    "    groundwater__recharge_standard_deviation=Restandard_deviation)\n",
    "print('Lognormal recharge successfully instantiated')"
   ]
  },
  {
   "cell_type": "markdown",
   "metadata": {},
   "source": [
    "### 3. Recharge Option - 'lognormal_spatial' distribution"
   ]
  },
  {
   "cell_type": "markdown",
   "metadata": {},
   "source": [
    "Similar to the previous option (#2), we use a lognormal distribution for recharge.  However, in this case we provide arrays to represent mean and standard deviation values for each node in our grid.  Thus, the recharge distribution varies for each node - representing a spatially varying distribution of recharge."
   ]
  },
  {
   "cell_type": "code",
   "execution_count": 104,
   "metadata": {},
   "outputs": [
    {
     "name": "stdout",
     "output_type": "stream",
     "text": [
      "Lognormal spatial recharge successfully instantiated\n"
     ]
    }
   ],
   "source": [
    "distribution3 = 'lognormal_spatial'\n",
    "Remean3 = np.random.randint(5,15,grid_size)\n",
    "Restandard_deviation3 = np.random.rand(grid_size)\n",
    "LS_prob3 = LandslideProbability(grid,number_of_iterations=n,\n",
    "    groundwater__recharge_distribution=distribution3,\n",
    "    groundwater__recharge_mean=Remean3,\n",
    "    groundwater__recharge_standard_deviation=Restandard_deviation3)\n",
    "#print('Distribution = ' + LS_prob3.groundwater__recharge_distribution)\n",
    "print('Lognormal spatial recharge successfully instantiated')"
   ]
  },
  {
   "cell_type": "markdown",
   "metadata": {},
   "source": [
    "### 4. Recharge Option - 'data_driven_spatial' distribution "
   ]
  },
  {
   "cell_type": "markdown",
   "metadata": {},
   "source": [
    "This is the most complex representation of recharge used in the LandslideProbability component.  \n",
    "In this case, we provide recharge distributions (arrays) directly that are unique for each node.  \n",
    "\n",
    "In a real-world situation, we would acquire these from a hydrologic model that often has a coarser resolution than our grid.<br />\n",
    "Thus, we route the recharge data arrays from these larger Hydraulic Source Domain (HSD) grids down to each node of our grid. Landlab has a 'Source tracking algorithm' utility that performs this routing and produces Python dictionaries (_key: value_ pairs) that become parameters for the 'data_driven_spatial' recharge distribution.  In this synthetic example, we'll generate synthetic versions of these dictionaries."
   ]
  },
  {
   "cell_type": "code",
   "execution_count": 105,
   "metadata": {},
   "outputs": [
    {
     "name": "stdout",
     "output_type": "stream",
     "text": [
      "HSD_dict dictionary is a unique array of recharge provided as arrays (‘values’) for each of the Hydrologic Source Domain (HSD) (‘keys’). \n",
      "The entire synthetic dictionary is:\n",
      "{2: array([10,  5,  8,  8, 12, 14,  8, 10,  7,  9]), 3: array([12, 11, 13, 13,  6, 11, 12, 12, 13,  6]), 4: array([10, 14, 13, 14,  9,  8,  5,  8, 10,  5]), 5: array([ 7,  8, 13,  6,  8,  8,  8, 12,  5,  6]), 6: array([14, 14,  5,  9, 12,  8,  7, 12,  7,  5]), 7: array([ 5,  9, 10, 10, 11, 13,  9,  6,  9, 14])}\n",
      "The array for the HSD vkey = 2 of this unordered dictionary is:\n",
      "[10  5  8  8 12 14  8 10  7  9]\n"
     ]
    }
   ],
   "source": [
    "HSD_dict = {}\n",
    "for vkey in range(2,8):  #the first example vkey =2 is printed below\n",
    "    HSD_dict[vkey] = np.random.randint(5,15,10)    # 20 - 120 mm/day \n",
    "print('HSD_dict dictionary is a unique array of recharge provided as arrays (‘values’) for each of the Hydrologic Source Domain (HSD) (‘keys’). ')    \n",
    "print('The entire synthetic dictionary is:')\n",
    "print(HSD_dict)\n",
    "print('The array for the HSD vkey = 2 of this unordered dictionary is:')\n",
    "print(HSD_dict[2])"
   ]
  },
  {
   "cell_type": "markdown",
   "metadata": {},
   "source": [
    "HSD_ID dictionary has the grid node ID as ‘keys’ and HSD IDs in a list as ‘values’. "
   ]
  },
  {
   "cell_type": "code",
   "execution_count": 106,
   "metadata": {},
   "outputs": [
    {
     "name": "stdout",
     "output_type": "stream",
     "text": [
      "The entire ID synthetic dictionary is:\n",
      "{5: array([4, 4]), 6: array([2, 3]), 9: array([3, 3]), 10: array([3, 5]), 13: array([5, 4]), 14: array([5, 2])}\n",
      "The array for the ckey = 5, the first index of core nodes in the dictionary is:\n",
      "[4 4]\n",
      "The two values in the array are the multiple vkeys that correspond/drain to the ckey:\n"
     ]
    }
   ],
   "source": [
    "HSD_id_dict = {}\n",
    "for ckey in grid.core_nodes:\n",
    "    HSD_id_dict[ckey] = np.random.randint(2,8,2)\n",
    "print('The entire ID synthetic dictionary is:')\n",
    "print(HSD_id_dict)\n",
    "print('The array for the ckey = 5, the first index of core nodes in the dictionary is:')\n",
    "print(HSD_id_dict[5])\n",
    "print('The two values in the array are the multiple vkeys that correspond/drain to the ckey:')\n"
   ]
  },
  {
   "cell_type": "markdown",
   "metadata": {},
   "source": [
    "The fractions dictionary assigns to each node ID as ‘key’ a lists the fractions of each HSD draining to the node as ‘values’. "
   ]
  },
  {
   "cell_type": "code",
   "execution_count": 107,
   "metadata": {},
   "outputs": [
    {
     "name": "stdout",
     "output_type": "stream",
     "text": [
      "The entire ID synthetic dictionary is:\n",
      "{5: array([ 0.31542835,  0.36371077]), 6: array([ 0.57019677,  0.43860151]), 9: array([ 0.98837384,  0.10204481]), 10: array([ 0.20887676,  0.16130952]), 13: array([ 0.65310833,  0.2532916 ]), 14: array([ 0.46631077,  0.24442559])}\n",
      "The fractional values (sum=1) in the array can be used to add the multiple vkeys that correspond/drain to each key:\n",
      "[ 0.31542835  0.36371077]\n"
     ]
    }
   ],
   "source": [
    "fract_dict = {}\n",
    "for ckey in grid.core_nodes:\n",
    "    fract_dict[ckey] =  np.random.rand(2)\n",
    "print('The entire ID synthetic dictionary is:')\n",
    "print(fract_dict)\n",
    "print('The fractional values (sum=1) in the array can be used to add the multiple vkeys that correspond/drain to each key:')\n",
    "print(fract_dict[5])"
   ]
  },
  {
   "cell_type": "markdown",
   "metadata": {},
   "source": [
    "When the component is instantiated, the three dictionaries are provided as the 'parameters' for the distribution in explicit order."
   ]
  },
  {
   "cell_type": "code",
   "execution_count": 108,
   "metadata": {},
   "outputs": [
    {
     "name": "stdout",
     "output_type": "stream",
     "text": [
      "Data driven spatial recharge successfully instantiated\n"
     ]
    }
   ],
   "source": [
    "distribution4 = 'data_driven_spatial'\n",
    "HSD_inputs = [HSD_dict,HSD_id_dict,fract_dict]\n",
    "LS_prob4 = LandslideProbability(grid,number_of_iterations=n,\n",
    "    groundwater__recharge_distribution=distribution4,\n",
    "    groundwater__recharge_HSD_inputs=HSD_inputs)\n",
    "#print('Distribution = ' + LS_prob4.groundwater__recharge_distribution)\n",
    "print('Data driven spatial recharge successfully instantiated')"
   ]
  },
  {
   "cell_type": "markdown",
   "metadata": {},
   "source": [
    "## Run the Landslide Component "
   ]
  },
  {
   "cell_type": "markdown",
   "metadata": {},
   "source": [
    "To generate the outputs from running the component, we call the 'calculate_landslide_probability' method inside the component using the class instance (e.g., LS_prob1) for each recharge option specified above. The following cell runs the model; in the following section we will assessing the results."
   ]
  },
  {
   "cell_type": "markdown",
   "metadata": {},
   "source": [
    "###  Run the Landslide Component in Default Mode\n",
    "\n",
    "Uniform recharge; default parameters.\n",
    "\n",
    "Using recharge defaults (option 0) as an example, run the recharge option simulation of probability of failure. \n"
   ]
  },
  {
   "cell_type": "code",
   "execution_count": 109,
   "metadata": {},
   "outputs": [
    {
     "name": "stdout",
     "output_type": "stream",
     "text": [
      "Landslide probability successfully calculated\n"
     ]
    }
   ],
   "source": [
    "LS_prob0.calculate_landslide_probability()\n",
    "print('Landslide probability successfully calculated')"
   ]
  },
  {
   "cell_type": "markdown",
   "metadata": {},
   "source": [
    "The outputs of model simulations are:"
   ]
  },
  {
   "cell_type": "code",
   "execution_count": 110,
   "metadata": {},
   "outputs": [
    {
     "data": {
      "text/plain": [
       "['landslide__probability_of_failure',\n",
       " 'soil__mean_relative_wetness',\n",
       " 'soil__probability_of_saturation']"
      ]
     },
     "execution_count": 110,
     "metadata": {},
     "output_type": "execute_result"
    }
   ],
   "source": [
    "sorted(LS_prob0.output_var_names)"
   ]
  },
  {
   "cell_type": "markdown",
   "metadata": {},
   "source": [
    "Save the arrays as variables by 'attaching the fields to the grid' and view the outputs. \n",
    "\n",
    "This simulation generates a probability value for each core node. "
   ]
  },
  {
   "cell_type": "code",
   "execution_count": 111,
   "metadata": {},
   "outputs": [
    {
     "data": {
      "text/plain": [
       "array([ 0.   ,  0.   ,  0.   ,  0.   ,  0.   ,  1.   ,  0.   ,  0.   ,\n",
       "        0.   ,  0.   ,  1.   ,  0.   ,  0.   ,  1.   ,  0.992,  0.   ,\n",
       "        0.   ,  0.   ,  0.   ,  0.   ])"
      ]
     },
     "execution_count": 111,
     "metadata": {},
     "output_type": "execute_result"
    }
   ],
   "source": [
    "LS_prob0_probability_of_failure = grid.at_node['landslide__probability_of_failure']\n",
    "grid.at_node['landslide__probability_of_failure']"
   ]
  },
  {
   "cell_type": "markdown",
   "metadata": {},
   "source": [
    "This simulation generates a mean relative wetness value for each core node."
   ]
  },
  {
   "cell_type": "code",
   "execution_count": 112,
   "metadata": {},
   "outputs": [
    {
     "data": {
      "text/plain": [
       "array([ 0.        ,  0.        ,  0.        ,  0.        ,  0.        ,\n",
       "        0.99955092,  1.        ,  0.        ,  0.        ,  1.        ,\n",
       "        0.99967728,  0.        ,  0.        ,  1.        ,  1.        ,\n",
       "        0.        ,  0.        ,  0.        ,  0.        ,  0.        ])"
      ]
     },
     "execution_count": 112,
     "metadata": {},
     "output_type": "execute_result"
    }
   ],
   "source": [
    "LS_prob0_relative_wetness = grid.at_node['soil__mean_relative_wetness']\n",
    "grid.at_node['soil__mean_relative_wetness']"
   ]
  },
  {
   "cell_type": "markdown",
   "metadata": {},
   "source": [
    "These model output arrays are attached to the grid as fields. When we run the model for a different recharge, these fields are over-written. \n",
    "\n",
    "###  Run the Landslide Component and Save Outputs for Four Different Modes\n",
    "\n",
    "Run the remaining three recharge options and save the arrays as variables for plotting."
   ]
  },
  {
   "cell_type": "code",
   "execution_count": 113,
   "metadata": {},
   "outputs": [],
   "source": [
    "LS_prob1.calculate_landslide_probability()\n",
    "LS_prob1_probability_of_failure = grid.at_node['landslide__probability_of_failure']\n",
    "LS_prob1_relative_wetness = grid.at_node['soil__mean_relative_wetness']\n",
    "\n",
    "LS_prob2.calculate_landslide_probability()\n",
    "LS_prob2_probability_of_failure = grid.at_node['landslide__probability_of_failure']\n",
    "LS_prob2_relative_wetness = grid.at_node['soil__mean_relative_wetness']\n",
    "\n",
    "LS_prob3.calculate_landslide_probability()\n",
    "LS_prob3_probability_of_failure = grid.at_node['landslide__probability_of_failure']\n",
    "LS_prob3_relative_wetness = grid.at_node['soil__mean_relative_wetness']\n",
    "\n",
    "LS_prob4.calculate_landslide_probability()\n",
    "LS_prob4_probability_of_failure = grid.at_node['landslide__probability_of_failure']\n",
    "LS_prob4_relative_wetness = grid.at_node['soil__mean_relative_wetness']"
   ]
  },
  {
   "cell_type": "markdown",
   "metadata": {},
   "source": [
    "## View the  Landslide Outputs with Default Parameters "
   ]
  },
  {
   "cell_type": "code",
   "execution_count": 114,
   "metadata": {},
   "outputs": [
    {
     "data": {
      "image/png": "[encoded data removed]",
      "text/plain": [
       "<Figure size 432x288 with 1 Axes>"
      ]
     },
     "metadata": {
      "needs_background": "light"
     },
     "output_type": "display_data"
    },
    {
     "data": {
      "image/png": "[encoded data removed]",
      "text/plain": [
       "<Figure size 432x288 with 1 Axes>"
      ]
     },
     "metadata": {
      "needs_background": "light"
     },
     "output_type": "display_data"
    }
   ],
   "source": [
    "fig = plt.figure('Probability of Failure')\n",
    "xticks = np.arange(-0.1, 0.8, 0.4)\n",
    "ax1 = fig.add_subplot(221)\n",
    "ax1.xaxis.set_visible(False)\n",
    "imshow_grid(grid, LS_prob0_probability_of_failure, plot_name='Probability of Failure',\n",
    "                    allow_colorbar=False, cmap='OrRd',\n",
    "                    grid_units=('coordinates',''))\n",
    "\n",
    "fig = plt.figure('Mean Relative Wetness')\n",
    "xticks = np.arange(-0.1, 0.8, 0.4)\n",
    "ax1 = fig.add_subplot(221)\n",
    "ax1.xaxis.set_visible(False)\n",
    "imshow_grid(grid, LS_prob0_relative_wetness, plot_name='Relative Wetness',\n",
    "                    allow_colorbar=False, cmap='YlGnBu',\n",
    "                    grid_units=('coordinates',''))"
   ]
  },
  {
   "cell_type": "markdown",
   "metadata": {},
   "source": [
    "## Compare the sensitivity based on four recharge options"
   ]
  },
  {
   "cell_type": "markdown",
   "metadata": {
    "collapsed": true
   },
   "source": [
    "Now lets do some plotting to see what we produced.  The four commands below will plot the probability of failure for each of the recharge options we specified above."
   ]
  },
  {
   "cell_type": "markdown",
   "metadata": {},
   "source": [
    "### Compare the Probability of failure\n",
    "Now lets compare the probabilities of failure for our four recharge options.  Note - we use the arrays we named above instead of fields after 'grid'."
   ]
  },
  {
   "cell_type": "code",
   "execution_count": 115,
   "metadata": {
    "scrolled": true
   },
   "outputs": [
    {
     "data": {
      "image/png": "[encoded data removed]",
      "text/plain": [
       "<Figure size 432x288 with 5 Axes>"
      ]
     },
     "metadata": {
      "needs_background": "light"
     },
     "output_type": "display_data"
    }
   ],
   "source": [
    "fig = plt.figure('Probability of Failure')\n",
    "xticks = np.arange(-0.1, 0.8, 0.4)\n",
    "ax1 = fig.add_subplot(221)\n",
    "ax1.xaxis.set_visible(False)\n",
    "imshow_grid(grid, LS_prob1_probability_of_failure, plot_name='Recharge 1',\n",
    "                    allow_colorbar=False, cmap='OrRd',\n",
    "                    grid_units=('coordinates',''))\n",
    "ax2 = fig.add_subplot(222)\n",
    "ax2.xaxis.set_visible(False)\n",
    "imshow_grid(grid, LS_prob2_probability_of_failure, plot_name='Recharge 2',\n",
    "                    allow_colorbar=False, cmap='OrRd',\n",
    "                    grid_units=('coordinates', 'coordinates'))\n",
    "ax3 = fig.add_subplot(223)\n",
    "ax3.set_xticks(xticks)\n",
    "imshow_grid(grid, LS_prob3_probability_of_failure,plot_name='Recharge 3',\n",
    "                    allow_colorbar=False, cmap='OrRd',\n",
    "                    grid_units=('coordinates', 'coordinates'))\n",
    "ax4 = fig.add_subplot(224)\n",
    "ax4.set_xticks(xticks)\n",
    "imshow_grid(grid, LS_prob4_probability_of_failure, cmap='OrRd', plot_name='Recharge 4',\n",
    "                    grid_units=('coordinates', 'coordinates'), shrink=0.9,\n",
    "                    var_name='Probability of Failure')\n",
    "plt.savefig('Probability_of_Failure_synthetic.png')"
   ]
  },
  {
   "cell_type": "markdown",
   "metadata": {},
   "source": [
    "Note that only the core nodes in the middle have values.  The outside nodes are closed.  Also, see how these compare with the slope plot above.\n",
    "\n",
    "Now lets do the same for mean relative wetness."
   ]
  },
  {
   "cell_type": "code",
   "execution_count": 116,
   "metadata": {},
   "outputs": [
    {
     "data": {
      "image/png": "[encoded data removed]",
      "text/plain": [
       "<Figure size 432x288 with 5 Axes>"
      ]
     },
     "metadata": {
      "needs_background": "light"
     },
     "output_type": "display_data"
    }
   ],
   "source": [
    "fig = plt.figure('Mean Relative Wetness')\n",
    "xticks = np.arange(-0.1, 0.8, 0.4)\n",
    "ax1 = fig.add_subplot(221)\n",
    "ax1.xaxis.set_visible(False)\n",
    "imshow_grid(grid, LS_prob1_relative_wetness, plot_name='Re Opt. 1',\n",
    "                    allow_colorbar=False, cmap='YlGnBu',\n",
    "                    grid_units=('coordinates',''))\n",
    "ax2 = fig.add_subplot(222)\n",
    "ax2.xaxis.set_visible(False)\n",
    "imshow_grid(grid, LS_prob2_relative_wetness, plot_name='Re Opt. 2',\n",
    "                    allow_colorbar=False, cmap='YlGnBu',\n",
    "                    grid_units=('coordinates', 'coordinates'))\n",
    "ax3 = fig.add_subplot(223)\n",
    "ax3.set_xticks(xticks)\n",
    "imshow_grid(grid, LS_prob3_relative_wetness,plot_name='Re Opt. 3',\n",
    "                    allow_colorbar=False, cmap='YlGnBu',\n",
    "                    grid_units=('coordinates', 'coordinates'))\n",
    "ax4 = fig.add_subplot(224)\n",
    "ax4.set_xticks(xticks)\n",
    "imshow_grid(grid, LS_prob4_relative_wetness, cmap='YlGnBu', plot_name='Re Opt. 4',\n",
    "                    grid_units=('coordinates', 'coordinates'), shrink=0.9,\n",
    "                    var_name='Mean Relative Wetness')\n",
    "plt.savefig('Mean_Relative_Wetness_synthetic.png')"
   ]
  },
  {
   "cell_type": "markdown",
   "metadata": {},
   "source": [
    "These might be all 1.0, which is the maximum, indicating that given the inputs above, this domain is often saturated."
   ]
  },
  {
   "cell_type": "code",
   "execution_count": null,
   "metadata": {},
   "outputs": [],
   "source": []
  }
 ],
 "metadata": {
  "anaconda-cloud": {},
  "kernelspec": {
   "display_name": "Python 3",
   "language": "python",
   "name": "python3"
  },
  "language_info": {
   "codemirror_mode": {
    "name": "ipython",
    "version": 3
   },
   "file_extension": ".py",
   "mimetype": "text/x-python",
   "name": "python",
   "nbconvert_exporter": "python",
   "pygments_lexer": "ipython3",
   "version": "3.7.6"
  }
 },
 "nbformat": 4,
 "nbformat_minor": 1
}
