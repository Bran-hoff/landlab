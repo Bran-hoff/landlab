{
 "cells": [
  {
   "cell_type": "markdown",
   "metadata": {},
   "source": [
    "<a href=\"http://landlab.github.io\"><img style=\"float: left\" src=\"../../landlab_header.png\"></a>"
   ]
  },
  {
   "cell_type": "markdown",
   "metadata": {},
   "source": [
    "# Understanding and working with the Landlab Landslide Component Unit Tests "
   ]
  },
  {
   "cell_type": "markdown",
   "metadata": {},
   "source": [
    "\n",
    "<hr>\n",
    "<small>For more Landlab tutorials, click here: <a href=\"https://landlab.readthedocs.io/en/latest/user_guide/tutorials.html\">https://landlab.readthedocs.io/en/latest/user_guide/tutorials.html</a></small>\n",
    "<hr>"
   ]
  },
  {
   "cell_type": "markdown",
   "metadata": {},
   "source": [
    "This Jupyter Notebook runs the unit tests for the Landlab LandslideProbability component on a synthetic Landlab grid. Depth to Groundwater is included as a hydrologic forcing options to using the four recharge options as described in the paper: <br />\n",
    "Strauch et al. 2018. A hydro-climatological approach to predicting regional landslide probability using Landlab. Earth Surface Dynamics, 6, 1-26. <br /> "
   ]
  },
  {
   "cell_type": "markdown",
   "metadata": {},
   "source": [
    "## 0.  Software Setup and Preparation\n",
    "\n",
    "To run this notebook, we must import several libraries.\n",
    "The hs_utils library provides functions for interacting with HydroShare, including resource querying, dowloading, and creation.  Additional libraries support the functions of Landlab. "
   ]
  },
  {
   "cell_type": "code",
   "execution_count": 1,
   "metadata": {
    "scrolled": true
   },
   "outputs": [],
   "source": [
    "#import Python utilities for calculating and plotting\n",
    "import numpy as np\n",
    "import matplotlib.pyplot as plt\n",
    "\n",
    "#import Landlab\n",
    "from landlab import RasterModelGrid\n",
    "from landlab.components import landslides\n",
    "from landlab.components.landslides import LandslideProbability\n",
    "from landlab.plot import imshow_grid\n",
    "from landlab.io import read_esri_ascii\n",
    "\n",
    "import plot_landslides as pl\n",
    "import tests.components.landslides.test_landslide_probability as test\n",
    "from numpy.testing import assert_array_almost_equal\n"
   ]
  },
  {
   "cell_type": "markdown",
   "metadata": {},
   "source": [
    "## 1. Create a synthetic grid and data fields used to calculate landslide probability"
   ]
  },
  {
   "cell_type": "markdown",
   "metadata": {},
   "source": [
    "**Unit Test - new function added for Version 2** \n",
    "\n",
    "`test_build_grid_unitarea()`\n",
    "\n",
    "This example uses a synthetic model domain. \n",
    "\n",
    "As a first example, make a synthetic grid with 5 rows and 4 columns.\n",
    "\n",
    "units 10 m x 10 m grid cell (grid: 5 rows, 4 columns)."
   ]
  },
  {
   "cell_type": "code",
   "execution_count": 2,
   "metadata": {},
   "outputs": [],
   "source": [
    "synthetic_unitgrid = test.test_build_grid_unitarea()  "
   ]
  },
  {
   "cell_type": "markdown",
   "metadata": {},
   "source": [
    "We can also see how many core nodes we have (i.e., the nodes that calculations are performed on) in the center of the grid...not the edges, which are 'closed nodes'. Compare this array to the full grid above.  Asign these to the variable 'core_nodes' so we can use these later."
   ]
  },
  {
   "cell_type": "code",
   "execution_count": 3,
   "metadata": {},
   "outputs": [
    {
     "name": "stdout",
     "output_type": "stream",
     "text": [
      "The synthetic grid has 20 total grid cells (nodes), including the boundary nodes.\n",
      "The synthetic grid has 10.0 m grid cell size.\n",
      "Core nodes are the center of a Landlab model grid.\n",
      "Landslide calculations are made only on 6 core nodes.\n",
      "This is the array of Landlab node values used to index the core nodes (dictionary key)\n"
     ]
    },
    {
     "data": {
      "text/plain": [
       "array([ 5,  6,  9, 10, 13, 14])"
      ]
     },
     "execution_count": 3,
     "metadata": {},
     "output_type": "execute_result"
    }
   ],
   "source": [
    "gridnum = synthetic_unitgrid.number_of_nodes\n",
    "print('The synthetic grid has {value} total grid cells (nodes), including the boundary nodes.'.format(value=synthetic_unitgrid.number_of_nodes)) \n",
    "print('The synthetic grid has {value} m grid cell size.'.format(value=synthetic_unitgrid.dx)) \n",
    "grid_cnum = synthetic_unitgrid.number_of_core_nodes\n",
    "print(\"Core nodes are the center of a Landlab model grid.\")\n",
    "print(\"Landslide calculations are made only on {value} core nodes.\".format(value=grid_cnum))\n",
    "print(\"This is the array of Landlab node values used to index the core nodes (dictionary key)\")\n",
    "synthetic_unitgrid.core_nodes"
   ]
  },
  {
   "cell_type": "markdown",
   "metadata": {},
   "source": [
    "#### `ls_prob` is the model instance (initialization) for the testing\n",
    "\n",
    "Use the component to create a Landslide model instance on the synthetic unit grid so that we can continue the component tests with `ls_prob` using the `synthetic_unitgrid`. "
   ]
  },
  {
   "cell_type": "code",
   "execution_count": 4,
   "metadata": {},
   "outputs": [],
   "source": [
    "ls_prob = LandslideProbability(synthetic_unitgrid)"
   ]
  },
  {
   "cell_type": "markdown",
   "metadata": {},
   "source": [
    "**Unit Test for big grids - new function added for Version 2** "
   ]
  },
  {
   "cell_type": "markdown",
   "metadata": {},
   "source": [
    "Test that we can change the input dimensions and keep the other defaults using `test_build_unitgrid()` for any area and grid size that we want to create a synthetic landslide model.  This is useful for testing the computuational demand and designing big tests. "
   ]
  },
  {
   "cell_type": "code",
   "execution_count": 5,
   "metadata": {},
   "outputs": [
    {
     "name": "stdout",
     "output_type": "stream",
     "text": [
      "Core nodes are the center of a Landlab model grid.\n",
      "Landslide calculations are made only on 9604 core nodes.\n",
      "What is the runtime? What is the computational cost?\n"
     ]
    }
   ],
   "source": [
    "(rowcol, edgelength, coordinates) = ((100, 100), (10e0, 10e0), (0.0, 0.0))\n",
    "dimensions = (rowcol, edgelength, coordinates)\n",
    "synthetic_grid = test.test_build_unitgrid(rowcol, edgelength)  \n",
    "print(\"Core nodes are the center of a Landlab model grid.\")\n",
    "print(\"Landslide calculations are made only on {value} core nodes.\".format(value=synthetic_grid.number_of_core_nodes))\n",
    "print(\"What is the runtime? What is the computational cost?\")"
   ]
  },
  {
   "cell_type": "markdown",
   "metadata": {},
   "source": [
    "**Unit Test functions for grid and node**  "
   ]
  },
  {
   "cell_type": "code",
   "execution_count": 6,
   "metadata": {},
   "outputs": [
    {
     "name": "stdout",
     "output_type": "stream",
     "text": [
      "We created a Landlab RasterModelGrid: <xarray.Dataset>\n",
      "Dimensions:         (Two: 2, cell: 6, face: 17, link: 31, max_patch_links: 4, node: 20, patch: 12)\n",
      "Coordinates:\n",
      "  * node            (node) int32 0 1 2 3 4 5 6 7 8 ... 12 13 14 15 16 17 18 19\n",
      "Dimensions without coordinates: Two, cell, face, link, max_patch_links, patch\n",
      "Data variables:\n",
      "    mesh            <U1 'a'\n",
      "    y_of_node       (node) float64 0.0 0.0 0.0 0.0 10.0 ... 40.0 40.0 40.0 40.0\n",
      "    x_of_node       (node) float64 0.0 10.0 20.0 30.0 0.0 ... 0.0 10.0 20.0 30.0\n",
      "    nodes_at_link   (link, Two) int32 0 1 1 2 2 3 0 4 ... 19 16 17 17 18 18 19\n",
      "    links_at_patch  (patch, max_patch_links) int32 4 7 3 0 5 ... 22 27 30 26 23\n",
      "    node_at_cell    (cell) int32 5 6 9 10 13 14\n",
      "    nodes_at_face   (face, Two) int32 1 5 2 6 4 5 5 6 ... 14 14 15 13 17 14 18. \n"
     ]
    },
    {
     "data": {
      "text/plain": [
       "RasterModelGrid((5, 4), xy_spacing=(10.0, 10.0), xy_of_lower_left=(0.0, 0.0))"
      ]
     },
     "execution_count": 6,
     "metadata": {},
     "output_type": "execute_result"
    }
   ],
   "source": [
    "print('We created a Landlab RasterModelGrid: {value}. '.format(value=synthetic_unitgrid))\n",
    "synthetic_unitgrid"
   ]
  },
  {
   "cell_type": "markdown",
   "metadata": {},
   "source": [
    "To read more documentation about this dataset type:\n",
    "\n",
    "Use `RasterModelGrid?` OR `synthetic_unitgrid?` OR uncomment cell below ."
   ]
  },
  {
   "cell_type": "code",
   "execution_count": 7,
   "metadata": {},
   "outputs": [],
   "source": [
    "#synthetic_unitgrid?"
   ]
  },
  {
   "cell_type": "markdown",
   "metadata": {},
   "source": [
    "The Landlab grid variable we input to `LandslideProbability` is the `synthetic_unitgrid`"
   ]
  },
  {
   "cell_type": "code",
   "execution_count": 8,
   "metadata": {},
   "outputs": [
    {
     "name": "stdout",
     "output_type": "stream",
     "text": [
      "Input `synthetic_unitgrid` size: rows = 5; cols = 4. \n"
     ]
    }
   ],
   "source": [
    "print('Input `synthetic_unitgrid` size: rows = {value}; cols = {value2}. '.format(\n",
    "    value=synthetic_unitgrid.number_of_node_rows,\n",
    "    value2=synthetic_unitgrid.number_of_node_columns))\n",
    "\n",
    "rowcol=[synthetic_unitgrid.number_of_node_rows,synthetic_unitgrid.number_of_node_columns]\n",
    "edgelength=[synthetic_unitgrid.dx,synthetic_unitgrid.dy]\n",
    "coordinates=synthetic_unitgrid.xy_of_lower_left\n",
    "\n",
    "dimensions = (rowcol, edgelength, coordinates)\n"
   ]
  },
  {
   "cell_type": "code",
   "execution_count": 9,
   "metadata": {},
   "outputs": [
    {
     "name": "stdout",
     "output_type": "stream",
     "text": [
      "Landlab grid dimensions to test the Landslide model instance: ([5, 4], [10.0, 10.0], (0.0, 0.0)). \n"
     ]
    }
   ],
   "source": [
    "print('Landlab grid dimensions to test the Landslide model instance: {value}. '.format(value=dimensions))\n"
   ]
  },
  {
   "cell_type": "code",
   "execution_count": 10,
   "metadata": {},
   "outputs": [],
   "source": [
    "test.test_grid_shape(ls_prob,dimensions)\n",
    "test.test_grid_x_extent(ls_prob,dimensions)\n",
    "test.test_grid_y_extent(ls_prob,dimensions)\n",
    "test.test_field_getters(ls_prob,dimensions)"
   ]
  },
  {
   "cell_type": "markdown",
   "metadata": {},
   "source": [
    "If there are no assertion errors printed, the unit test passes since \n",
    "\n",
    "`_SHAPE[0]`(see Unit Test test_landslide_probability.py) == `synthetic_unitgrid[0]` == `ls_prob.grid.shape[0]` "
   ]
  },
  {
   "cell_type": "markdown",
   "metadata": {},
   "source": [
    "**Unit Test function**  `test_name()`  - is the name \"Landslide Probability\" ?"
   ]
  },
  {
   "cell_type": "code",
   "execution_count": 11,
   "metadata": {},
   "outputs": [],
   "source": [
    "test.test_name(ls_prob)"
   ]
  },
  {
   "cell_type": "markdown",
   "metadata": {},
   "source": [
    "Check the list of data inputs that the component needs."
   ]
  },
  {
   "cell_type": "markdown",
   "metadata": {},
   "source": [
    "**Unit Test function**  `test_input_var_names()` testing that `input_var_names()` outputs correctly."
   ]
  },
  {
   "cell_type": "code",
   "execution_count": 12,
   "metadata": {
    "scrolled": true
   },
   "outputs": [
    {
     "data": {
      "text/plain": [
       "['soil__density',\n",
       " 'soil__internal_friction_angle',\n",
       " 'soil__maximum_total_cohesion',\n",
       " 'soil__minimum_total_cohesion',\n",
       " 'soil__mode_total_cohesion',\n",
       " 'soil__saturated_hydraulic_conductivity',\n",
       " 'soil__thickness',\n",
       " 'soil__transmissivity',\n",
       " 'topographic__slope',\n",
       " 'topographic__specific_contributing_area']"
      ]
     },
     "execution_count": 12,
     "metadata": {},
     "output_type": "execute_result"
    }
   ],
   "source": [
    "sorted(LandslideProbability.input_var_names)"
   ]
  },
  {
   "cell_type": "code",
   "execution_count": 13,
   "metadata": {},
   "outputs": [],
   "source": [
    "test.test_input_var_names(ls_prob)"
   ]
  },
  {
   "cell_type": "markdown",
   "metadata": {},
   "source": [
    "**Unit Test function**  `test_output_var_names()` testing that `output_var_names()` outputs correctly."
   ]
  },
  {
   "cell_type": "code",
   "execution_count": 14,
   "metadata": {},
   "outputs": [
    {
     "data": {
      "text/plain": [
       "['landslide__probability_of_failure',\n",
       " 'soil__mean_recharge',\n",
       " 'soil__mean_relative_wetness',\n",
       " 'soil__mean_watertable_depth',\n",
       " 'soil__probability_of_saturation']"
      ]
     },
     "execution_count": 14,
     "metadata": {},
     "output_type": "execute_result"
    }
   ],
   "source": [
    "sorted(LandslideProbability.output_var_names)"
   ]
  },
  {
   "cell_type": "code",
   "execution_count": 15,
   "metadata": {},
   "outputs": [],
   "source": [
    "test.test_output_var_names(ls_prob)"
   ]
  },
  {
   "cell_type": "markdown",
   "metadata": {},
   "source": [
    "Review the details of the additional outputs to  Version 2:mean depth and mean recharge.  A distribution of values is given as an input; the output is the mean per node for plotting. "
   ]
  },
  {
   "cell_type": "code",
   "execution_count": 16,
   "metadata": {},
   "outputs": [
    {
     "name": "stdout",
     "output_type": "stream",
     "text": [
      "name: soil__mean_watertable_depth\n",
      "description:\n",
      "  Mean depth to water table from surface to perched water table within\r\n",
      "  the soil layer\n",
      "units: m\n",
      "unit agnostic: False\n",
      "at: node\n",
      "intent: out\n"
     ]
    }
   ],
   "source": [
    "LandslideProbability.var_help('soil__mean_watertable_depth')"
   ]
  },
  {
   "cell_type": "code",
   "execution_count": 17,
   "metadata": {
    "scrolled": true
   },
   "outputs": [
    {
     "name": "stdout",
     "output_type": "stream",
     "text": [
      "name: soil__mean_recharge\n",
      "description:\n",
      "  Mean recharge to the soil layer\n",
      "units: mm/day\n",
      "unit agnostic: False\n",
      "at: node\n",
      "intent: out\n"
     ]
    }
   ],
   "source": [
    "LandslideProbability.var_help('soil__mean_recharge')"
   ]
  },
  {
   "cell_type": "markdown",
   "metadata": {},
   "source": [
    "**Unit Test function**  `test_var_units()` testing unit dimensions (string)."
   ]
  },
  {
   "cell_type": "code",
   "execution_count": 18,
   "metadata": {},
   "outputs": [],
   "source": [
    "test.test_var_units(ls_prob)"
   ]
  },
  {
   "cell_type": "markdown",
   "metadata": {},
   "source": [
    "**Unit Test function**  `test_field_initialized_to_zero()` and  `test_field_initialized_to_range()` testing input parameter initialization of fields for outputs (zero) and inputs (default range)."
   ]
  },
  {
   "cell_type": "code",
   "execution_count": 19,
   "metadata": {},
   "outputs": [],
   "source": [
    "test.test_field_initialized_to_zero(ls_prob,LandslideProbability.output_var_names)"
   ]
  },
  {
   "cell_type": "markdown",
   "metadata": {},
   "source": [
    "Uncomment cell below to verify the output values are all zeros (initialized, but model not run yet)."
   ]
  },
  {
   "cell_type": "code",
   "execution_count": 20,
   "metadata": {},
   "outputs": [],
   "source": [
    "#pl.print_list_nodevalues(ls_prob,LandslideProbability.output_var_names)"
   ]
  },
  {
   "cell_type": "markdown",
   "metadata": {},
   "source": [
    "To review and change default values, create a dictionary of default values.\n",
    "\n",
    "(see also Unit Test in landlab/tests/test_landslide_probability.py for range of OUTPUTS used in tests)"
   ]
  },
  {
   "cell_type": "code",
   "execution_count": 21,
   "metadata": {},
   "outputs": [],
   "source": [
    "#pl.print_nodevalues(ls_prob)"
   ]
  },
  {
   "cell_type": "code",
   "execution_count": 22,
   "metadata": {},
   "outputs": [
    {
     "name": "stdout",
     "output_type": "stream",
     "text": [
      "Input: (Min, Max) range of default landslide__probability_of_failure model inputs: (0, 1)\n",
      "Ouput: landslide__probability_of_failure default value initialized for each node:\n",
      "[ 0.  0.  0.  0.  0.  0.  0.  0.  0.  0.  0.  0.  0.  0.  0.  0.  0.  0.\n",
      "  0.  0.]\n",
      "\n",
      "Input: (Min, Max) range of default soil__mean_relative_wetness model inputs: (0, 1)\n",
      "Ouput: soil__mean_relative_wetness default value initialized for each node:\n",
      "[ 0.  0.  0.  0.  0.  0.  0.  0.  0.  0.  0.  0.  0.  0.  0.  0.  0.  0.\n",
      "  0.  0.]\n",
      "\n"
     ]
    }
   ],
   "source": [
    "value_list=['landslide__probability_of_failure','soil__mean_relative_wetness']\n",
    "test.print_list_nodevalues(ls_prob, value_list)"
   ]
  },
  {
   "cell_type": "code",
   "execution_count": 23,
   "metadata": {},
   "outputs": [
    {
     "name": "stdout",
     "output_type": "stream",
     "text": [
      "Input: (Min, Max) range of default soil__saturated_hydraulic_conductivity model inputs: (0.1, 100.0)\n",
      "Ouput: soil__saturated_hydraulic_conductivity default value initialized for each node:\n",
      "[ 74.8826363   66.29597008  52.29619267  42.36930228  34.35577694\n",
      "  20.65252391  18.72602461  18.24677006  16.13892571  12.82809754\n",
      "  10.86309331  10.25122133   9.29733171   6.73338595   6.18287432\n",
      "   4.98089536   3.2099719    0.34815856   0.12521729   0.11684311]\n",
      "\n",
      "Input: (Min, Max) range of default soil__transmissivity model inputs: (0.1, 10)\n",
      "Ouput: soil__transmissivity default value initialized for each node:\n",
      "[ 9.85768159  9.8165405   9.23522118  8.71778256  8.15595153  8.04471916\n",
      "  7.8171944   7.73145546  7.02845178  6.43397224  5.8188623   5.50991933\n",
      "  5.20317886  4.90081764  4.74793488  4.04955356  2.6650662   0.32703762\n",
      "  0.1219207   0.11625751]\n",
      "\n",
      "Input: (Min, Max) range of default soil__thickness model inputs: (0.1, 1)\n",
      "Ouput: soil__thickness default value initialized for each node:\n",
      "[ 0.13164175  0.14807145  0.17659452  0.20575705  0.2373968   0.38952717\n",
      "  0.41745082  0.42371639  0.43549688  0.50155311  0.53565427  0.53748906\n",
      "  0.55964217  0.72783852  0.76791709  0.81301719  0.83024596  0.93933526\n",
      "  0.97367307  0.99498811]\n",
      "\n"
     ]
    }
   ],
   "source": [
    "value_list = ['soil__saturated_hydraulic_conductivity','soil__transmissivity','soil__thickness']\n",
    "\n",
    "test.print_list_nodevalues(ls_prob, value_list)"
   ]
  },
  {
   "cell_type": "code",
   "execution_count": 24,
   "metadata": {},
   "outputs": [
    {
     "name": "stdout",
     "output_type": "stream",
     "text": [
      "Input: (Min, Max) range of default soil__minimum_total_cohesion model inputs: (27, 897)\n",
      "Ouput: soil__minimum_total_cohesion default value initialized for each node:\n",
      "[771  58  59 359 199 425 202 121 877 162 241 555  91 291 501  71 665 704\n",
      " 121 486]\n",
      "\n",
      "Input: (Min, Max) range of default soil__maximum_total_cohesion model inputs: (33, 903)\n",
      "Ouput: soil__maximum_total_cohesion default value initialized for each node:\n",
      "[777  64  65 365 205 431 208 127 883 168 247 561  97 297 507  77 671 710\n",
      " 127 492]\n",
      "\n",
      "Input: (Min, Max) range of default soil__mode_total_cohesion model inputs: (30, 900)\n",
      "Ouput: soil__mode_total_cohesion default value initialized for each node:\n",
      "[774  61  62 362 202 428 205 124 880 165 244 558  94 294 504  74 668 707\n",
      " 124 489]\n",
      "\n"
     ]
    }
   ],
   "source": [
    "value_list = ['soil__minimum_total_cohesion','soil__maximum_total_cohesion','soil__mode_total_cohesion']\n",
    "test.print_list_nodevalues(ls_prob, value_list)\n"
   ]
  },
  {
   "cell_type": "code",
   "execution_count": 25,
   "metadata": {},
   "outputs": [
    {
     "data": {
      "text/plain": [
       "{'topographic__slope': (0.1, 0.8),\n",
       " 'topographic__specific_contributing_area': (10, 100),\n",
       " 'soil__transmissivity': (0.1, 10),\n",
       " 'soil__mode_total_cohesion': (30, 900),\n",
       " 'soil__minimum_total_cohesion': (27, 897),\n",
       " 'soil__maximum_total_cohesion': (33, 903),\n",
       " 'soil__internal_friction_angle': (26, 37),\n",
       " 'soil__thickness': (0.1, 1),\n",
       " 'soil__density': (1999, 2001),\n",
       " 'soil__saturated_hydraulic_conductivity': (0.1, 100.0),\n",
       " 'landslide__probability_of_failure': (0, 1),\n",
       " 'soil__mean_relative_wetness': (0, 1),\n",
       " 'soil__mean_watertable_depth': (0, 1000),\n",
       " 'soil__mean_recharge': (0, 1000),\n",
       " 'soil__probability_of_saturation': (0, 1)}"
      ]
     },
     "execution_count": 25,
     "metadata": {},
     "output_type": "execute_result"
    }
   ],
   "source": [
    "test_unit_defaultpars=test.get_default_nodevalues()\n",
    "test_unit_defaultpars"
   ]
  },
  {
   "cell_type": "code",
   "execution_count": 26,
   "metadata": {},
   "outputs": [],
   "source": [
    "test.test_field_initialized_to_range(ls_prob,LandslideProbability.input_var_names,test_unit_defaultpars)"
   ]
  },
  {
   "cell_type": "markdown",
   "metadata": {},
   "source": []
  },
  {
   "cell_type": "markdown",
   "metadata": {},
   "source": [
    "Uncomment the box below to review ALL the details of what each variable represents.  \n",
    "Close the window with the upper right [x] after viewing."
   ]
  },
  {
   "cell_type": "code",
   "execution_count": 27,
   "metadata": {},
   "outputs": [],
   "source": [
    "#?LandslideProbability"
   ]
  },
  {
   "cell_type": "markdown",
   "metadata": {},
   "source": [
    "### 1.2 Check the details of mean hydrology forcing values (or any input or output variable)"
   ]
  },
  {
   "cell_type": "markdown",
   "metadata": {},
   "source": [
    "### 1.3 Choose and build a unit test for comparing recharge and depth forcing variables \n",
    "These are two different options used for calculating relative wetness which is input to the Factor of Safety Equation.  The unit test has options for comparing the range of input parameters, and  `T` and `area`are inputs to the recharge option calculation of relative wetness.\n",
    "\n",
    "`test_build_grid_unitarea()`  No area inputs required.\n",
    "\n",
    "`test_build_grid_singlepars(sca_min,sca_max)`  Range of area inputs. Static: Slope (0.1); Soil (1 m); T(10 mm/day)\n",
    "\n",
    "`test_build_grid_varpars(sca_min,sca_max)`     Range of area inputs.\n"
   ]
  },
  {
   "cell_type": "code",
   "execution_count": 28,
   "metadata": {},
   "outputs": [],
   "source": [
    "grid = test.test_build_grid_unitarea()  #no area inputs required"
   ]
  },
  {
   "cell_type": "markdown",
   "metadata": {},
   "source": [
    "### Plot maps of the grid inputs\n",
    "Let's see what one of these fields (slope) looks like on the grid of 100 x 100 m grid cells. This is an average size (30 m DEM grids, 90 m hydrology model, 6000 m atmospheric model) for distributed models that we may use as hydrologic forcings to the landslide model."
   ]
  },
  {
   "cell_type": "code",
   "execution_count": 29,
   "metadata": {},
   "outputs": [
    {
     "data": {
      "image/png": "[encoded data removed]",
      "text/plain": [
       "<Figure size 720x720 with 8 Axes>"
      ]
     },
     "metadata": {
      "needs_background": "light"
     },
     "output_type": "display_data"
    }
   ],
   "source": [
    "fields=['topographic__slope','soil__thickness','topographic__specific_contributing_area','soil__transmissivity']\n",
    "maxval=[grid.at_node['topographic__slope'].max(),\n",
    "        grid.at_node['soil__thickness'].max(),\n",
    "        grid.at_node['topographic__specific_contributing_area'].max(),\n",
    "        grid.at_node['soil__transmissivity'].max(),]\n",
    "subtitles=['Unit Slope','Unit Soil Thickness','Unit Contributing Area','Unit Transmissivity']\n",
    "colors=['terrain','copper_r','YlGnBu','PuBu']\n",
    "scalelabel=['Slope',' meters','meters','m/day']\n",
    "\n",
    "pl.plot_landslide_4variables([221,222,223,224],\n",
    "                          grid,grid,grid,grid,\n",
    "                          fields,maxval,\n",
    "                          subtitles,colors,scalelabel)"
   ]
  },
  {
   "cell_type": "code",
   "execution_count": 30,
   "metadata": {},
   "outputs": [
    {
     "name": "stdout",
     "output_type": "stream",
     "text": [
      "For the Wet scenario with relative wetness = 0.75\n",
      " Mean topographic__specific_contributing_area= 47.95 \n",
      "Recharge min, max, mean, std  [0.14498080062006399, 440.94310542569133, 108.34261453675836, 136.12911524137343] [min,max,mean,std] meters/day\n",
      "Depth min, max, mean, std  [0.032910438504743109, 0.24874702843171603, 0.13433758308969157, 0.068923252607862764] [min,max,mean,std] meters\n",
      "Remin = 0.144980800620064 \n",
      "Remean = 108.34261453675836 \n",
      "Restandard_deviation = 136.12911524137343 \n",
      "Remax = 440.94310542569133 \n",
      "Relative Wetness from Recharge= [ 750.  750.  750.  750.  750.  750.  750.  750.  750.  750.  750.  750.\n",
      "  750.  750.  750.  750.  750.  750.  750.  750.] \n",
      "\n",
      "Depth to groundwater= [ 0.03291044  0.03701786  0.04414863  0.05143926  0.0593492   0.09738179\n",
      "  0.10436271  0.1059291   0.10887422  0.12538828  0.13391357  0.13437227\n",
      "  0.13991054  0.18195963  0.19197927  0.2032543   0.20756149  0.23483381\n",
      "  0.24341827  0.24874703] \n",
      "Height of water= [ 0.09873132  0.11105359  0.13244589  0.15431779  0.1780476   0.29214538\n",
      "  0.31308812  0.31778729  0.32662266  0.37616483  0.4017407   0.4031168\n",
      "  0.41973162  0.54587889  0.57593782  0.60976289  0.62268447  0.70450144\n",
      "  0.7302548   0.74624109] \n",
      "Relative Wetness from Depth= [ 0.75574089  0.75509956  0.7542712   0.75366288  0.75317263  0.75193037\n",
      "  0.75180093  0.75177424  0.75172613  0.75149834  0.75140278  0.75139798\n",
      "  0.75134254  0.75103187  0.75097794  0.75092363  0.75090444  0.75079929\n",
      "  0.75077107  0.75075454] \n",
      "Demin_value = 0.03291043850474311 \n",
      "Demax_value = 0.24874702843171603 \n",
      "Demean = 0.13433758308969157 \n",
      "Destandard_deviation = 0.06892325260786276 \n",
      "\n",
      "The default depth inputs (min/max/mean/std): Scenario_D = [0.032910438504743109, 0.24874702843171603, 0.13433758308969157, 0.068923252607862764]\n"
     ]
    }
   ],
   "source": [
    "#Wet Scenario solving for distribution of values\n",
    "T = grid['node']['soil__transmissivity']\n",
    "theta = np.sin(np.arctan(grid['node']['topographic__slope']))\n",
    "hs = grid['node']['soil__thickness'] \n",
    "a_unit = grid['node']['topographic__specific_contributing_area']\n",
    "\n",
    "#Select a test to compare R and D min/max bounds\n",
    "Scenario=\"Wet\" #used for labeling\n",
    "rel_wet = 0.75\n",
    "[Scenario_R,Scenario_D]=pl.scenario_unit_explorer(rel_wet,Scenario,a_unit,T,theta,hs)\n",
    "print(\"\")\n",
    "print(\"The default depth inputs (min/max/mean/std): Scenario_D = {value}\".format(value=Scenario_D))"
   ]
  },
  {
   "cell_type": "code",
   "execution_count": 31,
   "metadata": {},
   "outputs": [],
   "source": [
    "distribution = 'uniform'\n",
    "n=25"
   ]
  },
  {
   "cell_type": "code",
   "execution_count": 32,
   "metadata": {},
   "outputs": [
    {
     "data": {
      "text/plain": [
       "array([ 0.,  0.,  0.,  0.,  0.,  0.,  0.,  0.,  0.,  0.,  0.,  0.,  0.,\n",
       "        0.,  0.,  0.,  0.,  0.,  0.,  0.])"
      ]
     },
     "execution_count": 32,
     "metadata": {},
     "output_type": "execute_result"
    }
   ],
   "source": [
    "LS_prob = LandslideProbability(grid,number_of_iterations=n,\n",
    "    groundwater__depth_distribution=distribution,\n",
    "    groundwater__depth_min_value=Scenario_D[0],\n",
    "    groundwater__depth_max_value=Scenario_D[1])\n",
    "\n",
    "LS_prob.grid[\"node\"][\"landslide__probability_of_failure\"]"
   ]
  },
  {
   "cell_type": "code",
   "execution_count": 33,
   "metadata": {},
   "outputs": [
    {
     "data": {
      "text/plain": [
       "array([ 0.  ,  0.  ,  0.  ,  0.  ,  0.  ,  0.84,  1.  ,  0.  ,  0.  ,\n",
       "        0.52,  0.36,  0.  ,  0.  ,  0.  ,  0.  ,  0.  ,  0.  ,  0.  ,\n",
       "        0.  ,  0.  ])"
      ]
     },
     "execution_count": 33,
     "metadata": {},
     "output_type": "execute_result"
    }
   ],
   "source": [
    "LS_prob.calculate_landslide_probability()\n",
    "LS_prob.grid[\"node\"][\"landslide__probability_of_failure\"]"
   ]
  },
  {
   "cell_type": "code",
   "execution_count": 34,
   "metadata": {},
   "outputs": [
    {
     "name": "stdout",
     "output_type": "stream",
     "text": [
      "When RW = 0.75, Unit Test Mean Depth to Water Table = 0.13 m\n",
      "When RW = 0.75, Unit Test Mean Recharge = 108.0 mm/day\n"
     ]
    }
   ],
   "source": [
    "print(\"When RW = {value}, Unit Test Mean Depth to Water Table = {value2} m\".format(value=0.75, value2=round(Scenario_D[2],2)))\n",
    "print(\"When RW = {value}, Unit Test Mean Recharge = {value2} mm/day\".format(value=0.75, value2=round(Scenario_R[2])))\n"
   ]
  },
  {
   "cell_type": "markdown",
   "metadata": {},
   "source": [
    "### Number of iterations to run Monte Carlo simulation"
   ]
  },
  {
   "cell_type": "markdown",
   "metadata": {},
   "source": [
    "The landslide component employes the infinite slope model to calculate factor-of-safety values using a Monte Carlo simulation approach, which randomly selects input values from parameter distributions. You can pick the number of iterations to run Monte Carlo simulations, but the default is 250. The higher the number of iteration, the longer the program runs, but the more precise the probability of failure result becomes.<br /> \n",
    "##### Random iterations Restart opportunity: After completing this entire notebook, go to the Dashboard, Kernal, and select Restart and Clear Output.  Execute the code from the beginning, but change the cell below to the number of iterations of your choice.  "
   ]
  },
  {
   "cell_type": "code",
   "execution_count": 35,
   "metadata": {},
   "outputs": [],
   "source": [
    "n = 25"
   ]
  },
  {
   "cell_type": "markdown",
   "metadata": {},
   "source": [
    "## Specify Recharge Distributions to compare four options"
   ]
  },
  {
   "cell_type": "markdown",
   "metadata": {},
   "source": [
    "There are _four_ different options for providing recharge for the Monte Carlo simulation.  We'll provide each of these recharge options below by specifying a recharge distribution and the necessary parameters. <br /> \n",
    "##### Restart opportunity: After completing this entire notebook, go to the Dashboard, Kernal, and select Restart and Clear Output.  Execute the code from the beginning, but change the cells below to adjust the recharge distributions."
   ]
  },
  {
   "cell_type": "markdown",
   "metadata": {},
   "source": [
    " ### 1. Recharge and Depth Options - 'uniform' distribution "
   ]
  },
  {
   "cell_type": "markdown",
   "metadata": {},
   "source": [
    "In this option, we'll apply a uniform distribution of recharge and depth based on minimum and maximum recharge and depth values.  We will then instantiate the LandslideProbability component with these parameters, as well as the grid and number of iterations we specified above.  Instantiate creates an instance of a class.  (For example, the _iPhone_ is a class and _each phone_ is an instance.)\n",
    "\n",
    "No outputs are generated by these commands as they are setting up the recharge and depth and instantiating the component.\n"
   ]
  },
  {
   "cell_type": "markdown",
   "metadata": {},
   "source": [
    "# Unit test calculations \n",
    "Given one input value for recharge and depth forcings (meters)\n",
    "to solve for one value of relative wetness \n",
    "then use the resulting Rw to back calculate and solve for the given forcing\n",
    "Expected output: algorithms solve the equations given a known value"
   ]
  },
  {
   "cell_type": "code",
   "execution_count": 36,
   "metadata": {
    "scrolled": true
   },
   "outputs": [],
   "source": [
    "# See soil thickness above set from a range of 0.1 to 3 meters\n",
    "\n",
    "distribution1 = 'uniform'\n",
    "grid_r1 = test.test_build_grid_unitarea()\n",
    "grid_d1 = test.test_build_grid_unitarea()\n",
    "\n",
    "LS_prob1_r = LandslideProbability(grid_r1,number_of_iterations=n,\n",
    "    groundwater__recharge_distribution=distribution1,\n",
    "    groundwater__recharge_min_value=Scenario_R[0],\n",
    "    groundwater__recharge_max_value=Scenario_R[1])\n",
    "\n",
    "LS_prob1_d = LandslideProbability(grid_d1,number_of_iterations=n,\n",
    "    groundwater__depth_distribution=distribution1,\n",
    "    groundwater__depth_min_value=Scenario_D[0],\n",
    "    groundwater__depth_max_value=Scenario_D[1])\n"
   ]
  },
  {
   "cell_type": "code",
   "execution_count": 37,
   "metadata": {},
   "outputs": [
    {
     "data": {
      "text/plain": [
       "array([771,  58,  59, 359, 199, 425, 202, 121, 877, 162, 241, 555,  91,\n",
       "       291, 501,  71, 665, 704, 121, 486])"
      ]
     },
     "execution_count": 37,
     "metadata": {},
     "output_type": "execute_result"
    }
   ],
   "source": [
    "grid_d1.at_node['soil__minimum_total_cohesion']"
   ]
  },
  {
   "cell_type": "code",
   "execution_count": 38,
   "metadata": {},
   "outputs": [
    {
     "data": {
      "text/plain": [
       "('soil__density',\n",
       " 'soil__internal_friction_angle',\n",
       " 'soil__maximum_total_cohesion',\n",
       " 'soil__minimum_total_cohesion',\n",
       " 'soil__mode_total_cohesion',\n",
       " 'soil__saturated_hydraulic_conductivity',\n",
       " 'soil__thickness',\n",
       " 'soil__transmissivity',\n",
       " 'topographic__slope',\n",
       " 'topographic__specific_contributing_area')"
      ]
     },
     "execution_count": 38,
     "metadata": {},
     "output_type": "execute_result"
    }
   ],
   "source": [
    "LS_prob1_d.input_var_names"
   ]
  },
  {
   "cell_type": "markdown",
   "metadata": {},
   "source": [
    "### 2. Recharge and Depth Options - 'lognormal' distribution"
   ]
  },
  {
   "cell_type": "markdown",
   "metadata": {},
   "source": [
    "In this option, we specify a lognormal distribution with a recharge and depth mean and standard deviation values.  We instantiate the LandslideProbabilty class to create a new object or 'instance' of the class/component LandslideProbability. So now we have created two instances."
   ]
  },
  {
   "cell_type": "code",
   "execution_count": 39,
   "metadata": {},
   "outputs": [],
   "source": [
    "distribution2 = 'lognormal'\n",
    "grid_r2 = test.test_build_grid_unitarea()\n",
    "grid_d2 = test.test_build_grid_unitarea()\n",
    "\n",
    "LS_prob2_r = LandslideProbability(grid_r2,number_of_iterations=n,\n",
    "    groundwater__recharge_distribution=distribution2,\n",
    "    groundwater__recharge_mean=Scenario_R[2],\n",
    "    groundwater__recharge_standard_deviation=Scenario_R[3])\n",
    "\n",
    "LS_prob2_d = LandslideProbability(grid_d2,number_of_iterations=n,\n",
    "    groundwater__depth_distribution=distribution2,\n",
    "    groundwater__depth_mean=Scenario_D[2],\n",
    "    groundwater__depth_standard_deviation=Scenario_D[3])"
   ]
  },
  {
   "cell_type": "markdown",
   "metadata": {},
   "source": [
    "### 3. Recharge and Depth Options - 'lognormal_spatial' distribution"
   ]
  },
  {
   "cell_type": "markdown",
   "metadata": {},
   "source": [
    "Similar to the previous option (#2), we use a lognormal distribution for recharge and depth.  However, in this case we provide arrays to represent mean and standard deviation values for each node in our grid.  Thus, the distribution varies for each node - representing a spatially varying distribution of recharge and depth."
   ]
  },
  {
   "cell_type": "code",
   "execution_count": 40,
   "metadata": {},
   "outputs": [],
   "source": [
    "distribution3 = 'lognormal_spatial'\n",
    "grid_r3 = test.test_build_grid_unitarea()\n",
    "grid_d3 = test.test_build_grid_unitarea()\n",
    "\n",
    "Remean3 = np.random.uniform(Scenario_R[0],Scenario_R[1],gridnum)\n",
    "Restandard_deviation3 = np.random.rand(gridnum)\n",
    "LS_prob3_r = LandslideProbability(grid_r3,number_of_iterations=n,\n",
    "    groundwater__recharge_distribution=distribution3,\n",
    "    groundwater__recharge_mean=Remean3,\n",
    "    groundwater__recharge_standard_deviation=Restandard_deviation3)\n",
    "\n",
    "Demean3 = np.random.uniform(Scenario_D[0],Scenario_D[1],gridnum)\n",
    "Destandard_deviation3 = np.random.rand(gridnum)\n",
    "LS_prob3_d = LandslideProbability(grid_d3,number_of_iterations=n,\n",
    "    groundwater__depth_distribution=distribution3,\n",
    "    groundwater__depth_mean=Demean3,\n",
    "    groundwater__depth_standard_deviation=Destandard_deviation3)\n"
   ]
  },
  {
   "cell_type": "markdown",
   "metadata": {},
   "source": [
    "### 4. Recharge and Depth 'data_driven_spatial' distributions \n",
    "\n",
    "### Generate Recharge input option "
   ]
  },
  {
   "cell_type": "markdown",
   "metadata": {},
   "source": [
    "This is the most complex representation of recharge used in the LandslideProbability component.  \n",
    "In this case, we provide recharge distributions (arrays) directly that are unique for each node.  \n",
    "\n",
    "In a real-world situation, we would acquire these from a hydrologic model that often has a coarser resolution than our grid.<br />\n",
    "Thus, we route the recharge data arrays from these larger Hydraulic Source Domain (HSD) grids down to each node of our grid. Landlab has a 'Source tracking algorithm' utility that performs this routing and produces Python dictionaries (_key: value_ pairs) that become parameters for the 'data_driven_spatial' recharge distribution.  In this synthetic example, we'll generate synthetic versions of these dictionaries."
   ]
  },
  {
   "cell_type": "code",
   "execution_count": 41,
   "metadata": {},
   "outputs": [
    {
     "name": "stdout",
     "output_type": "stream",
     "text": [
      "HSD_dict dictionary is a unique array of recharge provided as arrays (‘values’) for each of the Hydrologic Source Domain (HSD) (‘keys’). \n",
      "The entire synthetic dictionary is:\n",
      "{2: array([ 242.0609441 ,  315.39911225,  265.84194657,  240.32846601,\n",
      "        186.89122184,  284.85389455,  193.03260289,  393.23684714,\n",
      "        424.9257184 ,  169.1652832 ]), 3: array([ 349.13589281,  233.28086955,  250.53795803,  408.14624312,\n",
      "         31.45754204,   38.55141271,    9.05721248,  367.16224724,\n",
      "        343.15501728,  383.64470415]), 4: array([ 431.51811078,  352.41257719,  203.56421823,  344.20077792,\n",
      "         52.28012591,  282.22096691,   63.33484105,  416.55326783,\n",
      "        230.17474237,  182.9271863 ]), 5: array([ 116.76059848,  341.42573912,  201.21519179,  250.70959944,\n",
      "          8.4274896 ,  272.39754961,  269.95562747,  272.08832964,\n",
      "        416.14736393,  300.69008998]), 6: array([ 158.61538916,  192.78784644,  307.65950365,   26.69225575,\n",
      "        294.05449853,  295.76089603,   92.88121918,   56.97545102,\n",
      "        139.18520634,  160.46800654]), 7: array([ 251.48664787,  193.47970539,  435.81831505,   45.12614201,\n",
      "         92.21746316,   71.24991377,  288.03390584,  111.79544418,\n",
      "        205.69389497,  107.88732337])}\n",
      "The array for the HSD vkey = 2 of this unordered dictionary is:\n",
      "[ 242.0609441   315.39911225  265.84194657  240.32846601  186.89122184\n",
      "  284.85389455  193.03260289  393.23684714  424.9257184   169.1652832 ]\n"
     ]
    }
   ],
   "source": [
    "HSD_dict = {}\n",
    "for vkey in range(2,8):  #the first example vkey =2 is printed below\n",
    "    HSD_dict[vkey] = np.random.uniform(Scenario_R[0],Scenario_R[1],10)    # 20 - 120 mm/day \n",
    "print('HSD_dict dictionary is a unique array of recharge provided as arrays (‘values’) for each of the Hydrologic Source Domain (HSD) (‘keys’). ')    \n",
    "print('The entire synthetic dictionary is:')\n",
    "print(HSD_dict)\n",
    "print('The array for the HSD vkey = 2 of this unordered dictionary is:')\n",
    "print(HSD_dict[2])"
   ]
  },
  {
   "cell_type": "markdown",
   "metadata": {},
   "source": [
    "***Note: this is a much lower recharge than the uniform."
   ]
  },
  {
   "cell_type": "markdown",
   "metadata": {},
   "source": [
    "HSD_ID dictionary has the grid node ID as ‘keys’ and HSD IDs in a list as ‘values’. "
   ]
  },
  {
   "cell_type": "code",
   "execution_count": 42,
   "metadata": {},
   "outputs": [
    {
     "name": "stdout",
     "output_type": "stream",
     "text": [
      "The entire ID synthetic dictionary is:\n",
      "{5: array([7, 7]), 6: array([7, 2]), 9: array([3, 7]), 10: array([3, 5]), 13: array([2, 7]), 14: array([2, 3])}\n",
      "The array for the ckey = 5, the first index of core nodes in the dictionary is:\n",
      "[7 7]\n",
      "The two values in the array are the multiple vkeys that correspond/drain to the ckey:\n"
     ]
    }
   ],
   "source": [
    "HSD_id_dict = {}\n",
    "for ckey in grid.core_nodes:\n",
    "    HSD_id_dict[ckey] = np.random.randint(2,8,2)\n",
    "print('The entire ID synthetic dictionary is:')\n",
    "print(HSD_id_dict)\n",
    "print('The array for the ckey = 5, the first index of core nodes in the dictionary is:')\n",
    "print(HSD_id_dict[5])\n",
    "print('The two values in the array are the multiple vkeys that correspond/drain to the ckey:')\n"
   ]
  },
  {
   "cell_type": "markdown",
   "metadata": {},
   "source": [
    "The fractions dictionary assigns to each node ID as ‘key’ a lists the fractions of each HSD draining to the node as ‘values’. "
   ]
  },
  {
   "cell_type": "code",
   "execution_count": 43,
   "metadata": {},
   "outputs": [
    {
     "name": "stdout",
     "output_type": "stream",
     "text": [
      "The entire ID synthetic dictionary is:\n",
      "{5: array([ 0.83794491,  0.09609841]), 6: array([ 0.97645947,  0.4686512 ]), 9: array([ 0.97676109,  0.60484552]), 10: array([ 0.73926358,  0.03918779]), 13: array([ 0.28280696,  0.12019656]), 14: array([ 0.2961402 ,  0.11872772])}\n",
      "The fractional values (sum=1) in the array can be used to add the multiple vkeys that correspond/drain to each key:\n",
      "[ 0.83794491  0.09609841]\n"
     ]
    }
   ],
   "source": [
    "fract_dict = {}\n",
    "for ckey in grid.core_nodes:\n",
    "    fract_dict[ckey] =  np.random.rand(2)\n",
    "print('The entire ID synthetic dictionary is:')\n",
    "print(fract_dict)\n",
    "print('The fractional values (sum=1) in the array can be used to add the multiple vkeys that correspond/drain to each key:')\n",
    "print(fract_dict[5])"
   ]
  },
  {
   "cell_type": "markdown",
   "metadata": {},
   "source": [
    "When the component is instantiated, the three dictionaries are provided as the 'parameters' for the distribution in explicit order."
   ]
  },
  {
   "cell_type": "markdown",
   "metadata": {},
   "source": [
    "### Generate Depth to water table Input option"
   ]
  },
  {
   "cell_type": "code",
   "execution_count": 44,
   "metadata": {},
   "outputs": [
    {
     "name": "stdout",
     "output_type": "stream",
     "text": [
      "The values assigned to the first node (key) are: \n",
      "[ 0.10154284  0.12232355  0.04675582  0.18237126  0.15520376  0.0901912\n",
      "  0.14584651  0.05318624  0.15722077  0.23348656]\n"
     ]
    }
   ],
   "source": [
    "key=np.arange(grid.number_of_nodes)\n",
    "HSD_inputs_d={}\n",
    "\n",
    "for i in range(grid.number_of_nodes):\n",
    "    annualmaxDWT=np.random.uniform(Scenario_D[0],Scenario_D[1],10)\n",
    "    HSD_inputs_d[i] = (annualmaxDWT)\n",
    "\n",
    "#print(HSD_inputs_d)\n",
    "print('The values assigned to the first node (key) are: ')\n",
    "print(HSD_inputs_d[0])"
   ]
  },
  {
   "cell_type": "markdown",
   "metadata": {},
   "source": [
    "### Calculate landslide component input distributions"
   ]
  },
  {
   "cell_type": "code",
   "execution_count": 45,
   "metadata": {},
   "outputs": [],
   "source": [
    "distribution4 = 'data_driven_spatial'\n",
    "grid_r4 = test.test_build_grid_unitarea()\n",
    "grid_d4 = test.test_build_grid_unitarea()\n",
    "\n",
    "HSD_inputs_r = [HSD_dict,HSD_id_dict,fract_dict]\n",
    "LS_prob4_r = LandslideProbability(grid_r4,number_of_iterations=n,\n",
    "    groundwater__recharge_distribution=distribution4,\n",
    "    groundwater__recharge_HSD_inputs=HSD_inputs_r)\n",
    "\n",
    "LS_prob4_d = LandslideProbability(grid_d4,number_of_iterations=n,\n",
    "    groundwater__depth_distribution=distribution4,\n",
    "    groundwater__depth_HSD_inputs=HSD_inputs_d)\n"
   ]
  },
  {
   "cell_type": "markdown",
   "metadata": {},
   "source": [
    "## Run the Landslide Component "
   ]
  },
  {
   "cell_type": "markdown",
   "metadata": {},
   "source": [
    "To generate the outputs from running the component, we call the 'calculate_landslide_probability' method inside the component using the class instance (e.g., LS_prob1) for each recharge option specified above. The following cell runs the model; in the following section we will assessing the results."
   ]
  },
  {
   "cell_type": "markdown",
   "metadata": {},
   "source": [
    "###  Run the Landslide Component in Default Parameters for Depth Forcing Uniform Distribution\n",
    "\n",
    "Uniform recharge; default parameters."
   ]
  },
  {
   "cell_type": "markdown",
   "metadata": {},
   "source": [
    "Running the unit test cell will give the same solution each time you run the same grid is created inside the test, every time the test model is run. "
   ]
  },
  {
   "cell_type": "markdown",
   "metadata": {},
   "source": [
    "These model output arrays are attached to the grid as fields. When we run the model for a different recharge, these fields are over-written. \n",
    "\n",
    "###  Run the Landslide Component and Save Outputs for Four Different Modes\n",
    "\n",
    "Run the remaining three recharge options and save the arrays as variables for plotting."
   ]
  },
  {
   "cell_type": "markdown",
   "metadata": {},
   "source": [
    "**Unit Tests** for Landslide Probability calculations using four variations of statistical and data generated forcings for recharge and depth.\n",
    "\n",
    "`test_calculate_landslide_probability_uniform_depth_method()`\n",
    "and \n",
    "`test_calculate_landslide_probability_uniform_recharge_method()` "
   ]
  },
  {
   "cell_type": "code",
   "execution_count": 46,
   "metadata": {},
   "outputs": [],
   "source": [
    "LS_prob_test_d1=test.test_calculate_landslide_probability_uniform_depth_method()"
   ]
  },
  {
   "cell_type": "code",
   "execution_count": 47,
   "metadata": {},
   "outputs": [
    {
     "name": "stdout",
     "output_type": "stream",
     "text": [
      "Unit test core node 6 = 0.84\n",
      "Unit test core node 10 = 0.52\n"
     ]
    }
   ],
   "source": [
    "grid_test_d1=LS_prob_test_d1.grid\n",
    "print(\"Unit test core node 6 = {value}\".format(value=grid_test_d1.at_node[\"landslide__probability_of_failure\"][5]))\n",
    "print(\"Unit test core node 10 = {value}\".format(value=grid_test_d1.at_node[\"landslide__probability_of_failure\"][9]))\n"
   ]
  },
  {
   "cell_type": "markdown",
   "metadata": {},
   "source": [
    "Running this cell will give a similar but new solution each time you run the model since a new grid is passed into the function each time you run the cell (from LS_prob1_d)"
   ]
  },
  {
   "cell_type": "code",
   "execution_count": 48,
   "metadata": {},
   "outputs": [
    {
     "name": "stdout",
     "output_type": "stream",
     "text": [
      "Ouput Failure: landslide__probability_of_failure value calculated for each node:\n",
      "[ 0.    0.    0.    0.    0.    0.84  1.    0.    0.    0.52  0.36  0.\n",
      "  0.    0.    0.    0.    0.    0.    0.    0.  ]\n",
      "\n",
      "Unit test core node 6 = 0.84\n",
      "Unit test core node 10 = 0.52\n"
     ]
    }
   ],
   "source": [
    "test.print_failure_nodevalues(LS_prob_test_d1)\n",
    "test.print_testcore_nodevalues(LS_prob_test_d1)"
   ]
  },
  {
   "cell_type": "markdown",
   "metadata": {},
   "source": [
    "The outputs of model simulations are:"
   ]
  },
  {
   "cell_type": "code",
   "execution_count": 49,
   "metadata": {},
   "outputs": [
    {
     "name": "stdout",
     "output_type": "stream",
     "text": [
      "Ouput Failure: landslide__probability_of_failure value calculated for each node:\n",
      "[ 0.    0.    0.    0.    0.    0.92  0.92  0.    0.    0.92  0.96  0.\n",
      "  0.    0.08  0.    0.    0.    0.    0.    0.  ]\n",
      "\n",
      "Unit test core node 6 = 0.92\n",
      "Unit test core node 10 = 0.92\n"
     ]
    }
   ],
   "source": [
    "LS_prob_test_r1=test.test_calculate_landslide_probability_uniform_recharge_method()\n",
    "grid_test_r1=LS_prob_test_r1.grid\n",
    "test.print_failure_nodevalues(LS_prob_test_r1)\n",
    "test.print_testcore_nodevalues(LS_prob_test_r1)"
   ]
  },
  {
   "cell_type": "code",
   "execution_count": 50,
   "metadata": {},
   "outputs": [],
   "source": [
    "LS_prob1_d=test.test_calculate_landslide_probability_uniform_depth_method()\n",
    "LS_prob1_r=test.test_calculate_landslide_probability_uniform_recharge_method()"
   ]
  },
  {
   "cell_type": "code",
   "execution_count": 51,
   "metadata": {},
   "outputs": [
    {
     "name": "stdout",
     "output_type": "stream",
     "text": [
      "Input: (Min, Max) range of default landslide__probability_of_failure model inputs: (0, 1)\n",
      "Ouput: landslide__probability_of_failure default value initialized for each node:\n",
      "[ 0.    0.    0.    0.    0.    0.84  1.    0.    0.    0.52  0.36  0.\n",
      "  0.    0.    0.    0.    0.    0.    0.    0.  ]\n",
      "\n",
      "Input: (Min, Max) range of default landslide__probability_of_failure model inputs: (0, 1)\n",
      "Ouput: landslide__probability_of_failure default value initialized for each node:\n",
      "[ 0.    0.    0.    0.    0.    0.92  0.92  0.    0.    0.92  0.96  0.\n",
      "  0.    0.08  0.    0.    0.    0.    0.    0.  ]\n",
      "\n"
     ]
    }
   ],
   "source": [
    "test.print_list_nodevalues(LS_prob1_d,['landslide__probability_of_failure'])\n",
    "test.print_list_nodevalues(LS_prob1_r,['landslide__probability_of_failure'])"
   ]
  },
  {
   "cell_type": "code",
   "execution_count": 52,
   "metadata": {},
   "outputs": [
    {
     "data": {
      "text/plain": [
       "<landlab.components.landslides.landslide_probability.LandslideProbability at 0x1f43b181c08>"
      ]
     },
     "execution_count": 52,
     "metadata": {},
     "output_type": "execute_result"
    }
   ],
   "source": [
    "test.test_calculate_landslide_probability_lognormal_depth_method()"
   ]
  },
  {
   "cell_type": "code",
   "execution_count": 63,
   "metadata": {
    "scrolled": false
   },
   "outputs": [
    {
     "name": "stdout",
     "output_type": "stream",
     "text": [
      "Ouput Failure: landslide__probability_of_failure value calculated for each node:\n",
      "[ 0.    0.    0.    0.    0.    0.84  0.92  0.    0.    0.6   0.24  0.\n",
      "  0.    0.    0.    0.    0.    0.    0.    0.  ]\n",
      "\n",
      "Unit test core node 6 = 0.84\n",
      "Unit test core node 10 = 0.6\n"
     ]
    }
   ],
   "source": [
    "LS_prob_test_d2=test.test_calculate_landslide_probability_lognormal_depth_method()\n",
    "grid_test_d2=LS_prob_test_d2.grid\n",
    "test.print_failure_nodevalues(LS_prob_test_d2)\n",
    "test.print_testcore_nodevalues(LS_prob_test_d2)"
   ]
  },
  {
   "cell_type": "code",
   "execution_count": 64,
   "metadata": {},
   "outputs": [
    {
     "name": "stdout",
     "output_type": "stream",
     "text": [
      "Ouput Failure: landslide__probability_of_failure value calculated for each node:\n",
      "[ 0.    0.    0.    0.    0.    0.88  0.92  0.    0.    0.88  0.8   0.\n",
      "  0.    0.04  0.    0.    0.    0.    0.    0.  ]\n",
      "\n",
      "Unit test core node 6 = 0.88\n",
      "Unit test core node 10 = 0.88\n"
     ]
    }
   ],
   "source": [
    "LS_prob_test_r2=test.test_calculate_landslide_probability_lognormal_recharge_method()\n",
    "grid_test_r2=LS_prob_test_r2.grid\n",
    "test.print_failure_nodevalues(LS_prob_test_r2)\n",
    "test.print_testcore_nodevalues(LS_prob_test_r2)"
   ]
  },
  {
   "cell_type": "code",
   "execution_count": 69,
   "metadata": {
    "scrolled": false
   },
   "outputs": [
    {
     "name": "stdout",
     "output_type": "stream",
     "text": [
      "Ouput Failure: landslide__probability_of_failure value calculated for each node:\n",
      "[ 0.    0.    0.    0.    0.    0.72  0.76  0.    0.    0.96  0.6   0.\n",
      "  0.    0.04  0.08  0.    0.    0.    0.    0.  ]\n",
      "\n",
      "Unit test core node 6 = 0.72\n",
      "Unit test core node 10 = 0.96\n",
      "Ouput Failure: landslide__probability_of_failure value calculated for each node:\n",
      "[ 0.    0.    0.    0.    0.    1.    1.    0.    0.    1.    0.92  0.\n",
      "  0.    0.08  0.08  0.    0.    0.    0.    0.  ]\n",
      "\n",
      "Unit test core node 6 = 1.0\n",
      "Unit test core node 10 = 1.0\n"
     ]
    }
   ],
   "source": [
    "LS_prob_test_d3=test.test_calculate_landslide_probability_lognormal_spatial_depth_method()\n",
    "grid_test_d3=LS_prob_test_d3.grid\n",
    "test.print_failure_nodevalues(LS_prob_test_d3)\n",
    "test.print_testcore_nodevalues(LS_prob_test_d3)\n",
    "\n",
    "LS_prob3_r_unit=test.test_calculate_landslide_probability_lognormal_spatial_recharge_method()\n",
    "grid_test_r3=LS_prob3_r_unit.grid\n",
    "test.print_failure_nodevalues(LS_prob3_r_unit)\n",
    "test.print_testcore_nodevalues(LS_prob3_r_unit)\n"
   ]
  },
  {
   "cell_type": "markdown",
   "metadata": {},
   "source": [
    "**Use Unit Test function** to calculate data driven spatial failure probability with two methods (depth, recharge)"
   ]
  },
  {
   "cell_type": "code",
   "execution_count": 80,
   "metadata": {
    "scrolled": false
   },
   "outputs": [
    {
     "name": "stdout",
     "output_type": "stream",
     "text": [
      "Recharge Hydrologic Forcing\n",
      "Ouput Failure: landslide__probability_of_failure value calculated for each node:\n",
      "[ 0.    0.    0.    0.    0.    0.96  0.84  0.    0.    0.84  1.    0.\n",
      "  0.    0.08  0.    0.    0.    0.    0.    0.  ]\n",
      "\n",
      "Unit test core node 6 = 0.96\n",
      "Unit test core node 10 = 0.84\n",
      "\n",
      "Depth Hydrologic Forcing\n",
      "Ouput Failure: landslide__probability_of_failure value calculated for each node:\n",
      "[ 0.    0.    0.    0.    0.    0.96  0.96  0.    0.    0.88  0.32  0.\n",
      "  0.    0.    0.    0.    0.    0.    0.    0.  ]\n",
      "\n",
      "Unit test core node 6 = 0.96\n",
      "Unit test core node 10 = 0.88\n"
     ]
    }
   ],
   "source": [
    "LS_prob_test_d4=test.test_calculate_landslide_probability_datadriven_spatial_depth_method()\n",
    "grid_test_d4=LS_prob_test_d4.grid\n",
    "LS_prob_test_r4=test.test_calculate_landslide_probability_datadriven_spatial_recharge_method()\n",
    "grid_test_r4=LS_prob_test_r4.grid\n",
    "print(\"Recharge Hydrologic Forcing\")\n",
    "test.print_failure_nodevalues(LS_prob_test_r4)\n",
    "test.print_testcore_nodevalues(LS_prob_test_r4)\n",
    "print(\"\")\n",
    "print(\"Depth Hydrologic Forcing\")\n",
    "test.print_failure_nodevalues(LS_prob_test_d4)\n",
    "test.print_testcore_nodevalues(LS_prob_test_d4)"
   ]
  },
  {
   "cell_type": "markdown",
   "metadata": {},
   "source": [
    "# Plot Unit Tests"
   ]
  },
  {
   "cell_type": "code",
   "execution_count": 81,
   "metadata": {},
   "outputs": [
    {
     "data": {
      "image/png": "[encoded data removed]",
      "text/plain": [
       "<Figure size 720x720 with 8 Axes>"
      ]
     },
     "metadata": {
      "needs_background": "light"
     },
     "output_type": "display_data"
    }
   ],
   "source": [
    "fields=['soil__probability_of_saturation','soil__mean_relative_wetness','soil__mean_watertable_depth','landslide__probability_of_failure']\n",
    "maxval=[1,1, Scenario_D[1],1,]\n",
    "subtitles=['Prob.of Saturation','Relative Wetness','mean_watertable_depth','Probality of Failure']\n",
    "colors=['YlGnBu','YlGnBu','YlGnBu','OrRd']\n",
    "scalelabel=['Probability',' Wetness','Depth (m)','Probability']\n",
    "\n",
    "pl.plot_landslide_4variables([221,222,223,224],\n",
    "                          grid_test_d1,grid_test_d1,grid_test_d1,grid_test_d1,\n",
    "                          fields,maxval,\n",
    "                          subtitles,colors,scalelabel)"
   ]
  },
  {
   "cell_type": "code",
   "execution_count": 82,
   "metadata": {},
   "outputs": [
    {
     "data": {
      "image/png": "[encoded data removed]",
      "text/plain": [
       "<Figure size 720x720 with 8 Axes>"
      ]
     },
     "metadata": {
      "needs_background": "light"
     },
     "output_type": "display_data"
    }
   ],
   "source": [
    "fields=['soil__probability_of_saturation','soil__mean_relative_wetness','soil__mean_recharge','landslide__probability_of_failure']\n",
    "maxval=[1,1, Scenario_R[1]/1000,1,]\n",
    "subtitles=['Prob.of Saturation','Relative Wetness','Mean Recharge','Probality of Failure']\n",
    "colors=['YlGnBu','YlGnBu','YlGnBu','OrRd']\n",
    "scalelabel=['Probability',' Wetness','Recharge (mm/day)','Probability']\n",
    "\n",
    "pl.plot_landslide_4variables([221,222,223,224],\n",
    "                          grid_test_r1,grid_test_r1,grid_test_r1,grid_test_r1,\n",
    "                          fields,maxval,\n",
    "                          subtitles,colors,scalelabel)"
   ]
  },
  {
   "cell_type": "code",
   "execution_count": 83,
   "metadata": {},
   "outputs": [
    {
     "data": {
      "image/png": "[encoded data removed]",
      "text/plain": [
       "<Figure size 720x720 with 8 Axes>"
      ]
     },
     "metadata": {
      "needs_background": "light"
     },
     "output_type": "display_data"
    }
   ],
   "source": [
    "fields=['landslide__probability_of_failure','landslide__probability_of_failure','landslide__probability_of_failure','landslide__probability_of_failure']\n",
    "maxval=[1,1,1,1,]\n",
    "subtitles=['Uniform-Depth-Failure','Lognormal-Depth-Failure','LN-Spatial-Depth-Failure','DataSpatial-Depth-Failure']\n",
    "colors=['OrRd','OrRd','OrRd','OrRd']\n",
    "scalelabel=['Probability','Probability','Probability','Probability']\n",
    "\n",
    "pl.plot_landslide_4variables([221,222,223,224],\n",
    "                          grid_test_d1,grid_test_d2,grid_test_d3,grid_test_d4,\n",
    "                          fields,maxval,\n",
    "                          subtitles,colors,scalelabel)"
   ]
  },
  {
   "cell_type": "code",
   "execution_count": 84,
   "metadata": {},
   "outputs": [
    {
     "data": {
      "image/png": "[encoded data removed]",
      "text/plain": [
       "<Figure size 720x720 with 8 Axes>"
      ]
     },
     "metadata": {
      "needs_background": "light"
     },
     "output_type": "display_data"
    }
   ],
   "source": [
    "fields=['landslide__probability_of_failure','landslide__probability_of_failure','landslide__probability_of_failure','landslide__probability_of_failure']\n",
    "maxval=[1,1,1,1,]\n",
    "subtitles=['Uniform-Recharge-Failure','Lognormal-Recharge-Failure','LN-Spatial-Recharge-Failure','DataSpatial-Recharge-Failure']\n",
    "colors=['OrRd','OrRd','OrRd','OrRd']\n",
    "scalelabel=['Probability','Probability','Probability','Probability']\n",
    "\n",
    "pl.plot_landslide_4variables([221,222,223,224],\n",
    "                          grid_test_r1,grid_test_r2,grid_test_r3,grid_test_r4,\n",
    "                          fields,maxval,\n",
    "                          subtitles,colors,scalelabel)"
   ]
  },
  {
   "cell_type": "markdown",
   "metadata": {},
   "source": [
    "**Use Landslide Component** to calculate data driven spatial failure probability with two methods (depth, recharge) **different results are expected each time this is run**"
   ]
  },
  {
   "cell_type": "code",
   "execution_count": 85,
   "metadata": {
    "scrolled": true
   },
   "outputs": [
    {
     "name": "stdout",
     "output_type": "stream",
     "text": [
      "Recharge Hydrologic Forcing\n",
      "Input: (Min, Max) range of default landslide__probability_of_failure model inputs: (0, 1)\n",
      "Ouput: landslide__probability_of_failure default value initialized for each node:\n",
      "[ 0.    0.    0.    0.    0.    1.    1.    0.    0.    0.92  0.8   0.\n",
      "  0.    0.24  0.    0.    0.    0.    0.    0.  ]\n",
      "\n",
      "Ouput Failure: landslide__probability_of_failure value calculated for each node:\n",
      "[ 0.    0.    0.    0.    0.    1.    1.    0.    0.    0.92  0.8   0.\n",
      "  0.    0.24  0.    0.    0.    0.    0.    0.  ]\n",
      "\n",
      "Depth Hydrologic Forcing\n",
      "Input: (Min, Max) range of default landslide__probability_of_failure model inputs: (0, 1)\n",
      "Ouput: landslide__probability_of_failure default value initialized for each node:\n",
      "[ 0.    0.    0.    0.    0.    0.96  0.88  0.    0.    0.64  0.36  0.\n",
      "  0.    0.    0.    0.    0.    0.    0.    0.  ]\n",
      "\n",
      "Ouput Failure: landslide__probability_of_failure value calculated for each node:\n",
      "[ 0.    0.    0.    0.    0.    0.96  0.88  0.    0.    0.64  0.36  0.\n",
      "  0.    0.    0.    0.    0.    0.    0.    0.  ]\n",
      "\n"
     ]
    }
   ],
   "source": [
    "print(\"Recharge Hydrologic Forcing\")\n",
    "LS_prob4_r.calculate_landslide_probability()\n",
    "test.print_list_nodevalues(LS_prob4_r,[\"landslide__probability_of_failure\"])\n",
    "test.print_failure_nodevalues(LS_prob4_r)\n",
    "print(\"Depth Hydrologic Forcing\")\n",
    "LS_prob4_d.calculate_landslide_probability()\n",
    "test.print_list_nodevalues(LS_prob4_d,[\"landslide__probability_of_failure\"])\n",
    "test.print_failure_nodevalues(LS_prob4_d)"
   ]
  },
  {
   "cell_type": "code",
   "execution_count": null,
   "metadata": {},
   "outputs": [],
   "source": []
  },
  {
   "cell_type": "code",
   "execution_count": null,
   "metadata": {},
   "outputs": [],
   "source": []
  },
  {
   "cell_type": "code",
   "execution_count": null,
   "metadata": {},
   "outputs": [],
   "source": []
  },
  {
   "cell_type": "code",
   "execution_count": null,
   "metadata": {},
   "outputs": [],
   "source": []
  },
  {
   "cell_type": "markdown",
   "metadata": {},
   "source": [
    "<img src=\"https://www.washington.edu/brand/files/2014/09/W-Logo_Purple_Hex.png\" style=\"float:right;width:200px;padding:20px\">   \n"
   ]
  },
  {
   "cell_type": "markdown",
   "metadata": {},
   "source": [
    "The development of this Notebook has been made possible by the Landlab project funded by the National Science Foundation (OAC 1450338 to N. Gasparini, OAC 1450409 to G. Tucker, OAC 1450412 to E. Istanbulluoglu)."
   ]
  },
  {
   "cell_type": "code",
   "execution_count": null,
   "metadata": {},
   "outputs": [],
   "source": []
  }
 ],
 "metadata": {
  "anaconda-cloud": {},
  "kernelspec": {
   "display_name": "Python 3",
   "language": "python",
   "name": "python3"
  },
  "language_info": {
   "codemirror_mode": {
    "name": "ipython",
    "version": 3
   },
   "file_extension": ".py",
   "mimetype": "text/x-python",
   "name": "python",
   "nbconvert_exporter": "python",
   "pygments_lexer": "ipython3",
   "version": "3.7.7"
  }
 },
 "nbformat": 4,
 "nbformat_minor": 1
}
