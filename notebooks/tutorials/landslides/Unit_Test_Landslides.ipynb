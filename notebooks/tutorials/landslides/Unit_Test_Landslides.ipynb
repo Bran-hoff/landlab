{
 "cells": [
  {
   "cell_type": "markdown",
   "metadata": {},
   "source": [
    "<a href=\"http://landlab.github.io\"><img style=\"float: left\" src=\"../../landlab_header.png\"></a>"
   ]
  },
  {
   "cell_type": "markdown",
   "metadata": {},
   "source": [
    "# Understanding and working with the Landlab Landslide Component Unit Tests "
   ]
  },
  {
   "cell_type": "markdown",
   "metadata": {},
   "source": [
    "\n",
    "<hr>\n",
    "<small>For more Landlab tutorials, click here: <a href=\"https://landlab.readthedocs.io/en/latest/user_guide/tutorials.html\">https://landlab.readthedocs.io/en/latest/user_guide/tutorials.html</a></small>\n",
    "<hr>"
   ]
  },
  {
   "cell_type": "markdown",
   "metadata": {},
   "source": [
    "This Jupyter Notebook runs the unit tests for the Landlab LandslideProbability component on a synthetic Landlab grid. Depth to Groundwater is included as a hydrologic forcing options to using the four recharge options. <br />."
   ]
  },
  {
   "cell_type": "markdown",
   "metadata": {},
   "source": [
    "## 0.  Software Setup and Preparation\n",
    "\n",
    "To run this notebook, we must import several libraries.\n",
    "The hs_utils library provides functions for interacting with HydroShare, including resource querying, dowloading, and creation.  Additional libraries support the functions of Landlab. \n",
    "\n",
    "### Import Landlab and other Python utilities"
   ]
  },
  {
   "cell_type": "code",
   "execution_count": 1,
   "metadata": {
    "scrolled": true
   },
   "outputs": [],
   "source": [
    "import numpy as np\n",
    "from landlab import RasterModelGrid\n",
    "import landlab.plot.landslides.plot_landslides as pl\n",
    "import landlab.grid.landslide_unitgrid as lgd\n",
    "import tests.components.landslides.test_landslide_probability as test\n",
    "from landlab.components.landslides import LandslideProbability"
   ]
  },
  {
   "cell_type": "markdown",
   "metadata": {},
   "source": [
    "### Landslide Component Definitions\n",
    "#### key variables and functions in `test_landslide_probability.py`\n",
    "\n",
    "\n",
    "`grid` is the Landlab raster model grid initialization\n",
    "\n",
    "`ls_grid` is a `grid`  with landslide parameters added to nodes\n",
    "The input fields (see input_var_names) on the node are initialized in this step.\n",
    "\n",
    "`ls_grid` is input to `LandslideProbability()` to add model parameters to define the size of the Monte Carlo method, statistical distribution (four options), and hydrologic forcings (two options: recharge OR depth to water table) for the landslide model. A distribution of hydrologic forcing is used to calculate the probability of lansdlides in the Factor of Safety equation; the mean hydrologic forcing  per node has been added as a model output (in addition to relative wetness, probability of saturation, and probability of failure). \n",
    "\n",
    "`ls_prob` is the output of `LandslideProbability()` and considered a model instance (or model initialization).\n",
    "\n",
    "`ls_prob` is the input to `calculate_landslide_probability()`. Model results are saved in the same input dictionary by adding output fields.\n",
    "\n",
    "`ls_prob` is both the input and output of  `calculate_landslide_probability()` and should be saved, or recalculated with a clean `ls_grid` to ensure variables are saved as expected (not overwritten) for each change of parameters and model calculation.\n",
    "\n",
    "The output fields (see output_var_names) on the node are initialized to zero, and contain the model results. "
   ]
  },
  {
   "cell_type": "markdown",
   "metadata": {},
   "source": [
    "## 1. Create a unit grid with landslide unit_default data fields used to test the component "
   ]
  },
  {
   "cell_type": "markdown",
   "metadata": {},
   "source": [
    "**1.1 Unit Test -`test_build_grid_unitarea()`  new function added for Version 2** \n",
    "\n",
    "This function builds a unit model domain to test the component with a set of default spatially distributed parameters.\n",
    "\n",
    "For the unit test, we built a Landlab grid with 5 rows and 4 columns where each \n",
    "unit is sized 10 m x 10 m for each grid cell (at_node: 5 rows, 4 columns)."
   ]
  },
  {
   "cell_type": "markdown",
   "metadata": {},
   "source": [
    "**T1: Run the test `test_build_grid_unitarea()`**"
   ]
  },
  {
   "cell_type": "code",
   "execution_count": 2,
   "metadata": {},
   "outputs": [
    {
     "data": {
      "text/plain": [
       "RasterModelGrid((5, 4), xy_spacing=(10.0, 10.0), xy_of_lower_left=(0.0, 0.0))"
      ]
     },
     "execution_count": 2,
     "metadata": {},
     "output_type": "execute_result"
    }
   ],
   "source": [
    "test.test_build_grid_unitarea() "
   ]
  },
  {
   "cell_type": "markdown",
   "metadata": {},
   "source": [
    "**Run the test and investigate `test_build_grid_unitarea()` outputs**"
   ]
  },
  {
   "cell_type": "code",
   "execution_count": 3,
   "metadata": {},
   "outputs": [
    {
     "name": "stdout",
     "output_type": "stream",
     "text": [
      "The test grid `unitgrid` is a Landlab RasterModelGrid: <xarray.Dataset>\n",
      "Dimensions:         (Two: 2, cell: 6, face: 17, link: 31, max_patch_links: 4, node: 20, patch: 12)\n",
      "Coordinates:\n",
      "  * node            (node) int32 0 1 2 3 4 5 6 7 8 ... 12 13 14 15 16 17 18 19\n",
      "Dimensions without coordinates: Two, cell, face, link, max_patch_links, patch\n",
      "Data variables:\n",
      "    mesh            <U1 'a'\n",
      "    y_of_node       (node) float64 0.0 0.0 0.0 0.0 10.0 ... 40.0 40.0 40.0 40.0\n",
      "    x_of_node       (node) float64 0.0 10.0 20.0 30.0 0.0 ... 0.0 10.0 20.0 30.0\n",
      "    nodes_at_link   (link, Two) int32 0 1 1 2 2 3 0 4 ... 19 16 17 17 18 18 19\n",
      "    links_at_patch  (patch, max_patch_links) int32 4 7 3 0 5 ... 22 27 30 26 23\n",
      "    node_at_cell    (cell) int32 5 6 9 10 13 14\n",
      "    nodes_at_face   (face, Two) int32 1 5 2 6 4 5 5 6 ... 14 14 15 13 17 14 18. \n"
     ]
    },
    {
     "data": {
      "text/plain": [
       "RasterModelGrid((5, 4), xy_spacing=(10.0, 10.0), xy_of_lower_left=(0.0, 0.0))"
      ]
     },
     "execution_count": 3,
     "metadata": {},
     "output_type": "execute_result"
    }
   ],
   "source": [
    "unitgrid = test.test_build_grid_unitarea()  \n",
    "print('The test grid `unitgrid` is a Landlab RasterModelGrid: {value}. '.format(value=unitgrid))\n",
    "unitgrid"
   ]
  },
  {
   "cell_type": "markdown",
   "metadata": {},
   "source": [
    "We can see how many core nodes we use in the unit grid (i.e., the nodes that calculations are performed on) in the center of the grid...not the edges, which are 'closed nodes'.  The spacing between nodes is equivalent to the grid cell edge length.  Nodes are the centroid of each grid."
   ]
  },
  {
   "cell_type": "code",
   "execution_count": 4,
   "metadata": {},
   "outputs": [
    {
     "name": "stdout",
     "output_type": "stream",
     "text": [
      "The unit grid has 20 total grid cells (nodes), including the boundary nodes.\n",
      "The unit grid has 10.0 m grid cell size (space between nodes).\n",
      "Core nodes are the center of a Landlab model grid.\n",
      "Landslide calculations are made only on 6 core nodes.\n",
      "This is the array of Landlab node values used to index the core nodes (dictionary key)\n"
     ]
    },
    {
     "data": {
      "text/plain": [
       "array([ 5,  6,  9, 10, 13, 14])"
      ]
     },
     "execution_count": 4,
     "metadata": {},
     "output_type": "execute_result"
    }
   ],
   "source": [
    "gridnum = unitgrid.number_of_nodes\n",
    "print('The unit grid has {value} total grid cells (nodes), including the boundary nodes.'.format(value=unitgrid.number_of_nodes)) \n",
    "print('The unit grid has {value} m grid cell size (space between nodes).'.format(value=unitgrid.dx)) \n",
    "grid_cnum = unitgrid.number_of_core_nodes\n",
    "print(\"Core nodes are the center of a Landlab model grid.\")\n",
    "print(\"Landslide calculations are made only on {value} core nodes.\".format(value=grid_cnum))\n",
    "print(\"This is the array of Landlab node values used to index the core nodes (dictionary key)\")\n",
    "unitgrid.core_nodes"
   ]
  },
  {
   "cell_type": "code",
   "execution_count": 5,
   "metadata": {},
   "outputs": [],
   "source": [
    "#unitgrid?"
   ]
  },
  {
   "cell_type": "markdown",
   "metadata": {},
   "source": [
    "To read more documentation about this dataset type:\n",
    "\n",
    "Use `RasterModelGrid?` OR `unitgrid?` OR uncomment cell above.\n",
    "\n",
    "<hr>\n",
    "<small>For more Introduction to Landlab’s Gridding Library, click here: <a href=\"https://landlab.readthedocs.io/en/latest/user_guide/grid.html\">https://landlab.readthedocs.io/en/latest/user_guide/grid.html</a></small>\n",
    "<hr>"
   ]
  },
  {
   "cell_type": "markdown",
   "metadata": {},
   "source": [
    "The Landlab grid variable we input to `LandslideProbability` is the `unitgrid`, it has inputs and outputs on each node, but only calculated on the core nodes."
   ]
  },
  {
   "cell_type": "code",
   "execution_count": 6,
   "metadata": {},
   "outputs": [
    {
     "name": "stdout",
     "output_type": "stream",
     "text": [
      "Landslide Component Input Variables at each grid/node\n"
     ]
    },
    {
     "data": {
      "text/plain": [
       "('soil__density',\n",
       " 'soil__internal_friction_angle',\n",
       " 'soil__maximum_total_cohesion',\n",
       " 'soil__minimum_total_cohesion',\n",
       " 'soil__mode_total_cohesion',\n",
       " 'soil__saturated_hydraulic_conductivity',\n",
       " 'soil__thickness',\n",
       " 'soil__transmissivity',\n",
       " 'topographic__slope',\n",
       " 'topographic__specific_contributing_area')"
      ]
     },
     "execution_count": 6,
     "metadata": {},
     "output_type": "execute_result"
    }
   ],
   "source": [
    "ls_prob = LandslideProbability(unitgrid)\n",
    "print(\"Landslide Component Input Variables at each grid/node\")\n",
    "ls_prob.input_var_names"
   ]
  },
  {
   "cell_type": "code",
   "execution_count": 7,
   "metadata": {
    "scrolled": true
   },
   "outputs": [
    {
     "name": "stdout",
     "output_type": "stream",
     "text": [
      "Landslide Component Output Variables at each grid/node\n"
     ]
    },
    {
     "data": {
      "text/plain": [
       "('landslide__probability_of_failure',\n",
       " 'soil__mean_recharge',\n",
       " 'soil__mean_relative_wetness',\n",
       " 'soil__mean_watertable_depth',\n",
       " 'soil__probability_of_saturation')"
      ]
     },
     "execution_count": 7,
     "metadata": {},
     "output_type": "execute_result"
    }
   ],
   "source": [
    "print(\"Landslide Component Output Variables at each grid/node\")\n",
    "ls_prob.output_var_names"
   ]
  },
  {
   "cell_type": "markdown",
   "metadata": {},
   "source": [
    "**Unit Test for big grids - new function added for Version 2** "
   ]
  },
  {
   "cell_type": "markdown",
   "metadata": {},
   "source": [
    "**1.2 Unit Test -`test_build_unitgrid()`  new function added for Version 2** \n",
    "\n",
    "This function builds a unit model domain to test the component with any size grid as an input parameter.  This is important for BIG grids that take a long time to build and compute calculations. Designed to change the input dimensions and uses defaults as in `test_build_unitarea()`.  This is useful for testing the computuational demand and designing big tests. "
   ]
  },
  {
   "cell_type": "markdown",
   "metadata": {},
   "source": [
    "**Parameter inputs to test `test_build_unitgrid(rowcol, edgelength)`**"
   ]
  },
  {
   "cell_type": "code",
   "execution_count": 8,
   "metadata": {},
   "outputs": [],
   "source": [
    "(rowcol, edgelength, coordinates) = ((100, 100), (10e0, 10e0), (0.0, 0.0))\n",
    "dimensions = (rowcol, edgelength, coordinates)"
   ]
  },
  {
   "cell_type": "markdown",
   "metadata": {},
   "source": [
    "**T2: Run the test `test_build_unitgrid(rowcol, edgelength)`**"
   ]
  },
  {
   "cell_type": "code",
   "execution_count": 9,
   "metadata": {},
   "outputs": [
    {
     "data": {
      "text/plain": [
       "RasterModelGrid((100, 100), xy_spacing=(10.0, 10.0), xy_of_lower_left=(0.0, 0.0))"
      ]
     },
     "execution_count": 9,
     "metadata": {},
     "output_type": "execute_result"
    }
   ],
   "source": [
    "test.test_build_unitgrid(rowcol, edgelength)"
   ]
  },
  {
   "cell_type": "markdown",
   "metadata": {},
   "source": [
    "**Test and investigate `test_build_unitgrid(rowcol, edgelength)` outputs**"
   ]
  },
  {
   "cell_type": "code",
   "execution_count": 10,
   "metadata": {},
   "outputs": [
    {
     "name": "stdout",
     "output_type": "stream",
     "text": [
      "Landlab grid dimensions to test the Landslide model instance: ((100, 100), (10.0, 10.0), (0.0, 0.0)). \n",
      "Landslide calculations are made only on 9604 core nodes.\n",
      "What is the runtime? What is the computational cost?\n"
     ]
    }
   ],
   "source": [
    "synthetic_big_grid = test.test_build_unitgrid(rowcol, edgelength)  \n",
    "print('Landlab grid dimensions to test the Landslide model instance: {value}. '.format(value=dimensions))\n",
    "\n",
    "print(\"Landslide calculations are made only on {value} core nodes.\".format(value=synthetic_big_grid.number_of_core_nodes))\n",
    "print(\"What is the runtime? What is the computational cost?\")"
   ]
  },
  {
   "cell_type": "markdown",
   "metadata": {},
   "source": [
    "**1.3 Unit Tests for shape**  `test_grid_shape()` \n",
    "\n",
    "**1.4 Unit Test for x extent** `test_grid_x_extent()` \n",
    "\n",
    "**1.5 Unit Test for y extent** `test_grid_y_extent()` "
   ]
  },
  {
   "cell_type": "markdown",
   "metadata": {},
   "source": [
    "These tests check that the grid shape matched the input, and that the x and y extent are correct. If there are no assertion errors printed, the unit test passes since `_SHAPE[0]`(see Unit Test test_landslide_probability.py) == `unitgrid[0]` == `ls_prob.grid.shape[0]` \n",
    "\n",
    "In this example, we get the values of the unitgrid from the Landlab raster model grid functions to create the input dimensions for testing.\n",
    "\n",
    "`number_of_node_rows` `number_of_node_columns` `dx` `dy` `xy_of_lower_left`\n",
    "\n",
    "**Parameter inputs for `test_grid_shape()` `test_grid_x_extent()` `test_grid_y_extent()`** "
   ]
  },
  {
   "cell_type": "code",
   "execution_count": 11,
   "metadata": {},
   "outputs": [
    {
     "name": "stdout",
     "output_type": "stream",
     "text": [
      "Input `unitgrid` size: rows = 5; cols = 4. \n"
     ]
    }
   ],
   "source": [
    "print('Input `unitgrid` size: rows = {value}; cols = {value2}. '.format(\n",
    "    value=unitgrid.number_of_node_rows,\n",
    "    value2=unitgrid.number_of_node_columns))\n",
    "\n",
    "rowcol=[unitgrid.number_of_node_rows,unitgrid.number_of_node_columns]\n",
    "edgelength=[unitgrid.dx,unitgrid.dy]\n",
    "coordinates=unitgrid.xy_of_lower_left\n",
    "\n",
    "dimensions = (rowcol, edgelength, coordinates)"
   ]
  },
  {
   "cell_type": "markdown",
   "metadata": {},
   "source": [
    "**T3: Run the test `test_grid_shape()`**\n",
    "\n",
    "**T4: Run the test `test_grid_x_extent()`**\n",
    "\n",
    "**T5: Run the test `test_grid_y_extent()`**"
   ]
  },
  {
   "cell_type": "code",
   "execution_count": 12,
   "metadata": {},
   "outputs": [],
   "source": [
    "test.test_grid_shape(ls_prob)\n",
    "test.test_grid_x_extent(ls_prob)\n",
    "test.test_grid_y_extent(ls_prob)"
   ]
  },
  {
   "cell_type": "markdown",
   "metadata": {},
   "source": [
    "**1.6 Unit Tests for Parameter Inputs** \n",
    "\n",
    "**Unit Test function** `test_field_getters()` for each parameter field on the Landlab grid, be sure that the field exists, and that it is the correct shape (row * columns). \n",
    "\n",
    "**T6: Run the test `test_field_getters()`**"
   ]
  },
  {
   "cell_type": "code",
   "execution_count": 13,
   "metadata": {},
   "outputs": [],
   "source": [
    "test.test_field_getters(ls_prob)"
   ]
  },
  {
   "cell_type": "markdown",
   "metadata": {},
   "source": [
    "**1.7 Unit Test function**  `test_name()`  - is the name \"Landslide Probability\" ? Yep.\n",
    "\n",
    "**T7: Run the test `test_name()`**"
   ]
  },
  {
   "cell_type": "code",
   "execution_count": 14,
   "metadata": {},
   "outputs": [],
   "source": [
    "test.test_name(ls_prob)"
   ]
  },
  {
   "cell_type": "markdown",
   "metadata": {},
   "source": [
    "Check the list of data inputs that the component needs."
   ]
  },
  {
   "cell_type": "markdown",
   "metadata": {},
   "source": [
    "**1.8 Unit Test function**  `test_input_var_names()` testing that `ls_prob.input_var_names()` outputs correctly.\n",
    "\n",
    "**T8: Run the test `test_input_var_names()`**"
   ]
  },
  {
   "cell_type": "code",
   "execution_count": 15,
   "metadata": {},
   "outputs": [],
   "source": [
    "test.test_input_var_names(ls_prob)"
   ]
  },
  {
   "cell_type": "markdown",
   "metadata": {},
   "source": [
    "**1.9 Unit Test function**  `test_output_var_names()` testing that `ls_prob.output_var_names()` outputs correctly.\n",
    "\n",
    "**T9: Run the test `test_output_var_names()`**"
   ]
  },
  {
   "cell_type": "code",
   "execution_count": 16,
   "metadata": {},
   "outputs": [],
   "source": [
    "test.test_output_var_names(ls_prob)"
   ]
  },
  {
   "cell_type": "markdown",
   "metadata": {},
   "source": [
    "**Test and investigate `test_output_var_names` outputs**\n",
    "\n",
    "Review the details of the additional outputs to  Version 2:mean depth and mean recharge.  A distribution of values is given as an input; the output is the mean per node for plotting. "
   ]
  },
  {
   "cell_type": "code",
   "execution_count": 17,
   "metadata": {},
   "outputs": [
    {
     "name": "stdout",
     "output_type": "stream",
     "text": [
      "name: soil__mean_watertable_depth\n",
      "description:\n",
      "  Mean depth to water table from surface to perched water table within\r\n",
      "  the soil layer\n",
      "units: m\n",
      "unit agnostic: False\n",
      "at: node\n",
      "intent: out\n"
     ]
    }
   ],
   "source": [
    "LandslideProbability.var_help('soil__mean_watertable_depth')"
   ]
  },
  {
   "cell_type": "code",
   "execution_count": 18,
   "metadata": {
    "scrolled": true
   },
   "outputs": [
    {
     "name": "stdout",
     "output_type": "stream",
     "text": [
      "name: soil__mean_recharge\n",
      "description:\n",
      "  Mean recharge to the soil layer\n",
      "units: mm/day\n",
      "unit agnostic: False\n",
      "at: node\n",
      "intent: out\n"
     ]
    }
   ],
   "source": [
    "LandslideProbability.var_help('soil__mean_recharge')"
   ]
  },
  {
   "cell_type": "markdown",
   "metadata": {},
   "source": [
    "**1.10 Unit Test function**  `test_var_units()` testing unit dimensions (string).\n",
    "\n",
    "**T10: Run the test `test_var_units()`**"
   ]
  },
  {
   "cell_type": "code",
   "execution_count": 19,
   "metadata": {},
   "outputs": [],
   "source": [
    "test.test_var_units(ls_prob)"
   ]
  },
  {
   "cell_type": "markdown",
   "metadata": {},
   "source": [
    "**1.11 Unit Test function**  `test_field_initialized_to_zero()` parameter initialization of fields for outputs (zero) \n",
    "\n",
    "**T11: Run the test `test_field_initialized_to_zero()`**"
   ]
  },
  {
   "cell_type": "code",
   "execution_count": 20,
   "metadata": {},
   "outputs": [],
   "source": [
    "test.test_field_initialized_to_zero(ls_prob)"
   ]
  },
  {
   "cell_type": "markdown",
   "metadata": {},
   "source": [
    "Uncomment cell below to verify the output values are all zeros (initialized, but model not run yet)."
   ]
  },
  {
   "cell_type": "code",
   "execution_count": 21,
   "metadata": {},
   "outputs": [],
   "source": [
    "#value_list=['landslide__probability_of_failure','soil__mean_relative_wetness']\n",
    "#pl.print_list_nodevalues(ls_prob,LandslideProbability.output_var_names)\n",
    "#or\n",
    "#pl.print_list_nodevalues(ls_prob,value_list)"
   ]
  },
  {
   "cell_type": "markdown",
   "metadata": {},
   "source": [
    "\n",
    "**1.12 Unit Test function** `test_field_initialized_to_range()` testing inputs (default range).\n",
    "\n",
    "**T12: Run the test `test_field_initialized_to_range()`**"
   ]
  },
  {
   "cell_type": "code",
   "execution_count": 22,
   "metadata": {},
   "outputs": [],
   "source": [
    "test_unit_defaultpars=test.get_default_nodevalues()"
   ]
  },
  {
   "cell_type": "code",
   "execution_count": 24,
   "metadata": {},
   "outputs": [],
   "source": [
    "#test.test_field_initialized_to_range(ls_prob,test_unit_defaultpars)"
   ]
  },
  {
   "cell_type": "markdown",
   "metadata": {},
   "source": [
    "**Test and investigate `test_field_initialized_to_range()` outputs**  using  `print_list_nodevalues()` by providing a selected list of fields and view the distribution of node values given a range of min and max default input values. \n",
    "\n",
    "The function `get_default_nodevalues()` creates a variable from the default values provided in the test function (test_landslide_probability.py). \n",
    "\n",
    "The plot function `plot_landslide_4variables()` uses the Landlab plotting function `imshow_grid()` and creates subplots for any 4 variables on a Landlab grid."
   ]
  },
  {
   "cell_type": "code",
   "execution_count": 25,
   "metadata": {},
   "outputs": [
    {
     "data": {
      "text/plain": [
       "{'topographic__slope': (0.1, 0.8),\n",
       " 'topographic__specific_contributing_area': (10, 100),\n",
       " 'soil__transmissivity': (0.1, 10),\n",
       " 'soil__mode_total_cohesion': (30, 900),\n",
       " 'soil__minimum_total_cohesion': (27, 897),\n",
       " 'soil__maximum_total_cohesion': (33, 903),\n",
       " 'soil__internal_friction_angle': (26, 37),\n",
       " 'soil__thickness': (0.1, 1),\n",
       " 'soil__density': (1999, 2001),\n",
       " 'soil__saturated_hydraulic_conductivity': (0.1, 100.0),\n",
       " 'landslide__probability_of_failure': (0, 1),\n",
       " 'soil__mean_relative_wetness': (0, 1),\n",
       " 'soil__mean_watertable_depth': (0, 1000),\n",
       " 'soil__mean_recharge': (0, 1000),\n",
       " 'soil__probability_of_saturation': (0, 1)}"
      ]
     },
     "execution_count": 25,
     "metadata": {},
     "output_type": "execute_result"
    }
   ],
   "source": [
    "test_unit_defaultpars"
   ]
  },
  {
   "cell_type": "markdown",
   "metadata": {},
   "source": [
    "Run the next cells to view soil parameters on the node.(optional)"
   ]
  },
  {
   "cell_type": "code",
   "execution_count": 26,
   "metadata": {},
   "outputs": [],
   "source": [
    "#value_list = ['soil__saturated_hydraulic_conductivity','soil__transmissivity','soil__thickness']\n",
    "#test.print_list_nodevalues(ls_prob, value_list)"
   ]
  },
  {
   "cell_type": "code",
   "execution_count": 27,
   "metadata": {},
   "outputs": [
    {
     "name": "stdout",
     "output_type": "stream",
     "text": [
      "Input: (Min, Max) range of default soil__minimum_total_cohesion model inputs: (25, 895)\n",
      "Ouput: soil__minimum_total_cohesion default value initialized for each node:\n",
      "[369 501 791 341 833 121 503 565  26 413 704 165 839 325 870 801 863 885\n",
      " 805 321]\n",
      "\n",
      "Input: (Min, Max) range of default soil__maximum_total_cohesion model inputs: (35, 905)\n",
      "Ouput: soil__maximum_total_cohesion default value initialized for each node:\n",
      "[377 509 799 349 841 129 511 573  34 421 712 173 847 333 878 809 871 893\n",
      " 813 329]\n",
      "\n",
      "Input: (Min, Max) range of default soil__mode_total_cohesion model inputs: (30, 900)\n",
      "Ouput: soil__mode_total_cohesion default value initialized for each node:\n",
      "[373 505 795 345 837 125 507 569  30 417 708 169 843 329 874 805 867 889\n",
      " 809 325]\n",
      "\n"
     ]
    }
   ],
   "source": [
    "value_list = ['soil__minimum_total_cohesion','soil__maximum_total_cohesion','soil__mode_total_cohesion']\n",
    "test.print_list_nodevalues(ls_prob, value_list)"
   ]
  },
  {
   "cell_type": "markdown",
   "metadata": {},
   "source": [
    "### 1.13 Make Landslide Unit Grid Maps\n",
    "Let's see what one of these fields (slope) looks like on the grid of 10 x 10 m grid cells. "
   ]
  },
  {
   "cell_type": "code",
   "execution_count": 28,
   "metadata": {},
   "outputs": [
    {
     "data": {
      "image/png": "[encoded data removed]",
      "text/plain": [
       "<Figure size 720x720 with 8 Axes>"
      ]
     },
     "metadata": {
      "needs_background": "light"
     },
     "output_type": "display_data"
    }
   ],
   "source": [
    "fields=['topographic__slope','soil__thickness','topographic__specific_contributing_area','soil__transmissivity']\n",
    "maxval=[unitgrid.at_node['topographic__slope'].max(),\n",
    "        unitgrid.at_node['soil__thickness'].max(),\n",
    "        unitgrid.at_node['topographic__specific_contributing_area'].max(),\n",
    "        unitgrid.at_node['soil__transmissivity'].max(),]\n",
    "subtitles=['Unit Slope','Unit Soil Thickness','Unit Contributing Area','Unit Transmissivity']\n",
    "colors=['terrain','copper_r','YlGnBu','PuBu']\n",
    "scalelabel=['Slope',' meters','meters','m/day']\n",
    "\n",
    "pl.plot_landslide_4variables([221,222,223,224],\n",
    "                          unitgrid,unitgrid,unitgrid,unitgrid,\n",
    "                          fields,maxval,\n",
    "                          subtitles,colors,scalelabel)"
   ]
  },
  {
   "cell_type": "markdown",
   "metadata": {},
   "source": [
    "Can't get enough nitty gritty landslide component details?  \n",
    "\n",
    "Uncomment the box below to review ALL the details of what each variable represents.  \n",
    "(Close the window with the upper right [x] after viewing.)"
   ]
  },
  {
   "cell_type": "code",
   "execution_count": 29,
   "metadata": {},
   "outputs": [],
   "source": [
    "#?LandslideProbability"
   ]
  },
  {
   "cell_type": "markdown",
   "metadata": {},
   "source": [
    "# 2.0 Unit Test Parameter Initialization \n",
    "\n",
    "#### Specify Unit Defaults to Test Hydrologic Forcing Options (2 options) and  Distribution Methods (4 options)\n",
    "Given unit input values for recharge `unit_R` (mm/day) and depth forcings  `unit_D` (meters), use the unit tests to initialize the parameters using the `LandslideProbability()` function. "
   ]
  },
  {
   "cell_type": "markdown",
   "metadata": {},
   "source": [
    "### 2.1 Calculate unit test default values for recharge and depth forcing variables given a unit value for relative wetness (rw=0.75)\n",
    "These are two different options used for calculating relative wetness which is input to the Factor of Safety Equation.  The unit test has options for comparing the range of input parameters, and  `T` and `area`are inputs to the recharge option calculation of relative wetness.\n",
    "\n",
    "The plot_landslides functions include `scenario_unit_explorer()` which solves for a unit recharge f(Transmissivity, Slope, Area) and unit depth f(soil thickness) given a uniform value of relative wetness. Using default unit parameters from the unit grid, a single seed for the random distributions, and rw=0.75, we can solve for a set of input hydrologic forcing parameters, and then use the unit hydrology to solve for a known probability of failure in the unit test. \n",
    "\n",
    "Recharge = ((rw * (T * theta )) / a)\n",
    "\n",
    "Depth = hs - rw * hs"
   ]
  },
  {
   "cell_type": "code",
   "execution_count": 30,
   "metadata": {},
   "outputs": [],
   "source": [
    "T = unitgrid['node']['soil__transmissivity']\n",
    "theta = np.sin(np.arctan(unitgrid['node']['topographic__slope']))\n",
    "hs = unitgrid['node']['soil__thickness'] \n",
    "a_unit = unitgrid['node']['topographic__specific_contributing_area']\n",
    "\n",
    "#Select a test to compare R and D min/max bounds\n",
    "rel_wet = 0.75\n",
    "[unit_R,unit_D]=test.scenario_unit_explorer(rel_wet,unitgrid)"
   ]
  },
  {
   "cell_type": "code",
   "execution_count": 31,
   "metadata": {},
   "outputs": [
    {
     "name": "stdout",
     "output_type": "stream",
     "text": [
      "When RW = 0.75, Unit Test Mean Depth to Water Table = 0.13 m\n",
      "When RW = 0.75, Unit Test Mean Recharge = 51 mm/day\n"
     ]
    }
   ],
   "source": [
    "print(\"When RW = {value}, Unit Test Mean Depth to Water Table = {value2} m\".format(value=0.75, value2=round(unit_D[2],2)))\n",
    "print(\"When RW = {value}, Unit Test Mean Recharge = {value2} mm/day\".format(value=0.75, value2=round(unit_R[2])))\n"
   ]
  },
  {
   "cell_type": "code",
   "execution_count": 32,
   "metadata": {},
   "outputs": [
    {
     "data": {
      "text/plain": [
       "[0.71002576029825337,\n",
       " 192.46245903839963,\n",
       " 50.664412625286317,\n",
       " 54.998275337558226]"
      ]
     },
     "execution_count": 32,
     "metadata": {},
     "output_type": "execute_result"
    }
   ],
   "source": [
    "unit_R"
   ]
  },
  {
   "cell_type": "markdown",
   "metadata": {},
   "source": [
    "### 2.2 Number of iterations to run Monte Carlo simulation"
   ]
  },
  {
   "cell_type": "markdown",
   "metadata": {},
   "source": [
    "The landslide component employes the infinite slope model to calculate factor-of-safety values using a Monte Carlo simulation approach, which randomly selects input values from parameter distributions. You can pick the number of iterations to run Monte Carlo simulations, but the unit default is 25 and landscape default is 250. The higher the number of iteration, the longer the program runs, but the more precise the probability of failure result becomes.<br /> "
   ]
  },
  {
   "cell_type": "code",
   "execution_count": 33,
   "metadata": {},
   "outputs": [],
   "source": [
    "n = 25"
   ]
  },
  {
   "cell_type": "markdown",
   "metadata": {},
   "source": [
    "There are _four_ different options for providing recharge for the Monte Carlo simulation.  We provide each of these grouped with depth to water table and recharge options below by specifying option inputs (a statistical distribution per node and option parameters. <br /> "
   ]
  },
  {
   "cell_type": "markdown",
   "metadata": {},
   "source": [
    " ### 2.3. Recharge and Depth Options - 'uniform' distribution "
   ]
  },
  {
   "cell_type": "markdown",
   "metadata": {},
   "source": [
    "In this option, we'll apply a uniform distribution of recharge and depth based on minimum and maximum recharge and depth values.  We will then instantiate the LandslideProbability component with these parameters, as well as the grid and number of iterations we specified above.  Instantiate creates an instance of a class.  (For example, the _iPhone_ is a class and _each phone_ is an instance.)\n",
    "\n",
    "No outputs are generated by these commands as they are setting up the recharge and depth and instantiating the component.\n"
   ]
  },
  {
   "cell_type": "code",
   "execution_count": 34,
   "metadata": {
    "scrolled": true
   },
   "outputs": [],
   "source": [
    "distribution1 = 'uniform'\n",
    "grid_r1 = test.test_build_grid_unitarea()\n",
    "grid_d1 = test.test_build_grid_unitarea()\n",
    "\n",
    "LS_prob1_r = LandslideProbability(grid_r1,number_of_iterations=n,\n",
    "    groundwater__recharge_distribution=distribution1,\n",
    "    groundwater__recharge_min_value=unit_R[0],\n",
    "    groundwater__recharge_max_value=unit_R[1])\n",
    "\n",
    "LS_prob1_d = LandslideProbability(grid_d1,number_of_iterations=n,\n",
    "    groundwater__depth_distribution=distribution1,\n",
    "    groundwater__depth_min_value=unit_D[0],\n",
    "    groundwater__depth_max_value=unit_D[1])\n"
   ]
  },
  {
   "cell_type": "markdown",
   "metadata": {},
   "source": [
    "### 2.4. Recharge and Depth Options - 'lognormal' distribution"
   ]
  },
  {
   "cell_type": "markdown",
   "metadata": {},
   "source": [
    "In this option, we specify a lognormal distribution with a recharge and depth mean and standard deviation values.  We instantiate the LandslideProbabilty class to create a new object or 'instance' of the class/component LandslideProbability. So now we have created two instances."
   ]
  },
  {
   "cell_type": "code",
   "execution_count": 35,
   "metadata": {},
   "outputs": [],
   "source": [
    "distribution2 = 'lognormal'\n",
    "grid_r2 = test.test_build_grid_unitarea()\n",
    "grid_d2 = test.test_build_grid_unitarea()\n",
    "\n",
    "LS_prob2_r = LandslideProbability(grid_r2,number_of_iterations=n,\n",
    "    groundwater__recharge_distribution=distribution2,\n",
    "    groundwater__recharge_mean=unit_R[2],\n",
    "    groundwater__recharge_standard_deviation=unit_R[3])\n",
    "\n",
    "LS_prob2_d = LandslideProbability(grid_d2,number_of_iterations=n,\n",
    "    groundwater__depth_distribution=distribution2,\n",
    "    groundwater__depth_mean=unit_D[2],\n",
    "    groundwater__depth_standard_deviation=unit_D[3])"
   ]
  },
  {
   "cell_type": "markdown",
   "metadata": {},
   "source": [
    "### 2.5. Recharge and Depth Options - 'lognormal_spatial' distribution"
   ]
  },
  {
   "cell_type": "markdown",
   "metadata": {},
   "source": [
    "Similar to the previous option (#2), we use a lognormal distribution for recharge and depth.  However, in this case we provide arrays to represent mean and standard deviation values for each node in our grid.  Thus, the distribution varies for each node - representing a spatially varying distribution of recharge and depth."
   ]
  },
  {
   "cell_type": "code",
   "execution_count": 36,
   "metadata": {},
   "outputs": [],
   "source": [
    "distribution3 = 'lognormal_spatial'\n",
    "grid_r3 = test.test_build_grid_unitarea()\n",
    "grid_d3 = test.test_build_grid_unitarea()\n",
    "\n",
    "Remean3 = np.random.uniform(unit_R[0],unit_R[1],gridnum)\n",
    "Restandard_deviation3 = np.random.rand(gridnum)\n",
    "LS_prob3_r = LandslideProbability(grid_r3,number_of_iterations=n,\n",
    "    groundwater__recharge_distribution=distribution3,\n",
    "    groundwater__recharge_mean=Remean3,\n",
    "    groundwater__recharge_standard_deviation=Restandard_deviation3)\n",
    "\n",
    "Demean3 = np.random.uniform(unit_D[0],unit_D[1],gridnum)\n",
    "Destandard_deviation3 = np.random.rand(gridnum)\n",
    "LS_prob3_d = LandslideProbability(grid_d3,number_of_iterations=n,\n",
    "    groundwater__depth_distribution=distribution3,\n",
    "    groundwater__depth_mean=Demean3,\n",
    "    groundwater__depth_standard_deviation=Destandard_deviation3)\n"
   ]
  },
  {
   "cell_type": "markdown",
   "metadata": {},
   "source": [
    "### 2.6. Recharge and Depth 'data_driven_spatial' distributions \n",
    "\n",
    "### 2.6.1 Generate Recharge input option "
   ]
  },
  {
   "cell_type": "markdown",
   "metadata": {},
   "source": [
    "This is the most complex representation of recharge used in the LandslideProbability component.  \n",
    "In this case, we provide recharge distributions (arrays) directly that are unique for each node.  \n",
    "\n",
    "In a real-world situation, we would acquire these from a hydrologic model that often has a coarser resolution than our grid.<br />\n",
    "Thus, we route the recharge data arrays from these larger Hydraulic Source Domain (HSD) grids down to each node of our grid. Landlab has a 'Source tracking algorithm' utility that performs this routing and produces Python dictionaries (_key: value_ pairs) that become parameters for the 'data_driven_spatial' recharge distribution.  In this synthetic example, we'll generate synthetic versions of these dictionaries."
   ]
  },
  {
   "cell_type": "code",
   "execution_count": 37,
   "metadata": {},
   "outputs": [
    {
     "name": "stdout",
     "output_type": "stream",
     "text": [
      "HSD_dict dictionary is a unique array of recharge provided as arrays (‘values’) for each of the Hydrologic Source Domain (HSD) (‘keys’). \n",
      "The entire synthetic dictionary is:\n",
      "{2: array([ 105.94635055,  137.84932702,  116.29136981,  105.19270195,\n",
      "         81.9468644 ,  124.56179358,   84.61843829,  171.70966859,\n",
      "        185.49470495,   74.23587001]), 3: array([ 152.5252283 ,  102.12691357,  109.63395256,  178.19543339,\n",
      "         14.33136277,   17.41728099,    4.58695267,  160.36690714,\n",
      "        149.92347623,  167.53697217]), 4: array([ 188.36247413,  153.95062502,   89.19981638,  150.37839456,\n",
      "         23.38943472,  123.41643871,   28.19836744,  181.85258925,\n",
      "        100.77571126,   80.22246174]), 5: array([  51.43920812,  149.17121964,   88.1779619 ,  109.70861861,\n",
      "          4.31301571,  119.1431352 ,  118.08086999,  119.00862083,\n",
      "        181.67601622,  131.45072717]), 6: array([  69.64654048,   84.51196632,  134.48250511,   12.25840649,\n",
      "        128.56416588,  129.30646911,   41.05139377,   25.43195705,\n",
      "         61.19417957,   70.4524511 ]), 7: array([ 110.04664394,   84.81293321,  190.2331142 ,   20.27736652,\n",
      "         40.762652  ,   31.64151833,  125.94513636,   49.27930688,\n",
      "         90.12625112,   47.57922778])}\n",
      "The array for the HSD vkey = 2 of this unordered dictionary is:\n",
      "[ 105.94635055  137.84932702  116.29136981  105.19270195   81.9468644\n",
      "  124.56179358   84.61843829  171.70966859  185.49470495   74.23587001]\n"
     ]
    }
   ],
   "source": [
    "HSD_dict = {}\n",
    "for vkey in range(2,8):  #the first example vkey =2 is printed below\n",
    "    HSD_dict[vkey] = np.random.uniform(unit_R[0],unit_R[1],10)    # 20 - 120 mm/day \n",
    "print('HSD_dict dictionary is a unique array of recharge provided as arrays (‘values’) for each of the Hydrologic Source Domain (HSD) (‘keys’). ')    \n",
    "print('The entire synthetic dictionary is:')\n",
    "print(HSD_dict)\n",
    "print('The array for the HSD vkey = 2 of this unordered dictionary is:')\n",
    "print(HSD_dict[2])"
   ]
  },
  {
   "cell_type": "markdown",
   "metadata": {},
   "source": [
    "***Note: this is a much lower recharge than the uniform."
   ]
  },
  {
   "cell_type": "markdown",
   "metadata": {},
   "source": [
    "HSD_ID dictionary has the grid node ID as ‘keys’ and HSD IDs in a list as ‘values’. "
   ]
  },
  {
   "cell_type": "code",
   "execution_count": 38,
   "metadata": {},
   "outputs": [
    {
     "name": "stdout",
     "output_type": "stream",
     "text": [
      "The entire ID synthetic dictionary is:\n",
      "{5: array([7, 7]), 6: array([7, 2]), 9: array([3, 7]), 10: array([3, 5]), 13: array([2, 7]), 14: array([2, 3])}\n",
      "The array for the ckey = 5, the first index of core nodes in the dictionary is:\n",
      "[7 7]\n",
      "The two values in the array are the multiple vkeys that correspond/drain to the ckey:\n"
     ]
    }
   ],
   "source": [
    "HSD_id_dict = {}\n",
    "for ckey in unitgrid.core_nodes:\n",
    "    HSD_id_dict[ckey] = np.random.randint(2,8,2)\n",
    "print('The entire ID synthetic dictionary is:')\n",
    "print(HSD_id_dict)\n",
    "print('The array for the ckey = 5, the first index of core nodes in the dictionary is:')\n",
    "print(HSD_id_dict[5])\n",
    "print('The two values in the array are the multiple vkeys that correspond/drain to the ckey:')\n"
   ]
  },
  {
   "cell_type": "markdown",
   "metadata": {},
   "source": [
    "The fractions dictionary assigns to each node ID as ‘key’ a lists the fractions of each HSD draining to the node as ‘values’. "
   ]
  },
  {
   "cell_type": "code",
   "execution_count": 39,
   "metadata": {},
   "outputs": [
    {
     "name": "stdout",
     "output_type": "stream",
     "text": [
      "The entire ID synthetic dictionary is:\n",
      "{5: array([ 0.83794491,  0.09609841]), 6: array([ 0.97645947,  0.4686512 ]), 9: array([ 0.97676109,  0.60484552]), 10: array([ 0.73926358,  0.03918779]), 13: array([ 0.28280696,  0.12019656]), 14: array([ 0.2961402 ,  0.11872772])}\n",
      "The fractional values (sum=1) in the array can be used to add the multiple vkeys that correspond/drain to each key:\n",
      "[ 0.83794491  0.09609841]\n"
     ]
    }
   ],
   "source": [
    "fract_dict = {}\n",
    "for ckey in unitgrid.core_nodes:\n",
    "    fract_dict[ckey] =  np.random.rand(2)\n",
    "print('The entire ID synthetic dictionary is:')\n",
    "print(fract_dict)\n",
    "print('The fractional values (sum=1) in the array can be used to add the multiple vkeys that correspond/drain to each key:')\n",
    "print(fract_dict[5])"
   ]
  },
  {
   "cell_type": "code",
   "execution_count": 40,
   "metadata": {},
   "outputs": [],
   "source": [
    "#HSD_inputs_r"
   ]
  },
  {
   "cell_type": "markdown",
   "metadata": {},
   "source": [
    "When the component is instantiated, the three dictionaries are provided as the 'parameters' for the distribution in explicit order."
   ]
  },
  {
   "cell_type": "markdown",
   "metadata": {},
   "source": [
    "### 2.6.2 Generate Depth to water table Input option"
   ]
  },
  {
   "cell_type": "code",
   "execution_count": 41,
   "metadata": {},
   "outputs": [
    {
     "name": "stdout",
     "output_type": "stream",
     "text": [
      "The values assigned to the first node (key) are: \n",
      "[ 0.09759155  0.11892042  0.04135934  0.18055209  0.15266796  0.08594048\n",
      "  0.14306388  0.04795938  0.15473817  0.23301573]\n"
     ]
    }
   ],
   "source": [
    "key=np.arange(unitgrid.number_of_nodes)\n",
    "HSD_inputs_d={}\n",
    "\n",
    "for i in range(unitgrid.number_of_nodes):\n",
    "    annualmaxDWT=np.random.uniform(unit_D[0],unit_D[1],10)\n",
    "    HSD_inputs_d[i] = (annualmaxDWT)\n",
    "\n",
    "#print(HSD_inputs_d)\n",
    "print('The values assigned to the first node (key) are: ')\n",
    "print(HSD_inputs_d[0])"
   ]
  },
  {
   "cell_type": "markdown",
   "metadata": {},
   "source": [
    "### Data driven spatially distributed landslide component input distributions"
   ]
  },
  {
   "cell_type": "code",
   "execution_count": 42,
   "metadata": {},
   "outputs": [],
   "source": [
    "distribution4 = 'data_driven_spatial'\n",
    "grid_r4 = test.test_build_grid_unitarea()\n",
    "grid_d4 = test.test_build_grid_unitarea()\n",
    "\n",
    "HSD_inputs_r = [HSD_dict,HSD_id_dict,fract_dict]\n",
    "LS_prob4_r = LandslideProbability(grid_r4,number_of_iterations=n,\n",
    "    groundwater__recharge_distribution=distribution4,\n",
    "    groundwater__recharge_HSD_inputs=HSD_inputs_r)\n",
    "\n",
    "LS_prob4_d = LandslideProbability(grid_d4,number_of_iterations=n,\n",
    "    groundwater__depth_distribution=distribution4,\n",
    "    groundwater__depth_HSD_inputs=HSD_inputs_d)\n"
   ]
  },
  {
   "cell_type": "markdown",
   "metadata": {},
   "source": [
    "## 3.0 Test the Landslide Component Options\n",
    "Given unit input values for recharge `unit_R` (mm/day) and depth forcings  `unit_D` (meters), use the unit tests to solve for `landslide__probability of failure`.  \n",
    "\n",
    "There are 8 combinations of hydrologic forcing and statistical distribution method.  **Unit Tests** for Landslide Probability calculations using four variations of statistical and data generated forcings for recharge and depth.  Since recharge defaults are a function of specific contributing area, we suggest running **Unit Area Tests** for each grid used in a model configuration. \n",
    "\n",
    "To generate the landslide component outputs, we call the `calculate_landslide_probability` method from within the `test_calculate_landslide_probability_uniform_depth_method()` (for example) with an output of the component in the form using the class instance (e.g., LS_prob_test_d1) for each option specified above. \n",
    "\n",
    "To verify results of the unit test, and the core node values comparing unit test defaults and the final assertions, we use `print_failure_nodevalues()` and \n",
    "`print_testcore_nodevalues()`\n",
    "\n",
    "**T13: Run the test `test_calculate_landslide_probability_uniform_depth_method()`**\n",
    " "
   ]
  },
  {
   "cell_type": "code",
   "execution_count": 43,
   "metadata": {},
   "outputs": [],
   "source": [
    "LS_prob_test_d1=test.test_calculate_landslide_probability_uniform_depth_method()"
   ]
  },
  {
   "cell_type": "code",
   "execution_count": 44,
   "metadata": {},
   "outputs": [
    {
     "name": "stdout",
     "output_type": "stream",
     "text": [
      "Unit test core node 6 = 0.8\n",
      "Unit test core node 10 = 0.48\n"
     ]
    }
   ],
   "source": [
    "grid_test_d1=LS_prob_test_d1.grid\n",
    "print(\"Unit test core node 6 = {value}\".format(value=grid_test_d1.at_node[\"landslide__probability_of_failure\"][5]))\n",
    "print(\"Unit test core node 10 = {value}\".format(value=grid_test_d1.at_node[\"landslide__probability_of_failure\"][9]))"
   ]
  },
  {
   "cell_type": "markdown",
   "metadata": {},
   "source": [
    "**T14: Run the test \n",
    "`test_calculate_landslide_probability_uniform_recharge_method()`**"
   ]
  },
  {
   "cell_type": "code",
   "execution_count": 45,
   "metadata": {},
   "outputs": [
    {
     "name": "stdout",
     "output_type": "stream",
     "text": [
      "Ouput Failure: landslide__probability_of_failure value calculated for each node:\n",
      "[ 0.    0.    0.    0.    0.    0.96  0.88  0.    0.    0.84  0.68  0.\n",
      "  0.    0.48  0.    0.    0.    0.    0.    0.  ]\n",
      "\n",
      "Unit test core node 6 = 0.96\n",
      "Unit test core node 10 = 0.84\n"
     ]
    }
   ],
   "source": [
    "LS_prob_test_r1=test.test_calculate_landslide_probability_uniform_recharge_method()\n",
    "grid_test_r1=LS_prob_test_r1.grid\n",
    "test.print_failure_nodevalues(LS_prob_test_r1)\n",
    "test.print_testcore_nodevalues(LS_prob_test_r1)"
   ]
  },
  {
   "cell_type": "markdown",
   "metadata": {},
   "source": [
    "**T15: Run the test \n",
    "`test_calculate_landslide_probability_lognormal_depth_method()`**"
   ]
  },
  {
   "cell_type": "code",
   "execution_count": 46,
   "metadata": {
    "scrolled": false
   },
   "outputs": [
    {
     "name": "stdout",
     "output_type": "stream",
     "text": [
      "Ouput Failure: landslide__probability_of_failure value calculated for each node:\n",
      "[ 0.    0.    0.    0.    0.    0.88  0.84  0.    0.    0.32  0.08  0.\n",
      "  0.    0.    0.    0.    0.    0.    0.    0.  ]\n",
      "\n",
      "Unit test core node 6 = 0.88\n",
      "Unit test core node 10 = 0.32\n"
     ]
    }
   ],
   "source": [
    "LS_prob_test_d2=test.test_calculate_landslide_probability_lognormal_depth_method()\n",
    "grid_test_d2=LS_prob_test_d2.grid\n",
    "test.print_failure_nodevalues(LS_prob_test_d2)\n",
    "test.print_testcore_nodevalues(LS_prob_test_d2)"
   ]
  },
  {
   "cell_type": "markdown",
   "metadata": {},
   "source": [
    "**T16: Run the test \n",
    "`test_calculate_landslide_probability_lognormal_recharge_method()`**"
   ]
  },
  {
   "cell_type": "code",
   "execution_count": 47,
   "metadata": {},
   "outputs": [
    {
     "name": "stdout",
     "output_type": "stream",
     "text": [
      "Ouput Failure: landslide__probability_of_failure value calculated for each node:\n",
      "[ 0.    0.    0.    0.    0.    1.    0.96  0.    0.    0.8   0.88  0.\n",
      "  0.    0.04  0.    0.    0.    0.    0.    0.  ]\n",
      "\n",
      "Unit test core node 6 = 1.0\n",
      "Unit test core node 10 = 0.8\n"
     ]
    }
   ],
   "source": [
    "LS_prob_test_r2=test.test_calculate_landslide_probability_lognormal_recharge_method()\n",
    "grid_test_r2=LS_prob_test_r2.grid\n",
    "test.print_failure_nodevalues(LS_prob_test_r2)\n",
    "test.print_testcore_nodevalues(LS_prob_test_r2)"
   ]
  },
  {
   "cell_type": "markdown",
   "metadata": {},
   "source": [
    "**T17: Run the test \n",
    "`test_calculate_landslide_probability_lognormal_spatial_depth_method()`**"
   ]
  },
  {
   "cell_type": "code",
   "execution_count": 48,
   "metadata": {},
   "outputs": [
    {
     "name": "stdout",
     "output_type": "stream",
     "text": [
      "Ouput Failure: landslide__probability_of_failure value calculated for each node:\n",
      "[ 0.    0.    0.    0.    0.    0.88  0.88  0.    0.    0.96  0.92  0.\n",
      "  0.    0.04  0.    0.    0.    0.    0.    0.  ]\n",
      "\n",
      "Unit test core node 6 = 0.88\n",
      "Unit test core node 10 = 0.96\n"
     ]
    }
   ],
   "source": [
    "LS_prob_test_d3=test.test_calculate_landslide_probability_lognormal_spatial_depth_method()\n",
    "grid_test_d3=LS_prob_test_d3.grid\n",
    "test.print_failure_nodevalues(LS_prob_test_d3)\n",
    "test.print_testcore_nodevalues(LS_prob_test_d3)"
   ]
  },
  {
   "cell_type": "markdown",
   "metadata": {},
   "source": [
    "**T18: Run the test \n",
    "`test_calculate_landslide_probability_lognormal_spatial_recharge_method()`**"
   ]
  },
  {
   "cell_type": "code",
   "execution_count": 49,
   "metadata": {
    "scrolled": false
   },
   "outputs": [
    {
     "name": "stdout",
     "output_type": "stream",
     "text": [
      "Ouput Failure: landslide__probability_of_failure value calculated for each node:\n",
      "[ 0.    0.    0.    0.    0.    1.    1.    0.    0.    0.24  0.48  0.\n",
      "  0.    0.    0.    0.    0.    0.    0.    0.  ]\n",
      "\n",
      "Unit test core node 6 = 1.0\n",
      "Unit test core node 10 = 0.24\n"
     ]
    }
   ],
   "source": [
    "LS_prob3_r_unit=test.test_calculate_landslide_probability_lognormal_spatial_recharge_method()\n",
    "grid_test_r3=LS_prob3_r_unit.grid\n",
    "test.print_failure_nodevalues(LS_prob3_r_unit)\n",
    "test.print_testcore_nodevalues(LS_prob3_r_unit)"
   ]
  },
  {
   "cell_type": "markdown",
   "metadata": {},
   "source": [
    "**T19: Run the test \n",
    "`test_calculate_landslide_probability_datadriven_spatial_depth_method()`**"
   ]
  },
  {
   "cell_type": "markdown",
   "metadata": {},
   "source": [
    "**Use Unit Test function** to calculate data driven spatial failure probability with two methods (depth, recharge)"
   ]
  },
  {
   "cell_type": "code",
   "execution_count": 50,
   "metadata": {},
   "outputs": [
    {
     "name": "stdout",
     "output_type": "stream",
     "text": [
      "Depth Hydrologic Forcing\n",
      "Ouput Failure: landslide__probability_of_failure value calculated for each node:\n",
      "[ 0.    0.    0.    0.    0.    0.92  1.    0.    0.    0.    0.08  0.\n",
      "  0.    0.    0.    0.    0.    0.    0.    0.  ]\n",
      "\n",
      "Unit test core node 6 = 0.92\n",
      "Unit test core node 10 = 0.0\n"
     ]
    }
   ],
   "source": [
    "LS_prob_test_d4=test.test_calculate_landslide_probability_datadriven_spatial_depth_method()\n",
    "grid_test_d4=LS_prob_test_d4.grid\n",
    "print(\"Depth Hydrologic Forcing\")\n",
    "test.print_failure_nodevalues(LS_prob_test_d4)\n",
    "test.print_testcore_nodevalues(LS_prob_test_d4)"
   ]
  },
  {
   "cell_type": "markdown",
   "metadata": {},
   "source": [
    "**T20: Run the test \n",
    "`test_calculate_landslide_probability_datadriven_spatial_recharge_method()`**"
   ]
  },
  {
   "cell_type": "code",
   "execution_count": 51,
   "metadata": {
    "scrolled": false
   },
   "outputs": [
    {
     "name": "stdout",
     "output_type": "stream",
     "text": [
      "Recharge Hydrologic Forcing\n",
      "Ouput Failure: landslide__probability_of_failure value calculated for each node:\n",
      "[ 0.    0.    0.    0.    0.    1.    0.96  0.    0.    0.84  0.8   0.\n",
      "  0.    0.04  0.04  0.    0.    0.    0.    0.  ]\n",
      "\n",
      "Unit test core node 6 = 1.0\n",
      "Unit test core node 10 = 0.84\n"
     ]
    }
   ],
   "source": [
    "LS_prob_test_r4=test.test_calculate_landslide_probability_datadriven_spatial_recharge_method()\n",
    "grid_test_r4=LS_prob_test_r4.grid\n",
    "print(\"Recharge Hydrologic Forcing\")\n",
    "test.print_failure_nodevalues(LS_prob_test_r4)\n",
    "test.print_testcore_nodevalues(LS_prob_test_r4)"
   ]
  },
  {
   "cell_type": "markdown",
   "metadata": {},
   "source": [
    "# 4.0 Plot Unit Tests\n",
    "\n",
    "## 4.1 Landslide Component Unit Test Outputs\n",
    "### Uniform-Depth"
   ]
  },
  {
   "cell_type": "code",
   "execution_count": 52,
   "metadata": {},
   "outputs": [
    {
     "data": {
      "image/png": "[encoded data removed]",
      "text/plain": [
       "<Figure size 720x720 with 8 Axes>"
      ]
     },
     "metadata": {
      "needs_background": "light"
     },
     "output_type": "display_data"
    }
   ],
   "source": [
    "fields=['soil__probability_of_saturation','soil__mean_relative_wetness','soil__mean_watertable_depth','landslide__probability_of_failure']\n",
    "maxval=[1,1, unit_D[1],1,]\n",
    "colors=['YlGnBu','YlGnBu','YlGnBu','OrRd']\n",
    "scalelabel=['Probability',' Wetness','Depth (m)','Probability']\n",
    "subtitle=['Prob.of Saturation','Relative Wetness','Mean Depth to Water Table','Probability of Failure']\n",
    "smashtitle=subtitle\n",
    "pgrid = grid_test_d1\n",
    "ptitle = \"Uniform-Depth %s\"\n",
    "for s in subtitle: smashtitle[subtitle.index(s)]=\"\".join(ptitle % (s))\n",
    "    \n",
    "pl.plot_landslide_4variables([221,222,223,224],\n",
    "                          pgrid,pgrid,pgrid,pgrid,\n",
    "                          fields,maxval,\n",
    "                          smashtitle,colors,scalelabel)\n"
   ]
  },
  {
   "cell_type": "markdown",
   "metadata": {},
   "source": [
    "### Uniform-Recharge\n",
    "Recharge outputs are in meters (m), here we convert the recharge to mm/day and add to the grid. "
   ]
  },
  {
   "cell_type": "code",
   "execution_count": 53,
   "metadata": {},
   "outputs": [
    {
     "name": "stdout",
     "output_type": "stream",
     "text": [
      "[0.71002576029825337, 192.46245903839963, 50.664412625286317, 54.998275337558226]\n"
     ]
    }
   ],
   "source": [
    "print(unit_R)\n",
    "recharge_mm_per_m=1000\n",
    "grid_test_r1.at_node['soil__mean_recharge_mm']=recharge_mm_per_m * grid_test_r1.at_node['soil__mean_recharge']"
   ]
  },
  {
   "cell_type": "code",
   "execution_count": 54,
   "metadata": {},
   "outputs": [
    {
     "data": {
      "image/png": "[encoded data removed]",
      "text/plain": [
       "<Figure size 720x720 with 8 Axes>"
      ]
     },
     "metadata": {
      "needs_background": "light"
     },
     "output_type": "display_data"
    }
   ],
   "source": [
    "fields=['soil__probability_of_saturation','soil__mean_relative_wetness','soil__mean_recharge_mm','landslide__probability_of_failure']\n",
    "maxval=[1,1, unit_R[1],1,]\n",
    "colors=['YlGnBu','YlGnBu','YlGnBu','OrRd']\n",
    "scalelabel=['Probability',' Wetness','Recharge (mm/day)','Probability']\n",
    "subtitle=['Prob.of Saturation','Relative Wetness','Mean Recharge','Probability of Failure']\n",
    "smashtitle=subtitle\n",
    "pgrid = grid_test_d1\n",
    "ptitle = \"Uniform-Recharge %s\"\n",
    "for s in subtitle: smashtitle[subtitle.index(s)]=\"\".join(ptitle % (s))\n",
    "    \n",
    "pl.plot_landslide_4variables([221,222,223,224],\n",
    "                          grid_test_r1,grid_test_r1,grid_test_r1,grid_test_r1,\n",
    "                          fields,maxval,\n",
    "                          smashtitle,colors,scalelabel)"
   ]
  },
  {
   "cell_type": "markdown",
   "metadata": {},
   "source": [
    "## 4.2 Landslide Component Unit Test Outputs\n",
    "### Data Driven Spatial- Depth"
   ]
  },
  {
   "cell_type": "code",
   "execution_count": 55,
   "metadata": {},
   "outputs": [
    {
     "data": {
      "image/png": "[encoded data removed]",
      "text/plain": [
       "<Figure size 720x720 with 8 Axes>"
      ]
     },
     "metadata": {
      "needs_background": "light"
     },
     "output_type": "display_data"
    }
   ],
   "source": [
    "fields=['soil__probability_of_saturation','soil__mean_relative_wetness','soil__mean_watertable_depth','landslide__probability_of_failure']\n",
    "maxval=[1,1, unit_D[1],1,]\n",
    "colors=['YlGnBu','YlGnBu','YlGnBu','OrRd']\n",
    "scalelabel=['Probability',' Wetness','Depth (m)','Probability']\n",
    "subtitle=['Prob.of Saturation','Relative Wetness','Mean Depth to Water Table','Probability of Failure']\n",
    "smashtitle=subtitle\n",
    "pgrid = grid_test_d4\n",
    "ptitle = \"Data-Spatial-Depth %s\"\n",
    "for s in subtitle: smashtitle[subtitle.index(s)]=\"\".join(ptitle % (s))\n",
    "    \n",
    "pl.plot_landslide_4variables([221,222,223,224],\n",
    "                          pgrid,pgrid,pgrid,pgrid,\n",
    "                          fields,maxval,\n",
    "                          smashtitle,colors,scalelabel)\n"
   ]
  },
  {
   "cell_type": "markdown",
   "metadata": {},
   "source": [
    "### Data Driven Spatial- Recharge\n",
    "Recharge outputs are in meters (m), here we convert the recharge to mm/day and add to the grid. "
   ]
  },
  {
   "cell_type": "code",
   "execution_count": 56,
   "metadata": {},
   "outputs": [
    {
     "name": "stdout",
     "output_type": "stream",
     "text": [
      "[0.71002576029825337, 192.46245903839963, 50.664412625286317, 54.998275337558226]\n"
     ]
    }
   ],
   "source": [
    "print(unit_R)\n",
    "recharge_mm_per_m=1000\n",
    "grid_test_r4.at_node['soil__mean_recharge_mm']=recharge_mm_per_m * grid_test_r4.at_node['soil__mean_recharge']"
   ]
  },
  {
   "cell_type": "code",
   "execution_count": 57,
   "metadata": {},
   "outputs": [
    {
     "data": {
      "image/png": "[encoded data removed]",
      "text/plain": [
       "<Figure size 720x720 with 8 Axes>"
      ]
     },
     "metadata": {
      "needs_background": "light"
     },
     "output_type": "display_data"
    }
   ],
   "source": [
    "fields=['soil__probability_of_saturation','soil__mean_relative_wetness','soil__mean_recharge_mm','landslide__probability_of_failure']\n",
    "maxval=[1,1, unit_R[1],1,]\n",
    "colors=['YlGnBu','YlGnBu','YlGnBu','OrRd']\n",
    "scalelabel=['Probability',' Wetness','Recharge (mm/day)','Probability']\n",
    "subtitle=['Prob.of Saturation','Relative Wetness','Mean Recharge','Probability of Failure']\n",
    "smashtitle=subtitle\n",
    "pgrid = grid_test_r4\n",
    "ptitle = \"Data-Spatial-Recharge %s\"\n",
    "for s in subtitle: smashtitle[subtitle.index(s)]=\"\".join(ptitle % (s))\n",
    "    \n",
    "pl.plot_landslide_4variables([221,222,223,224],\n",
    "                          pgrid,pgrid,pgrid,pgrid,\n",
    "                          fields,maxval,\n",
    "                          smashtitle,colors,scalelabel)"
   ]
  },
  {
   "cell_type": "markdown",
   "metadata": {},
   "source": [
    "## 4.3 Landslide Component Unit Test Outputs: Probability of Failure \n",
    "### Unit default landslide parameters; hydrologic forcings with four statistical distribution methods\n",
    "\n",
    "### Depth to groundwater"
   ]
  },
  {
   "cell_type": "code",
   "execution_count": 58,
   "metadata": {},
   "outputs": [
    {
     "data": {
      "image/png": "[encoded data removed]",
      "text/plain": [
       "<Figure size 720x720 with 8 Axes>"
      ]
     },
     "metadata": {
      "needs_background": "light"
     },
     "output_type": "display_data"
    }
   ],
   "source": [
    "fields=['landslide__probability_of_failure','landslide__probability_of_failure','landslide__probability_of_failure','landslide__probability_of_failure']\n",
    "maxval=[1,1,1,1,]\n",
    "subtitles=['Uniform-Depth-Failure','Lognormal-Depth-Failure','LN-Spatial-Depth-Failure','DataSpatial-Depth-Failure']\n",
    "colors=['OrRd','OrRd','OrRd','OrRd']\n",
    "scalelabel=['Probability','Probability','Probability','Probability']\n",
    "\n",
    "pl.plot_landslide_4variables([221,222,223,224],\n",
    "                          grid_test_d1,grid_test_d2,grid_test_d3,grid_test_d4,\n",
    "                          fields,maxval,\n",
    "                          subtitles,colors,scalelabel)"
   ]
  },
  {
   "cell_type": "markdown",
   "metadata": {},
   "source": [
    "### Unit default landslide parameters; hydrologic forcings with four statistical distribution methods\n",
    "\n",
    "### Recharge"
   ]
  },
  {
   "cell_type": "code",
   "execution_count": 59,
   "metadata": {},
   "outputs": [
    {
     "data": {
      "image/png": "[encoded data removed]",
      "text/plain": [
       "<Figure size 720x720 with 8 Axes>"
      ]
     },
     "metadata": {
      "needs_background": "light"
     },
     "output_type": "display_data"
    }
   ],
   "source": [
    "fields=['landslide__probability_of_failure','landslide__probability_of_failure','landslide__probability_of_failure','landslide__probability_of_failure']\n",
    "maxval=[1,1,1,1,]\n",
    "subtitles=['Uniform-Recharge-Failure','Lognormal-Recharge-Failure','LN-Spatial-Recharge-Failure','DataSpatial-Recharge-Failure']\n",
    "colors=['OrRd','OrRd','OrRd','OrRd']\n",
    "scalelabel=['Probability','Probability','Probability','Probability']\n",
    "\n",
    "pl.plot_landslide_4variables([221,222,223,224],\n",
    "                          grid_test_r1,grid_test_r2,grid_test_r3,grid_test_r4,\n",
    "                          fields,maxval,\n",
    "                          subtitles,colors,scalelabel)"
   ]
  },
  {
   "cell_type": "markdown",
   "metadata": {},
   "source": [
    "## 4.4 Run Landslide Component \n",
    "This is helpful to demonstrate and verify the difference between running a model unit test (results are static) and running the model with random variables introduced in each model instance of executing `calculate_landslide_probability()`\n",
    "\n",
    "**Use Landslide Component** to calculate data driven spatial failure probability with two methods (depth, recharge) **different results are expected each time this is run**"
   ]
  },
  {
   "cell_type": "code",
   "execution_count": 60,
   "metadata": {
    "scrolled": true
   },
   "outputs": [
    {
     "name": "stdout",
     "output_type": "stream",
     "text": [
      "Recharge Hydrologic Forcing\n",
      "Input: (Min, Max) range of default landslide__probability_of_failure model inputs: (0, 1)\n",
      "Ouput: landslide__probability_of_failure default value initialized for each node:\n",
      "[ 0.    0.    0.    0.    0.    1.    1.    0.    0.    0.88  0.8   0.\n",
      "  0.    0.56  0.    0.    0.    0.    0.    0.  ]\n",
      "\n",
      "Ouput Failure: landslide__probability_of_failure value calculated for each node:\n",
      "[ 0.    0.    0.    0.    0.    1.    1.    0.    0.    0.88  0.8   0.\n",
      "  0.    0.56  0.    0.    0.    0.    0.    0.  ]\n",
      "\n",
      "Depth Hydrologic Forcing\n",
      "Input: (Min, Max) range of default landslide__probability_of_failure model inputs: (0, 1)\n",
      "Ouput: landslide__probability_of_failure default value initialized for each node:\n",
      "[ 0.    0.    0.    0.    0.    0.24  0.6   0.    0.    0.    0.    0.\n",
      "  0.    0.    0.    0.    0.    0.    0.    0.  ]\n",
      "\n",
      "Ouput Failure: landslide__probability_of_failure value calculated for each node:\n",
      "[ 0.    0.    0.    0.    0.    0.24  0.6   0.    0.    0.    0.    0.\n",
      "  0.    0.    0.    0.    0.    0.    0.    0.  ]\n",
      "\n"
     ]
    }
   ],
   "source": [
    "print(\"Recharge Hydrologic Forcing\")\n",
    "LS_prob4_r.calculate_landslide_probability()\n",
    "test.print_list_nodevalues(LS_prob4_r,[\"landslide__probability_of_failure\"])\n",
    "test.print_failure_nodevalues(LS_prob4_r)\n",
    "print(\"Depth Hydrologic Forcing\")\n",
    "LS_prob4_d.calculate_landslide_probability()\n",
    "test.print_list_nodevalues(LS_prob4_d,[\"landslide__probability_of_failure\"])\n",
    "test.print_failure_nodevalues(LS_prob4_d)"
   ]
  },
  {
   "cell_type": "markdown",
   "metadata": {},
   "source": [
    "# 5.0  Testing the unit tests with pytest"
   ]
  },
  {
   "cell_type": "markdown",
   "metadata": {},
   "source": [
    "Usually you can run your components tests only (as opposed to the entire repository) with\n",
    "\n",
    "`pytest */componet/name_of_component`\n",
    "\n",
    "this tests the files in landlab and in tests.\n",
    "\n",
    "Since we have tests that are in notebooks  (this one) and the default behavior of pytest has been configured to ignore the notebooks, we run\n",
    "\n",
    "`pytest --run-notebook`\n",
    "\n",
    "in the Anaconda terminal prompt."
   ]
  },
  {
   "cell_type": "markdown",
   "metadata": {},
   "source": [
    "## Citing Landlab Landslide Component\n",
    "\n",
    "**If you use any portion of Landlab, you must cite the following papers:**\n",
    "\n",
    "Hobley, D. E. J., Adams, J. M., Nudurupati, S. S., Hutton, E. W. H., Gasparini, N. M., Istanbulluoglu, E. and Tucker, G. E., 2017, Creative computing with Landlab: an open-source toolkit for building, coupling, and exploring two-dimensional numerical models of Earth-surface dynamics, Earth Surface Dynamics, 5, p 21-46, 10.5194/esurf-5-21-2017.\n",
    "\n",
    "Barnhart, K. R., Hutton, E. W. H., Tucker, G. E., Gasparini, N. M., Istanbulluoglu, E., Hobley, D. E. J., Lyons, N. J., Mouchene, M., Nudurupati, S. S., Adams, J. M., and Bandaragoda, C.: Short communication: Landlab v2.0: A software package for Earth surface dynamics, Earth Surf. Dynam. Discuss., https://doi.org/10.5194/esurf-2020-12, in review, 2020.\n",
    "                \n",
    "**If you use any portion of the Landlab Landslide Component, you must cite the following paper:**\n",
    "Strauch, R., Istanbulluoglu, E., Nudurupati, S.S., Bandaragoda, C., Gasparini, N.M. and Tucker, G.E., 2018. A hydroclimatological approach to predicting regional landslide probability using Landlab. Earth Surface Dynamics, 6(1), pp.49-49."
   ]
  },
  {
   "cell_type": "markdown",
   "metadata": {},
   "source": [
    "<img src=\"https://www.washington.edu/brand/files/2014/09/W-Logo_Purple_Hex.png\" style=\"float:right;width:150px;padding:20px\">   \n"
   ]
  },
  {
   "cell_type": "markdown",
   "metadata": {},
   "source": [
    "The development of this Notebook has been made possible by the Landlab project funded by the National Science Foundation (OAC 1450338 to N. Gasparini, OAC 1450409 to G. Tucker, OAC 1450412 to E. Istanbulluoglu).\n",
    "\n",
    "We acknowledge that this research takes place in the ancestral homelands of Tribes, Bands, and First Nations, including most notably the Upper Skagit Indian Tribe, Sauk-Suiattle Indian Tribe, Swinomish Indian Tribal Community, Samish Indian Nation, Nooksack Tribe, Lummi Nation, Stó:lō Nation, Nlaka’pamux Nation, Colville Confederated Tribes, Syilx/Okanagan Nation.  The University of Washington acknowledges the Coast Salish peoples of this land, the land which touches the shared waters of all tribes and bands within the Suquamish, Tulalip and Muckleshoot nations."
   ]
  },
  {
   "cell_type": "markdown",
   "metadata": {},
   "source": [
    "\n",
    "<hr>\n",
    "<small>For more Landlab tutorials, click here: <a href=\"https://landlab.readthedocs.io/en/latest/user_guide/tutorials.html\">https://landlab.readthedocs.io/en/latest/user_guide/tutorials.html</a></small>\n",
    "<hr>"
   ]
  }
 ],
 "metadata": {
  "anaconda-cloud": {},
  "kernelspec": {
   "display_name": "Python 3",
   "language": "python",
   "name": "python3"
  },
  "language_info": {
   "codemirror_mode": {
    "name": "ipython",
    "version": 3
   },
   "file_extension": ".py",
   "mimetype": "text/x-python",
   "name": "python",
   "nbconvert_exporter": "python",
   "pygments_lexer": "ipython3",
   "version": "3.8.3"
  }
 },
 "nbformat": 4,
 "nbformat_minor": 1
}
