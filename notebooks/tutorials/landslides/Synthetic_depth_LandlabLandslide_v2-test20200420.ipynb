{
 "cells": [
  {
   "cell_type": "markdown",
   "metadata": {},
   "source": [
    "\n",
    "# Watershed Dynamics Model \n",
    "\n",
    "<img src=\"https://www.washington.edu/brand/files/2014/09/W-Logo_Purple_Hex.png\" style=\"float:right;width:300px;padding:20px\">   \n",
    "\n",
    "\n",
    "<br />\n",
    "This Jupyter Notebook runs the Landlab LandslideProbability component on a synthetic \n",
    "Landlab grid using four recharge options as described in the paper: <br />\n",
    "#### Strauch et al. 2018. A hydro-climatological approach to predicting regional landslide probability using Landlab. Earth Surface Dynamics, 6, 1-26. <br /> \n",
    "This notebook performs the following functions:<br >\n",
    "* Import libraries and set HydroShare variables<br />\n",
    "* Create a grid and data fields used to calculate landslide probability<br />\n",
    "* Specify Recharge Distributions to compare four options<br /> \n",
    "* Run LandslideProbability function from Landlab landslide component<br /> \n",
    "* Compare the sensitivity based on four recharge options<br /> \n",
    "\n"
   ]
  },
  {
   "cell_type": "markdown",
   "metadata": {},
   "source": [
    "## 1.  HydroShare Setup and Preparation\n",
    "\n",
    "To run this notebook, we must import several libraries.\n",
    "The hs_utils library provides functions for interacting with HydroShare, including resource querying, dowloading, and creation.  Additional libraries support the functions of Landlab. "
   ]
  },
  {
   "cell_type": "code",
   "execution_count": 93,
   "metadata": {},
   "outputs": [
    {
     "name": "stdout",
     "output_type": "stream",
     "text": [
      "Mean_Relative_Wetness_synthetic.png\r\n",
      "Probability_of_Failure_synthetic.png\r\n",
      "synthetic_data_driven_spatial_depth.nc\r\n",
      "Synthetic_depth_LandlabLandslide_v2-test20200420.ipynb\r\n"
     ]
    }
   ],
   "source": [
    "!ls"
   ]
  },
  {
   "cell_type": "code",
   "execution_count": 94,
   "metadata": {},
   "outputs": [],
   "source": [
    "#import Python utilities for calculating and plotting\n",
    "import numpy as np\n",
    "import matplotlib.pyplot as plt\n",
    "\n",
    "#import Landlab\n",
    "from landlab import RasterModelGrid\n",
    "#from landlab.components import landslides\n",
    "#from landlab.components.landslides import LandslideProbability\n",
    "from landlab.plot import imshow_grid\n",
    "from landlab.io import read_esri_ascii\n",
    "\n"
   ]
  },
  {
   "cell_type": "markdown",
   "metadata": {},
   "source": [
    "If you are curious about where the data is being downloaded, click on the Jupyter Notebook dashboard icon to see a File System view.  The homedir directory location printed above is where you can find the data and contents you will download to a HydroShare JupyterHub server.  At the end of this work session, you can migrate this data to the HydroShare iRods server as a Generic Resource. "
   ]
  },
  {
   "cell_type": "markdown",
   "metadata": {},
   "source": [
    "## Create a grid and data fields used to calculate landslide probability"
   ]
  },
  {
   "cell_type": "markdown",
   "metadata": {},
   "source": [
    "This example uses a synthetic model domain. As a first example, make a synthetic grid with 5 rows and 4 columns space 0.2 units apart.   <br /> \n",
    "##### Synthetic Grid Restart opportunity: After completing this entire notebook, go to the Dashboard, Kernal, and select Restart and Clear Output.  Execute the code from the beginning, but change the cell below to the rows, columns, and spacing of your choice.  "
   ]
  },
  {
   "cell_type": "code",
   "execution_count": 95,
   "metadata": {},
   "outputs": [],
   "source": [
    "grid = RasterModelGrid((5, 4))"
   ]
  },
  {
   "cell_type": "markdown",
   "metadata": {},
   "source": [
    "Confirm the size of the grid"
   ]
  },
  {
   "cell_type": "code",
   "execution_count": 96,
   "metadata": {},
   "outputs": [
    {
     "data": {
      "text/plain": [
       "20"
      ]
     },
     "execution_count": 96,
     "metadata": {},
     "output_type": "execute_result"
    }
   ],
   "source": [
    "grid.number_of_nodes"
   ]
  },
  {
   "cell_type": "markdown",
   "metadata": {},
   "source": [
    "To see what the grid id of our nodes are, execute the command below.  However, note that this command gives you the rows of the grid, but these are technically up-side-down from how the RasterModelGrid nodes are numbered (e.g,. node id 0 is at the bottom left corner of the grid). "
   ]
  },
  {
   "cell_type": "code",
   "execution_count": 97,
   "metadata": {},
   "outputs": [
    {
     "data": {
      "text/plain": [
       "array([[ 0,  1,  2,  3],\n",
       "       [ 4,  5,  6,  7],\n",
       "       [ 8,  9, 10, 11],\n",
       "       [12, 13, 14, 15],\n",
       "       [16, 17, 18, 19]])"
      ]
     },
     "execution_count": 97,
     "metadata": {},
     "output_type": "execute_result"
    }
   ],
   "source": [
    "grid.nodes"
   ]
  },
  {
   "cell_type": "markdown",
   "metadata": {},
   "source": [
    "We can also see how many core nodes we have (i.e., the nodes that calculations are performed on) in the center of the grid...not the edges, which are 'closed nodes'. Compare this array to the full grid above.  Asign these to the variable 'core_nodes' so we can use these later."
   ]
  },
  {
   "cell_type": "code",
   "execution_count": 98,
   "metadata": {},
   "outputs": [
    {
     "data": {
      "text/plain": [
       "array([ 5,  6,  9, 10, 13, 14])"
      ]
     },
     "execution_count": 98,
     "metadata": {},
     "output_type": "execute_result"
    }
   ],
   "source": [
    "core_nodes = grid.core_nodes\n",
    "core_nodes"
   ]
  },
  {
   "cell_type": "markdown",
   "metadata": {},
   "source": [
    "Check the list of data inputs that the component needs."
   ]
  },
  {
   "cell_type": "code",
   "execution_count": 99,
   "metadata": {},
   "outputs": [
    {
     "data": {
      "text/plain": [
       "['soil__density',\n",
       " 'soil__internal_friction_angle',\n",
       " 'soil__maximum_total_cohesion',\n",
       " 'soil__minimum_total_cohesion',\n",
       " 'soil__mode_total_cohesion',\n",
       " 'soil__saturated_hydraulic_conductivity',\n",
       " 'soil__thickness',\n",
       " 'soil__transmissivity',\n",
       " 'topographic__slope',\n",
       " 'topographic__specific_contributing_area']"
      ]
     },
     "execution_count": 99,
     "metadata": {},
     "output_type": "execute_result"
    }
   ],
   "source": [
    "sorted(LandslideProbability.input_var_names)"
   ]
  },
  {
   "cell_type": "markdown",
   "metadata": {},
   "source": [
    "Check the list of data outputs that the component will generate."
   ]
  },
  {
   "cell_type": "code",
   "execution_count": 100,
   "metadata": {},
   "outputs": [
    {
     "data": {
      "text/plain": [
       "['landslide__probability_of_failure',\n",
       " 'soil__mean_relative_wetness',\n",
       " 'soil__mean_watertable_depth',\n",
       " 'soil__probability_of_saturation']"
      ]
     },
     "execution_count": 100,
     "metadata": {},
     "output_type": "execute_result"
    }
   ],
   "source": [
    "sorted(LandslideProbability.output_var_names)"
   ]
  },
  {
   "cell_type": "markdown",
   "metadata": {},
   "source": [
    "Review the details of what each variable represents.  Close the window with the upper right [x] after viewing."
   ]
  },
  {
   "cell_type": "code",
   "execution_count": 101,
   "metadata": {},
   "outputs": [],
   "source": [
    "?LandslideProbability"
   ]
  },
  {
   "cell_type": "markdown",
   "metadata": {},
   "source": [
    "Check the details of any input or output variable."
   ]
  },
  {
   "cell_type": "code",
   "execution_count": 102,
   "metadata": {},
   "outputs": [
    {
     "name": "stdout",
     "output_type": "stream",
     "text": [
      "name: soil__mean_watertable_depth\n",
      "description:\n",
      "  Mean depth to water table from surface to perched water table within\n",
      "  the soil layer\n",
      "units: m\n",
      "at: node\n",
      "intent: out\n"
     ]
    }
   ],
   "source": [
    "LandslideProbability.var_help('soil__mean_watertable_depth')"
   ]
  },
  {
   "cell_type": "markdown",
   "metadata": {},
   "source": [
    "Now we will create the required fields for the landslide component and add data as fields to the grid.  Thus, the data arrays will need to be as the length of the number of nodes.<br /> \n",
    "##### Data Fields Restart opportunity: After completing this entire notebook, go to the Dashboard, Kernal, and select Restart and Clear Output.  Execute the code from the beginning, but change the cell below to the data inputs of your choice.  "
   ]
  },
  {
   "cell_type": "code",
   "execution_count": 103,
   "metadata": {},
   "outputs": [],
   "source": [
    "gridnodes = grid.number_of_nodes\n",
    "grid_size = grid.number_of_nodes\n",
    "\n",
    "grid['node']['soil__density']= \\\n",
    "         2000. * np.ones(gridnodes)\n",
    "\n",
    "grid['node']['soil__internal_friction_angle']= \\\n",
    "         np.sort(np.random.uniform(26, 37, gridnodes))\n",
    "\n",
    "grid['node']['soil__mode_total_cohesion']= \\\n",
    "         np.sort(np.random.uniform(30, 900, gridnodes))\n",
    "    \n",
    "scatter_dat = np.random.uniform(1, 10, gridnodes)    \n",
    "grid['node']['soil__maximum_total_cohesion']= \\\n",
    "         grid.at_node['soil__mode_total_cohesion'] + scatter_dat\n",
    "\n",
    "grid['node']['soil__minimum_total_cohesion']= \\\n",
    "         grid.at_node['soil__mode_total_cohesion'] - scatter_dat\n",
    "\n",
    "grid['node']['soil__thickness']= \\\n",
    "         np.sort(np.random.uniform(0.1, 3, gridnodes))\n",
    "\n",
    "grid['node']['soil__transmissivity']= \\\n",
    "         np.sort(np.random.uniform(5, 20, gridnodes),-1)\n",
    "\n",
    "grid['node']['soil__saturated_hydraulic_conductivity']= \\\n",
    "        grid['node']['soil__transmissivity']/grid['node']['soil__thickness']\n",
    "        \n",
    "grid['node']['topographic__slope'] = np.sort(np.random.rand(gridnodes))\n",
    "grid['node']['topographic__slope'] = grid['node']['topographic__slope'][::-1]  #reverse sort low slope upper right\n",
    "\n",
    "\n",
    "grid['node']['topographic__specific_contributing_area']= \\\n",
    "         np.sort(np.random.uniform(30, 900, gridnodes))"
   ]
  },
  {
   "cell_type": "code",
   "execution_count": 104,
   "metadata": {},
   "outputs": [],
   "source": [
    "import copy\n",
    "grid_r=copy.deepcopy(grid)\n",
    "grid_d=copy.deepcopy(grid)"
   ]
  },
  {
   "cell_type": "markdown",
   "metadata": {},
   "source": [
    "Let's see what one of these fields (slope) looks like on the grid."
   ]
  },
  {
   "cell_type": "code",
   "execution_count": 105,
   "metadata": {},
   "outputs": [
    {
     "data": {
      "image/png": "[encoded data removed]",
      "text/plain": [
       "<Figure size 432x288 with 2 Axes>"
      ]
     },
     "metadata": {
      "needs_background": "light"
     },
     "output_type": "display_data"
    }
   ],
   "source": [
    "imshow_grid(grid,'topographic__slope', cmap='terrain',\n",
    "                 grid_units=('coordinates', 'coordinates'), shrink=0.75,\n",
    "                 var_name='Slope', var_units='m/m')"
   ]
  },
  {
   "cell_type": "code",
   "execution_count": 106,
   "metadata": {},
   "outputs": [
    {
     "data": {
      "image/png": "[encoded data removed]",
      "text/plain": [
       "<Figure size 432x288 with 2 Axes>"
      ]
     },
     "metadata": {
      "needs_background": "light"
     },
     "output_type": "display_data"
    }
   ],
   "source": [
    "imshow_grid(grid,'soil__thickness', cmap='copper_r',\n",
    "                 grid_units=('coordinates', 'coordinates'), shrink=0.75,\n",
    "                 var_name='Soil Thickness', var_units='m')"
   ]
  },
  {
   "cell_type": "markdown",
   "metadata": {},
   "source": [
    "### Number of iterations to run Monte Carlo simulation"
   ]
  },
  {
   "cell_type": "markdown",
   "metadata": {},
   "source": [
    "The landslide component employes the infinite slope model to calculate factor-of-safety values using a Monte Carlo simulation approach, which randomly selects input values from parameter distributions. You can pick the number of iterations to run Monte Carlo simulations, but the default is 250. The higher the number of iteration, the longer the program runs, but the more precise the probability of failure result becomes.<br /> \n",
    "##### Random iterations Restart opportunity: After completing this entire notebook, go to the Dashboard, Kernal, and select Restart and Clear Output.  Execute the code from the beginning, but change the cell below to the number of iterations of your choice.  "
   ]
  },
  {
   "cell_type": "code",
   "execution_count": 107,
   "metadata": {},
   "outputs": [],
   "source": [
    "n = 25"
   ]
  },
  {
   "cell_type": "markdown",
   "metadata": {},
   "source": [
    "## Specify Recharge Distributions to compare four options"
   ]
  },
  {
   "cell_type": "markdown",
   "metadata": {},
   "source": [
    "There are _four_ different options for providing recharge for the Monte Carlo simulation.  We'll provide each of these recharge options below by specifying a recharge distribution and the necessary parameters. <br /> \n",
    "##### Restart opportunity: After completing this entire notebook, go to the Dashboard, Kernal, and select Restart and Clear Output.  Execute the code from the beginning, but change the cells below to adjust the recharge distributions."
   ]
  },
  {
   "cell_type": "markdown",
   "metadata": {},
   "source": [
    " ### 0. Recharge Option - component defaults"
   ]
  },
  {
   "cell_type": "code",
   "execution_count": 108,
   "metadata": {},
   "outputs": [
    {
     "name": "stdout",
     "output_type": "stream",
     "text": [
      "Recharge successfully instantiated with defaults\n",
      "Depth successfully instantiated with defaults\n"
     ]
    }
   ],
   "source": [
    "LS_prob0_r = LandslideProbability(grid_r)\n",
    "print('Recharge successfully instantiated with defaults')\n",
    "LS_prob0_d = LandslideProbability(grid_d)\n",
    "print('Depth successfully instantiated with defaults')"
   ]
  },
  {
   "cell_type": "markdown",
   "metadata": {},
   "source": [
    " ### 1. Recharge and Depth Options - 'uniform' distribution "
   ]
  },
  {
   "cell_type": "markdown",
   "metadata": {},
   "source": [
    "In this option, we'll apply a uniform distribution of recharge and depth based on minimum and maximum recharge and depth values.  We will then instantiate the LandslideProbability component with these parameters, as well as the grid and number of iterations we specified above.  Instantiate creates an instance of a class.  (For example, the _iPhone_ is a class and _each phone_ is an instance.)\n",
    "\n",
    "No outputs are generated by these commands as they are setting up the recharge and depth and instantiating the component.\n"
   ]
  },
  {
   "cell_type": "code",
   "execution_count": 109,
   "metadata": {
    "scrolled": true
   },
   "outputs": [
    {
     "name": "stdout",
     "output_type": "stream",
     "text": [
      "Uniform recharge successfully instantiated\n",
      "Uniform depth to water table successfully instantiated\n"
     ]
    }
   ],
   "source": [
    "# See soil thickness above set from a range of 1 to 3 meters\n",
    "\n",
    "distribution1 = 'uniform'\n",
    "Remin_value = 5 \n",
    "Remax_value = 200 #mm/day\n",
    "\n",
    "LS_prob1_r = LandslideProbability(grid_r,number_of_iterations=n,\n",
    "    groundwater__recharge_distribution=distribution1,\n",
    "    groundwater__recharge_min_value=Remin_value,\n",
    "    groundwater__recharge_max_value=Remax_value)\n",
    "print('Uniform recharge successfully instantiated')\n",
    "\n",
    "Demin_value = 0 \n",
    "Demax_value = 1  #meters\n",
    "\n",
    "LS_prob1_d = LandslideProbability(grid_d,number_of_iterations=n,\n",
    "    groundwater__depth_distribution=distribution1,\n",
    "    groundwater__depth_min_value=Demin_value,\n",
    "    groundwater__depth_max_value=Demax_value)\n",
    "print('Uniform depth to water table successfully instantiated')"
   ]
  },
  {
   "cell_type": "markdown",
   "metadata": {},
   "source": [
    "### 2. Recharge and Depth Options - 'lognormal' distribution"
   ]
  },
  {
   "cell_type": "markdown",
   "metadata": {},
   "source": [
    "In this option, we specify a lognormal distribution with a recharge and depth mean and standard deviation values.  We instantiate the LandslideProbabilty class to create a new object or 'instance' of the class/component LandslideProbability. So now we have created two instances."
   ]
  },
  {
   "cell_type": "code",
   "execution_count": 110,
   "metadata": {},
   "outputs": [
    {
     "name": "stdout",
     "output_type": "stream",
     "text": [
      "Lognormal recharge successfully instantiated\n",
      "Lognormal depth to water table successfully instantiated\n"
     ]
    }
   ],
   "source": [
    "distribution2 = 'lognormal'\n",
    "\n",
    "Remean = 10.\n",
    "Restandard_deviation = 0.25\n",
    "LS_prob2_r = LandslideProbability(grid_r,number_of_iterations=n,\n",
    "    groundwater__recharge_distribution=distribution2,\n",
    "    groundwater__recharge_mean=Remean,\n",
    "    groundwater__recharge_standard_deviation=Restandard_deviation)\n",
    "print('Lognormal recharge successfully instantiated')\n",
    "\n",
    "Demean = 1.\n",
    "Destandard_deviation = 0.5\n",
    "LS_prob2_d = LandslideProbability(grid_d,number_of_iterations=n,\n",
    "    groundwater__depth_distribution=distribution2,\n",
    "    groundwater__depth_mean=Demean,\n",
    "    groundwater__depth_standard_deviation=Destandard_deviation)\n",
    "print('Lognormal depth to water table successfully instantiated')"
   ]
  },
  {
   "cell_type": "markdown",
   "metadata": {},
   "source": [
    "### 3. Recharge and Depth Options - 'lognormal_spatial' distribution"
   ]
  },
  {
   "cell_type": "markdown",
   "metadata": {},
   "source": [
    "Similar to the previous option (#2), we use a lognormal distribution for recharge and depth.  However, in this case we provide arrays to represent mean and standard deviation values for each node in our grid.  Thus, the distribution varies for each node - representing a spatially varying distribution of recharge and depth."
   ]
  },
  {
   "cell_type": "code",
   "execution_count": 111,
   "metadata": {},
   "outputs": [
    {
     "name": "stdout",
     "output_type": "stream",
     "text": [
      "Lognormal spatial recharge successfully instantiated\n",
      "Lognormal spatial depth to water table successfully instantiated\n"
     ]
    }
   ],
   "source": [
    "distribution3 = 'lognormal_spatial'\n",
    "Remean3 = np.random.randint(5,15,grid_size)\n",
    "Restandard_deviation3 = np.random.rand(grid_size)\n",
    "LS_prob3_r = LandslideProbability(grid_r,number_of_iterations=n,\n",
    "    groundwater__recharge_distribution=distribution3,\n",
    "    groundwater__recharge_mean=Remean3,\n",
    "    groundwater__recharge_standard_deviation=Restandard_deviation3)\n",
    "print('Lognormal spatial recharge successfully instantiated')\n",
    "\n",
    "Demean3 = np.random.randint(1,3,grid_size)\n",
    "Destandard_deviation3 = np.random.rand(grid_size)\n",
    "LS_prob3_d = LandslideProbability(grid_d,number_of_iterations=n,\n",
    "    groundwater__depth_distribution=distribution3,\n",
    "    groundwater__depth_mean=Demean3,\n",
    "    groundwater__depth_standard_deviation=Destandard_deviation3)\n",
    "print('Lognormal spatial depth to water table successfully instantiated')"
   ]
  },
  {
   "cell_type": "markdown",
   "metadata": {},
   "source": [
    "### 4. Recharge and Depth 'data_driven_spatial' distributions \n",
    "\n",
    "### Generate Recharge input option "
   ]
  },
  {
   "cell_type": "markdown",
   "metadata": {},
   "source": [
    "This is the most complex representation of recharge used in the LandslideProbability component.  \n",
    "In this case, we provide recharge distributions (arrays) directly that are unique for each node.  \n",
    "\n",
    "In a real-world situation, we would acquire these from a hydrologic model that often has a coarser resolution than our grid.<br />\n",
    "Thus, we route the recharge data arrays from these larger Hydraulic Source Domain (HSD) grids down to each node of our grid. Landlab has a 'Source tracking algorithm' utility that performs this routing and produces Python dictionaries (_key: value_ pairs) that become parameters for the 'data_driven_spatial' recharge distribution.  In this synthetic example, we'll generate synthetic versions of these dictionaries."
   ]
  },
  {
   "cell_type": "code",
   "execution_count": 112,
   "metadata": {},
   "outputs": [
    {
     "name": "stdout",
     "output_type": "stream",
     "text": [
      "HSD_dict dictionary is a unique array of recharge provided as arrays (‘values’) for each of the Hydrologic Source Domain (HSD) (‘keys’). \n",
      "The entire synthetic dictionary is:\n",
      "{2: array([ 5,  6, 14, 14,  5,  9, 12,  8,  7, 12]), 3: array([ 7,  5,  5,  9, 10, 10, 11, 13,  9,  6]), 4: array([ 9, 14, 13,  6,  6, 12, 14, 14,  8, 11]), 5: array([12,  7,  5,  8, 10, 14,  9,  9, 11,  9]), 6: array([ 9,  8,  9,  9, 13,  9,  8, 12, 10, 10]), 7: array([ 5,  6, 10, 14,  8,  5, 10,  5,  6,  7])}\n",
      "The array for the HSD vkey = 2 of this unordered dictionary is:\n",
      "[ 5  6 14 14  5  9 12  8  7 12]\n"
     ]
    }
   ],
   "source": [
    "HSD_dict = {}\n",
    "for vkey in range(2,8):  #the first example vkey =2 is printed below\n",
    "    HSD_dict[vkey] = np.random.randint(5,15,10)    # 20 - 120 mm/day \n",
    "print('HSD_dict dictionary is a unique array of recharge provided as arrays (‘values’) for each of the Hydrologic Source Domain (HSD) (‘keys’). ')    \n",
    "print('The entire synthetic dictionary is:')\n",
    "print(HSD_dict)\n",
    "print('The array for the HSD vkey = 2 of this unordered dictionary is:')\n",
    "print(HSD_dict[2])"
   ]
  },
  {
   "cell_type": "markdown",
   "metadata": {},
   "source": [
    "HSD_ID dictionary has the grid node ID as ‘keys’ and HSD IDs in a list as ‘values’. "
   ]
  },
  {
   "cell_type": "code",
   "execution_count": 113,
   "metadata": {},
   "outputs": [
    {
     "name": "stdout",
     "output_type": "stream",
     "text": [
      "The entire ID synthetic dictionary is:\n",
      "{5: array([6, 4]), 6: array([2, 7]), 9: array([5, 4]), 10: array([4, 7]), 13: array([2, 7]), 14: array([3, 2])}\n",
      "The array for the ckey = 5, the first index of core nodes in the dictionary is:\n",
      "[6 4]\n",
      "The two values in the array are the multiple vkeys that correspond/drain to the ckey:\n"
     ]
    }
   ],
   "source": [
    "HSD_id_dict = {}\n",
    "for ckey in grid.core_nodes:\n",
    "    HSD_id_dict[ckey] = np.random.randint(2,8,2)\n",
    "print('The entire ID synthetic dictionary is:')\n",
    "print(HSD_id_dict)\n",
    "print('The array for the ckey = 5, the first index of core nodes in the dictionary is:')\n",
    "print(HSD_id_dict[5])\n",
    "print('The two values in the array are the multiple vkeys that correspond/drain to the ckey:')\n"
   ]
  },
  {
   "cell_type": "markdown",
   "metadata": {},
   "source": [
    "The fractions dictionary assigns to each node ID as ‘key’ a lists the fractions of each HSD draining to the node as ‘values’. "
   ]
  },
  {
   "cell_type": "code",
   "execution_count": 114,
   "metadata": {},
   "outputs": [
    {
     "name": "stdout",
     "output_type": "stream",
     "text": [
      "The entire ID synthetic dictionary is:\n",
      "{5: array([ 0.44171092,  0.97958673]), 6: array([ 0.35944446,  0.48089353]), 9: array([ 0.68866118,  0.88047589]), 10: array([ 0.91823547,  0.21682214]), 13: array([ 0.56518887,  0.86510256]), 14: array([ 0.50896896,  0.91672295])}\n",
      "The fractional values (sum=1) in the array can be used to add the multiple vkeys that correspond/drain to each key:\n",
      "[ 0.44171092  0.97958673]\n"
     ]
    }
   ],
   "source": [
    "fract_dict = {}\n",
    "for ckey in grid.core_nodes:\n",
    "    fract_dict[ckey] =  np.random.rand(2)\n",
    "print('The entire ID synthetic dictionary is:')\n",
    "print(fract_dict)\n",
    "print('The fractional values (sum=1) in the array can be used to add the multiple vkeys that correspond/drain to each key:')\n",
    "print(fract_dict[5])"
   ]
  },
  {
   "cell_type": "markdown",
   "metadata": {},
   "source": [
    "When the component is instantiated, the three dictionaries are provided as the 'parameters' for the distribution in explicit order."
   ]
  },
  {
   "cell_type": "markdown",
   "metadata": {},
   "source": [
    "### Generate Depth to water table Input option"
   ]
  },
  {
   "cell_type": "code",
   "execution_count": 115,
   "metadata": {},
   "outputs": [
    {
     "name": "stdout",
     "output_type": "stream",
     "text": [
      "{0: {0: array([ 0.92115761,  0.08311249,  0.27771856])}, 1: {1: array([ 0.0093567 ,  0.84234208,  0.64717414])}, 2: {2: array([ 0.84138612,  0.26473016,  0.39782075])}, 3: {3: array([ 0.55282148,  0.16494046,  0.36980809])}, 4: {4: array([ 0.14644176,  0.56961841,  0.70373728])}, 5: {5: array([ 0.28847644,  0.43328806,  0.75610669])}, 6: {6: array([ 0.39609828,  0.89603839,  0.63892108])}, 7: {7: array([ 0.89155444,  0.68005557,  0.44919774])}, 8: {8: array([ 0.97857093,  0.11620191,  0.7670237 ])}, 9: {9: array([ 0.41182014,  0.67543908,  0.24979628])}, 10: {10: array([ 0.31321833,  0.96541622,  0.58846509])}, 11: {11: array([ 0.65966841,  0.53320625,  0.23053302])}, 12: {12: array([ 0.39486929,  0.61880856,  0.47486752])}, 13: {13: array([ 0.47013219,  0.71607453,  0.287991  ])}, 14: {14: array([ 0.38346223,  0.74916984,  0.87845219])}, 15: {15: array([ 0.10286336,  0.09237389,  0.35404666])}, 16: {16: array([ 0.55181626,  0.03362509,  0.96896177])}, 17: {17: array([ 0.32099724,  0.22126269,  0.1412639 ])}, 18: {18: array([ 0.09725993,  0.98404224,  0.26034093])}, 19: {19: array([ 0.53702252,  0.44792617,  0.09956909])}}\n",
      "The values assigned to the first node (key) are: \n",
      "[ 0.53702252  0.44792617  0.09956909]\n"
     ]
    }
   ],
   "source": [
    "key=np.arange(grid.number_of_nodes)\n",
    "HSD_inputs_d={}\n",
    "\n",
    "for i in range(grid.number_of_nodes):\n",
    "    annualmaxDWT=np.random.rand(3)\n",
    "    HSD_inputs_d[i] = {key[i]:annualmaxDWT} \n",
    "\n",
    "print(HSD_inputs_d)\n",
    "print('The values assigned to the first node (key) are: ')\n",
    "hwdist=pd.DataFrame.from_dict(HSD_inputs_d[i], orient='index')\n",
    "print(hwdist.values[0])"
   ]
  },
  {
   "cell_type": "markdown",
   "metadata": {},
   "source": [
    "### Calculate landslide component input distributions"
   ]
  },
  {
   "cell_type": "code",
   "execution_count": 116,
   "metadata": {},
   "outputs": [
    {
     "name": "stdout",
     "output_type": "stream",
     "text": [
      "Data driven spatial recharge successfully instantiated\n",
      "Data driven spatial randomly generated depth to water table successfully instantiated\n"
     ]
    }
   ],
   "source": [
    "distribution4 = 'data_driven_spatial'\n",
    "\n",
    "HSD_inputs_r = [HSD_dict,HSD_id_dict,fract_dict]\n",
    "LS_prob4_r = LandslideProbability(grid_r,number_of_iterations=n,\n",
    "    groundwater__recharge_distribution=distribution4,\n",
    "    groundwater__recharge_HSD_inputs=HSD_inputs_r)\n",
    "print('Data driven spatial recharge successfully instantiated')\n",
    "\n",
    "LS_prob4_d = LandslideProbability(grid_d,number_of_iterations=n,\n",
    "    groundwater__depth_distribution=distribution4,\n",
    "    groundwater__depth_HSD_inputs=HSD_inputs_d)\n",
    "print('Data driven spatial randomly generated depth to water table successfully instantiated')"
   ]
  },
  {
   "cell_type": "markdown",
   "metadata": {},
   "source": [
    "## Run the Landslide Component "
   ]
  },
  {
   "cell_type": "markdown",
   "metadata": {},
   "source": [
    "To generate the outputs from running the component, we call the 'calculate_landslide_probability' method inside the component using the class instance (e.g., LS_prob1) for each recharge option specified above. The following cell runs the model; in the following section we will assessing the results."
   ]
  },
  {
   "cell_type": "markdown",
   "metadata": {},
   "source": [
    "###  Run the Landslide Component in Default Mode\n",
    "\n",
    "Uniform recharge; default parameters.\n",
    "\n",
    "Using recharge defaults (option 0) as an example, run the recharge option simulation of probability of failure. \n"
   ]
  },
  {
   "cell_type": "code",
   "execution_count": 117,
   "metadata": {},
   "outputs": [
    {
     "name": "stdout",
     "output_type": "stream",
     "text": [
      "Landslide probability successfully calculated\n"
     ]
    }
   ],
   "source": [
    "LS_prob0_r.calculate_landslide_probability()\n",
    "LS_prob0_d.calculate_landslide_probability()\n",
    "\n",
    "print('Landslide probability successfully calculated')"
   ]
  },
  {
   "cell_type": "markdown",
   "metadata": {},
   "source": [
    "The outputs of model simulations are:"
   ]
  },
  {
   "cell_type": "code",
   "execution_count": 118,
   "metadata": {},
   "outputs": [
    {
     "data": {
      "text/plain": [
       "['landslide__probability_of_failure',\n",
       " 'soil__mean_relative_wetness',\n",
       " 'soil__mean_watertable_depth',\n",
       " 'soil__probability_of_saturation']"
      ]
     },
     "execution_count": 118,
     "metadata": {},
     "output_type": "execute_result"
    }
   ],
   "source": [
    "sorted(LS_prob0_d.output_var_names)"
   ]
  },
  {
   "cell_type": "markdown",
   "metadata": {},
   "source": [
    "Save the arrays as variables by 'attaching the fields to the grid' and view the outputs. \n",
    "\n",
    "This simulation generates a probability value for each core node. "
   ]
  },
  {
   "cell_type": "code",
   "execution_count": 119,
   "metadata": {},
   "outputs": [
    {
     "data": {
      "text/plain": [
       "array([ 0.   ,  0.   ,  0.   ,  0.   ,  0.   ,  1.   ,  1.   ,  0.   ,\n",
       "        0.   ,  1.   ,  0.996,  0.   ,  0.   ,  0.588,  0.208,  0.   ,\n",
       "        0.   ,  0.   ,  0.   ,  0.   ])"
      ]
     },
     "execution_count": 119,
     "metadata": {},
     "output_type": "execute_result"
    }
   ],
   "source": [
    "LS_prob0_d_probability_of_failure = grid_d.at_node['landslide__probability_of_failure']\n",
    "grid_d.at_node['landslide__probability_of_failure']"
   ]
  },
  {
   "cell_type": "code",
   "execution_count": 120,
   "metadata": {},
   "outputs": [
    {
     "data": {
      "text/plain": [
       "array([ 0.   ,  0.   ,  0.   ,  0.   ,  0.   ,  1.   ,  1.   ,  0.   ,\n",
       "        0.   ,  1.   ,  0.98 ,  0.   ,  0.   ,  0.596,  0.14 ,  0.   ,\n",
       "        0.   ,  0.   ,  0.   ,  0.   ])"
      ]
     },
     "execution_count": 120,
     "metadata": {},
     "output_type": "execute_result"
    }
   ],
   "source": [
    "LS_prob0_r_probability_of_failure = grid_r.at_node['landslide__probability_of_failure']\n",
    "grid_r.at_node['landslide__probability_of_failure']"
   ]
  },
  {
   "cell_type": "markdown",
   "metadata": {},
   "source": [
    "This simulation generates a mean relative wetness value for each core node."
   ]
  },
  {
   "cell_type": "code",
   "execution_count": 121,
   "metadata": {},
   "outputs": [
    {
     "data": {
      "text/plain": [
       "array([ 0.,  0.,  0.,  0.,  0.,  1.,  1.,  0.,  0.,  1.,  1.,  0.,  0.,\n",
       "        1.,  1.,  0.,  0.,  0.,  0.,  0.])"
      ]
     },
     "execution_count": 121,
     "metadata": {},
     "output_type": "execute_result"
    }
   ],
   "source": [
    "LS_prob0_r_relative_wetness = grid_r.at_node['soil__mean_relative_wetness']\n",
    "grid_r.at_node['soil__mean_relative_wetness']"
   ]
  },
  {
   "cell_type": "code",
   "execution_count": 122,
   "metadata": {},
   "outputs": [
    {
     "data": {
      "text/plain": [
       "array([ 0.,  0.,  0.,  0.,  0.,  1.,  1.,  0.,  0.,  1.,  1.,  0.,  0.,\n",
       "        1.,  1.,  0.,  0.,  0.,  0.,  0.])"
      ]
     },
     "execution_count": 122,
     "metadata": {},
     "output_type": "execute_result"
    }
   ],
   "source": [
    "LS_prob0_d_relative_wetness = grid_d.at_node['soil__mean_relative_wetness']\n",
    "grid_d.at_node['soil__mean_relative_wetness']"
   ]
  },
  {
   "cell_type": "markdown",
   "metadata": {},
   "source": [
    "These model output arrays are attached to the grid as fields. When we run the model for a different recharge, these fields are over-written. \n",
    "\n",
    "###  Run the Landslide Component and Save Outputs for Four Different Modes\n",
    "\n",
    "Run the remaining three recharge options and save the arrays as variables for plotting."
   ]
  },
  {
   "cell_type": "code",
   "execution_count": 123,
   "metadata": {},
   "outputs": [],
   "source": [
    "LS_prob0_r.calculate_landslide_probability()\n",
    "LS_prob0_r_probability_of_failure = grid_r.at_node['landslide__probability_of_failure']\n",
    "LS_prob0_r_relative_wetness = grid_r.at_node['soil__mean_relative_wetness']\n",
    "\n",
    "LS_prob0_d.calculate_landslide_probability()\n",
    "LS_prob0_d_probability_of_failure = grid_d.at_node['landslide__probability_of_failure']\n",
    "LS_prob0_d_relative_wetness = grid_d.at_node['soil__mean_relative_wetness']\n",
    "\n",
    "LS_prob1_r.calculate_landslide_probability()\n",
    "LS_prob1_r_probability_of_failure = grid_r.at_node['landslide__probability_of_failure']\n",
    "LS_prob1_r_relative_wetness = grid_r.at_node['soil__mean_relative_wetness']\n",
    "\n",
    "LS_prob1_d.calculate_landslide_probability()\n",
    "LS_prob1_d_probability_of_failure = grid_d.at_node['landslide__probability_of_failure']\n",
    "LS_prob1_d_relative_wetness = grid_d.at_node['soil__mean_relative_wetness']"
   ]
  },
  {
   "cell_type": "code",
   "execution_count": 124,
   "metadata": {},
   "outputs": [],
   "source": [
    "LS_prob2_r.calculate_landslide_probability()\n",
    "LS_prob2_r_probability_of_failure = grid_r.at_node['landslide__probability_of_failure']\n",
    "LS_prob2_r_relative_wetness = grid_r.at_node['soil__mean_relative_wetness']\n",
    "\n",
    "LS_prob2_d.calculate_landslide_probability()\n",
    "LS_prob2_d_probability_of_failure = grid_d.at_node['landslide__probability_of_failure']\n",
    "LS_prob2_d_relative_wetness = grid_d.at_node['soil__mean_relative_wetness']\n",
    "\n",
    "LS_prob3_r.calculate_landslide_probability()\n",
    "LS_prob3_r_probability_of_failure = grid_r.at_node['landslide__probability_of_failure']\n",
    "LS_prob3_r_relative_wetness = grid_r.at_node['soil__mean_relative_wetness']\n",
    "\n",
    "#LS_prob3_d.calculate_landslide_probability()\n",
    "#LS_prob3_d_probability_of_failure = grid_d.at_node['landslide__probability_of_failure']\n",
    "#LS_prob3_d_relative_wetness = grid_d.at_node['soil__mean_relative_wetness']\n",
    "\n",
    "LS_prob4_r.calculate_landslide_probability()\n",
    "LS_prob4_r_probability_of_failure = grid_r.at_node['landslide__probability_of_failure']\n",
    "LS_prob4_r_relative_wetness = grid_r.at_node['soil__mean_relative_wetness']\n",
    "\n",
    "#LS_prob4_d.calculate_landslide_probability()\n",
    "#LS_prob4_d_probability_of_failure = grid_d.at_node['landslide__probability_of_failure']\n",
    "#LS_prob4_d_relative_wetness = grid_d.at_node['soil__mean_relative_wetness']"
   ]
  },
  {
   "cell_type": "markdown",
   "metadata": {},
   "source": [
    "## View the  Landslide Outputs with Default Parameters "
   ]
  },
  {
   "cell_type": "code",
   "execution_count": 125,
   "metadata": {},
   "outputs": [
    {
     "data": {
      "image/png": "[encoded data removed]",
      "text/plain": [
       "<Figure size 432x288 with 1 Axes>"
      ]
     },
     "metadata": {
      "needs_background": "light"
     },
     "output_type": "display_data"
    },
    {
     "data": {
      "image/png": "[encoded data removed]",
      "text/plain": [
       "<Figure size 432x288 with 1 Axes>"
      ]
     },
     "metadata": {
      "needs_background": "light"
     },
     "output_type": "display_data"
    }
   ],
   "source": [
    "fig = plt.figure('Probability of Failure')\n",
    "xticks = np.arange(-0.1, 0.8, 0.4)\n",
    "ax1 = fig.add_subplot(221)\n",
    "ax1.xaxis.set_visible(False)\n",
    "imshow_grid(grid_d, LS_prob0_d_probability_of_failure, plot_name='Probability of Failure',\n",
    "                    allow_colorbar=False, cmap='OrRd',\n",
    "                    grid_units=('coordinates',''))\n",
    "\n",
    "fig = plt.figure('Mean Relative Wetness')\n",
    "xticks = np.arange(-0.1, 0.8, 0.4)\n",
    "ax1 = fig.add_subplot(221)\n",
    "ax1.xaxis.set_visible(False)\n",
    "imshow_grid(grid_d, LS_prob0_d_relative_wetness, plot_name='Relative Wetness',\n",
    "                    allow_colorbar=False, cmap='YlGnBu',\n",
    "                    grid_units=('coordinates',''))"
   ]
  },
  {
   "cell_type": "markdown",
   "metadata": {},
   "source": [
    "## Compare the sensitivity based on four recharge options"
   ]
  },
  {
   "cell_type": "markdown",
   "metadata": {
    "collapsed": true
   },
   "source": [
    "Now lets do some plotting to see what we produced.  The four commands below will plot the probability of failure for each of the recharge options we specified above."
   ]
  },
  {
   "cell_type": "markdown",
   "metadata": {},
   "source": [
    "### Compare the Probability of failure\n",
    "Now lets compare the probabilities of failure for our four recharge options.  Note - we use the arrays we named above instead of fields after 'grid'."
   ]
  },
  {
   "cell_type": "code",
   "execution_count": 126,
   "metadata": {
    "scrolled": true
   },
   "outputs": [
    {
     "data": {
      "image/png": "[encoded data removed]",
      "text/plain": [
       "<Figure size 432x288 with 5 Axes>"
      ]
     },
     "metadata": {
      "needs_background": "light"
     },
     "output_type": "display_data"
    }
   ],
   "source": [
    "fig = plt.figure('Probability of Failure')\n",
    "xticks = np.arange(-0.1, 0.8, 0.4)\n",
    "ax1 = fig.add_subplot(221)\n",
    "ax1.xaxis.set_visible(False)\n",
    "imshow_grid(grid_d, LS_prob0_d_probability_of_failure, plot_name='Depth 0',\n",
    "                    allow_colorbar=False, cmap='OrRd',\n",
    "                    grid_units=('coordinates',''))\n",
    "ax2 = fig.add_subplot(222)\n",
    "ax2.xaxis.set_visible(False)\n",
    "imshow_grid(grid_r, LS_prob0_r_probability_of_failure, plot_name='Recharge 0',\n",
    "                    allow_colorbar=False, cmap='OrRd',\n",
    "                    grid_units=('coordinates', 'coordinates'))\n",
    "ax3 = fig.add_subplot(223)\n",
    "ax3.set_xticks(xticks)\n",
    "imshow_grid(grid_d, LS_prob1_d_probability_of_failure,plot_name='Depth 1',\n",
    "                    allow_colorbar=False, cmap='OrRd',\n",
    "                    grid_units=('coordinates', 'coordinates'))\n",
    "ax4 = fig.add_subplot(224)\n",
    "ax4.set_xticks(xticks)\n",
    "imshow_grid(grid_r, LS_prob1_r_probability_of_failure, cmap='OrRd', plot_name='Recharge 1',\n",
    "                    grid_units=('coordinates', 'coordinates'), shrink=0.9,\n",
    "                    var_name='Probability of Failure')\n",
    "plt.savefig('Probability_of_Failure_synthetic.png')"
   ]
  },
  {
   "cell_type": "code",
   "execution_count": 127,
   "metadata": {
    "scrolled": true
   },
   "outputs": [
    {
     "data": {
      "image/png": "[encoded data removed]",
      "text/plain": [
       "<Figure size 432x288 with 5 Axes>"
      ]
     },
     "metadata": {
      "needs_background": "light"
     },
     "output_type": "display_data"
    }
   ],
   "source": [
    "fig = plt.figure('Probability of Failure')\n",
    "xticks = np.arange(-0.1, 0.8, 0.4)\n",
    "ax1 = fig.add_subplot(221)\n",
    "ax1.xaxis.set_visible(False)\n",
    "imshow_grid(grid_d, LS_prob1_d_probability_of_failure, plot_name='Depth 1',\n",
    "                    allow_colorbar=False, cmap='OrRd',\n",
    "                    grid_units=('coordinates',''))\n",
    "ax2 = fig.add_subplot(222)\n",
    "ax2.xaxis.set_visible(False)\n",
    "imshow_grid(grid_r, LS_prob1_r_probability_of_failure, plot_name='Recharge 1',\n",
    "                    allow_colorbar=False, cmap='OrRd',\n",
    "                    grid_units=('coordinates', 'coordinates'))\n",
    "ax3 = fig.add_subplot(223)\n",
    "ax3.set_xticks(xticks)\n",
    "imshow_grid(grid_d, LS_prob2_d_probability_of_failure,plot_name='Depth 2',\n",
    "                    allow_colorbar=False, cmap='OrRd',\n",
    "                    grid_units=('coordinates', 'coordinates'))\n",
    "ax4 = fig.add_subplot(224)\n",
    "ax4.set_xticks(xticks)\n",
    "imshow_grid(grid_r, LS_prob2_r_probability_of_failure, cmap='OrRd', plot_name='Recharge 2',\n",
    "                    grid_units=('coordinates', 'coordinates'), shrink=0.9,\n",
    "                    var_name='Probability of Failure')\n",
    "plt.savefig('Probability_of_Failure_synthetic.png')"
   ]
  },
  {
   "cell_type": "markdown",
   "metadata": {},
   "source": [
    "Note that only the core nodes in the middle have values.  The outside nodes are closed.  Also, see how these compare with the slope plot above.\n",
    "\n",
    "Now lets do the same for mean relative wetness."
   ]
  },
  {
   "cell_type": "code",
   "execution_count": 128,
   "metadata": {},
   "outputs": [
    {
     "data": {
      "image/png": "[encoded data removed]",
      "text/plain": [
       "<Figure size 432x288 with 5 Axes>"
      ]
     },
     "metadata": {
      "needs_background": "light"
     },
     "output_type": "display_data"
    }
   ],
   "source": [
    "fig = plt.figure('Mean Relative Wetness')\n",
    "xticks = np.arange(-0.1, 0.8, 0.4)\n",
    "ax1 = fig.add_subplot(221)\n",
    "ax1.xaxis.set_visible(False)\n",
    "imshow_grid(grid_d, LS_prob0_d_relative_wetness, plot_name='Rw Depth 0',\n",
    "                    allow_colorbar=False, cmap='YlGnBu',\n",
    "                    grid_units=('coordinates',''))\n",
    "ax2 = fig.add_subplot(222)\n",
    "ax2.xaxis.set_visible(False)\n",
    "imshow_grid(grid_r, LS_prob0_r_relative_wetness, plot_name='Rw Recharge 0',\n",
    "                    allow_colorbar=False, cmap='YlGnBu',\n",
    "                    grid_units=('coordinates', 'coordinates'))\n",
    "ax3 = fig.add_subplot(223)\n",
    "ax3.set_xticks(xticks)\n",
    "imshow_grid(grid_d, LS_prob1_d_relative_wetness,plot_name='Rw Depth 1',\n",
    "                    allow_colorbar=False, cmap='YlGnBu',\n",
    "                    grid_units=('coordinates', 'coordinates'))\n",
    "ax4 = fig.add_subplot(224)\n",
    "ax4.set_xticks(xticks)\n",
    "imshow_grid(grid_r, LS_prob1_r_relative_wetness, cmap='YlGnBu', plot_name='Rw Recharge 1',\n",
    "                    grid_units=('coordinates', 'coordinates'), shrink=0.9,\n",
    "                    var_name='Mean Relative Wetness')\n",
    "plt.savefig('Mean_Relative_Wetness_synthetic.png')"
   ]
  },
  {
   "cell_type": "code",
   "execution_count": 129,
   "metadata": {},
   "outputs": [
    {
     "data": {
      "image/png": "[encoded data removed]",
      "text/plain": [
       "<Figure size 432x288 with 5 Axes>"
      ]
     },
     "metadata": {
      "needs_background": "light"
     },
     "output_type": "display_data"
    }
   ],
   "source": [
    "fig = plt.figure('Mean Relative Wetness')\n",
    "xticks = np.arange(-0.1, 0.8, 0.4)\n",
    "ax1 = fig.add_subplot(221)\n",
    "ax1.xaxis.set_visible(False)\n",
    "imshow_grid(grid_d, LS_prob1_d_relative_wetness, plot_name='Rw Depth 1',\n",
    "                    allow_colorbar=False, cmap='YlGnBu',\n",
    "                    grid_units=('coordinates',''))\n",
    "ax2 = fig.add_subplot(222)\n",
    "ax2.xaxis.set_visible(False)\n",
    "imshow_grid(grid_r, LS_prob1_r_relative_wetness, plot_name='Rw Recharge 1',\n",
    "                    allow_colorbar=False, cmap='YlGnBu',\n",
    "                    grid_units=('coordinates', 'coordinates'))\n",
    "ax3 = fig.add_subplot(223)\n",
    "ax3.set_xticks(xticks)\n",
    "imshow_grid(grid_d, LS_prob2_d_relative_wetness,plot_name='Rw Depth 2',\n",
    "                    allow_colorbar=False, cmap='YlGnBu',\n",
    "                    grid_units=('coordinates', 'coordinates'))\n",
    "ax4 = fig.add_subplot(224)\n",
    "ax4.set_xticks(xticks)\n",
    "imshow_grid(grid_r, LS_prob2_r_relative_wetness, cmap='YlGnBu', plot_name='Rw Recharge 2',\n",
    "                    grid_units=('coordinates', 'coordinates'), shrink=0.9,\n",
    "                    var_name='Mean Relative Wetness')\n",
    "plt.savefig('Mean_Relative_Wetness_synthetic.png')"
   ]
  },
  {
   "cell_type": "markdown",
   "metadata": {},
   "source": [
    "These might be all 1.0, which is the maximum, indicating that given the inputs above, this domain is often saturated."
   ]
  },
  {
   "cell_type": "code",
   "execution_count": 130,
   "metadata": {},
   "outputs": [],
   "source": [
    "#!/usr/env/python\n",
    "\"\"\"Landlab component that simulates landslide probability of failure as well as\n",
    "mean relative wetness and probability of saturation.\n",
    "\n",
    "Relative wetness and factor-of-safety are based on the infinite slope\n",
    "stability model driven by topographic and soils inputs and recharge provided\n",
    "by user as inputs to the component. For each node, component simulates mean\n",
    "relative wetness as well as the probability of saturation based on Monte Carlo\n",
    "simulation of relative wetness where the probability is the number of\n",
    "iterations with relative wetness >= 1.0 divided by the number of iterations.\n",
    "Probability of failure for each node is also simulated in the Monte Carlo\n",
    "simulation as the number of iterations with factor-of-safety <= 1.0\n",
    "divided by the number of iterations.\n",
    "\n",
    ".. codeauthor:: R.Strauch, C.Bandaragoda, E.Istanbulluoglu, & S.S.Nudurupati\n",
    "\n",
    "University of Washington\n",
    "\n",
    "Ref 1: Strauch et. al. 2017, 'A hydro-climatological approach to predicting\n",
    "regional landslide probability using Landlab, Earth Surface Dynamics, In prep.\n",
    "\n",
    "Ref 2: 'The Landlab LandslideProbability Component User Manual' @\n",
    "https://github.com/RondaStrauch/pub_strauch_etal_esurf/blob/master/LandslideComponentUsersManual.pdf\n",
    "\n",
    "Created on Thu Aug 20, 2015\n",
    "Last feature edits June 7, 2017\n",
    "Landlab v2 and PEP8 updates by mcflugen and kbarnhart 2018-2019\n",
    "Component Changes: Add depth to water table as an optional hydrology input; an alternative to recharge; April 3, 2020\n",
    "\n",
    "\"\"\"\n",
    "\n",
    "import copy\n",
    "\n",
    "import pandas as pd\n",
    "import numpy as np\n",
    "import scipy.constants\n",
    "from scipy import interpolate\n",
    "from statsmodels.distributions.empirical_distribution import ECDF\n",
    "\n",
    "from landlab import Component\n",
    "\n",
    "class LandslideProbability(Component):\n",
    "    \"\"\"Landslide probability component using the infinite slope stability\n",
    "    model.\n",
    "\n",
    "    Landlab component designed to calculate probability of failure at\n",
    "    each grid node based on the infinite slope stability model\n",
    "    stability index (Factor of Safety).\n",
    "\n",
    "    The driving force for failure is provided by the user in the form of\n",
    "    groundwater recharge OR depth to groundwater. Four options for providing \n",
    "    recharge plus four options of depth to groundwater are supported.\n",
    "    The model uses topographic and soil characteristics provided as input\n",
    "    by the user.\n",
    "\n",
    "    The main method of the LandslideProbability class is\n",
    "    `calculate_landslide_probability()`, which calculates the mean soil\n",
    "    relative wetness, probability of soil saturation, and probability of\n",
    "    failure at each node based on a Monte Carlo simulation.   \n",
    "\n",
    "    **Usage:**\n",
    "\n",
    "    Option 1 - Uniform recharge\n",
    "\n",
    "    .. code-block:: python\n",
    "\n",
    "        LandslideProbability(grid,\n",
    "                             number_of_iterations=250,\n",
    "                             groundwater__recharge_distribution='uniform',\n",
    "                             groundwater__recharge_min_value=5.,\n",
    "                             groundwater__recharge_max_value=121.)\n",
    "\n",
    "    Option 2 - Lognormal recharge\n",
    "\n",
    "    .. code-block:: python\n",
    "\n",
    "        LandslideProbability(grid,\n",
    "                             number_of_iterations=250,\n",
    "                             groundwater__recharge_distribution='lognormal',\n",
    "                             groundwater__recharge_mean=30.,\n",
    "                             groundwater__recharge_standard_deviation=0.25)\n",
    "\n",
    "    Option 3 - Lognormal_spatial recharge\n",
    "\n",
    "    .. code-block:: python\n",
    "\n",
    "        LandslideProbability(grid,\n",
    "                             number_of_iterations=250,\n",
    "                             groundwater__recharge_distribution='lognormal_spatial',\n",
    "                             groundwater__recharge_mean=np.random.randint(20, 120, grid_size),\n",
    "                             groundwater__recharge_standard_deviation=np.random.rand(grid_size))\n",
    "\n",
    "    Option 4 - Data_driven_spatial recharge\n",
    "\n",
    "    .. code-block:: python\n",
    "\n",
    "        LandslideProbability(grid,\n",
    "                             number_of_iterations=250,\n",
    "                             groundwater__recharge_distribution='data_driven_spatial',\n",
    "                             groundwater__recharge_HSD_inputs=[HSD_dict,\n",
    "                                                               HSD_id_dict,\n",
    "                                                               fract_dict])\n",
    "    Option 5 - Uniform depth to groundwater\n",
    "\n",
    "    .. code-block:: python\n",
    "    \n",
    "        LandslideProbability(grid, \n",
    "                             number_of_iterations=250,\n",
    "                             groundwater__depth_distribution='uniform', \n",
    "                             groundwater__depth_min_value=0.01, \n",
    "                             groundwater__depth_max_value=2.)\n",
    "                             \n",
    "    Option 6 - Lognormal depth to groundwater \n",
    "    \n",
    "    .. code-block:: python\n",
    "        \n",
    "        LandslideProbability(grid, number_of_iterations=250,\n",
    "                             groundwater__depth_distribution='lognormal', \n",
    "                             groundwater__depth_mean=0.5.,\n",
    "                             groundwater__depth_standard_deviation=0.1)\n",
    "                             \n",
    "    Option 7 - Lognormal_spatial depth to groundwater \n",
    "    \n",
    "    .. code-block:: python\n",
    "    \n",
    "        LandslideProbability(grid, number_of_iterations=250,\n",
    "                             groundwater__depth_distribution='lognormal_spatial', \n",
    "                             groundwater__depth_mean=np.random.randint(0, 2, grid_size),\n",
    "                             groundwater__depth_standard_deviation=np.random.rand(grid_size))   \n",
    "                             \n",
    "    Option 8 - Data_driven_spatial depth to groundwater\n",
    "    \n",
    "    .. code-block:: python\n",
    "    \n",
    "        LandslideProbability(grid, number_of_iterations=250, \n",
    "                             groundwater__depth_distribution='data_driven_spatial', \n",
    "                             groundwater__depth_HSD_inputs=[HSD_dict])\n",
    "\n",
    "    Examples\n",
    "    --------\n",
    "    >>> from landlab import RasterModelGrid\n",
    "    >>> from landlab.components.landslides import LandslideProbability\n",
    "    >>> import numpy as np\n",
    "\n",
    "    Create a grid on which to calculate landslide probability.\n",
    "\n",
    "    >>> grid = RasterModelGrid((5, 4), xy_spacing=(0.2, 0.2))\n",
    "\n",
    "    Check the number of core nodes.\n",
    "\n",
    "    >>> grid.number_of_core_nodes\n",
    "    6\n",
    "\n",
    "    The grid will need some input data. To check the names of the fields\n",
    "    that provide the input to this component, use the *input_var_names*\n",
    "    class property.\n",
    "\n",
    "    >>> sorted(LandslideProbability.input_var_names)  # doctest: +NORMALIZE_WHITESPACE\n",
    "    ['soil__density',\n",
    "     'soil__internal_friction_angle',\n",
    "     'soil__maximum_total_cohesion',\n",
    "     'soil__minimum_total_cohesion',\n",
    "     'soil__mode_total_cohesion',\n",
    "     'soil__saturated_hydraulic_conductivity',\n",
    "     'soil__thickness',\n",
    "     'soil__transmissivity',\n",
    "     'topographic__slope',\n",
    "     'topographic__specific_contributing_area']\n",
    "\n",
    "    Check the units for the fields.\n",
    "\n",
    "    >>> LandslideProbability.var_units('topographic__specific_contributing_area')\n",
    "    'm'\n",
    "\n",
    "    Create an input field.\n",
    "\n",
    "    >>> grid.at_node['topographic__slope'] = np.random.rand(grid.number_of_nodes)\n",
    "\n",
    "    If you are not sure about one of the input or output variables, you can\n",
    "    get help for specific variables.\n",
    "\n",
    "    >>> LandslideProbability.var_help('soil__transmissivity')  # doctest: +NORMALIZE_WHITESPACE\n",
    "    name: soil__transmissivity\n",
    "    description:\n",
    "      mode rate of water transmitted through a unit width of saturated\n",
    "      soil - either provided or calculated with Ksat and soil depth\n",
    "    units: m2/day\n",
    "    unit agnostic: False\n",
    "    at: node\n",
    "    intent: in\n",
    "\n",
    "    Additional required fields for component.\n",
    "\n",
    "    >>> scatter_dat = np.random.randint(1, 10, grid.number_of_nodes)\n",
    "    >>> grid.at_node['topographic__specific_contributing_area'] = np.sort(\n",
    "    ...      np.random.randint(30, 900, grid.number_of_nodes).astype(float))\n",
    "    >>> grid.at_node['soil__transmissivity'] = np.sort(\n",
    "    ...      np.random.randint(5, 20, grid.number_of_nodes).astype(float), -1)\n",
    "    >>> grid.at_node['soil__saturated_hydraulic_conductivity'] = np.sort(\n",
    "    ...      np.random.randint(2, 10, grid.number_of_nodes).astype(float), -1)\n",
    "    >>> grid.at_node['soil__mode_total_cohesion'] = np.sort(\n",
    "    ...      np.random.randint(30, 900, grid.number_of_nodes).astype(float))\n",
    "    >>> grid.at_node['soil__minimum_total_cohesion'] = (\n",
    "    ...      grid.at_node['soil__mode_total_cohesion'] - scatter_dat)\n",
    "    >>> grid.at_node['soil__maximum_total_cohesion'] = (\n",
    "    ...      grid.at_node['soil__mode_total_cohesion'] + scatter_dat)\n",
    "    >>> grid.at_node['soil__internal_friction_angle'] = np.sort(\n",
    "    ...      np.random.randint(26, 40, grid.number_of_nodes).astype(float))\n",
    "    >>> grid.at_node['soil__thickness'] = np.sort(\n",
    "    ...      np.random.randint(1, 10, grid.number_of_nodes).astype(float))\n",
    "    >>> grid.at_node['soil__density'] = (2000. * np.ones(grid.number_of_nodes))\n",
    "\n",
    "    Instantiate the 'LandslideProbability' component to work on this grid,\n",
    "    and run it.\n",
    "\n",
    "    >>> ls_prob = LandslideProbability(grid)\n",
    "    >>> np.allclose(grid.at_node['landslide__probability_of_failure'], 0.)\n",
    "    True\n",
    "\n",
    "    Run the *calculate_landslide_probability* method to update output\n",
    "    variables with grid\n",
    "\n",
    "    >>> ls_prob.calculate_landslide_probability()\n",
    "\n",
    "    Check the output variable names.\n",
    "\n",
    "    >>> sorted(ls_prob.output_var_names) # doctest: +NORMALIZE_WHITESPACE\n",
    "    ['landslide__probability_of_failure',\n",
    "     'soil__mean_relative_wetness',\n",
    "     'soil__mean_watertable_depth',\n",
    "     'soil__probability_of_saturation']\n",
    "\n",
    "    Check the output from the component, including array at one node.\n",
    "\n",
    "    >>> np.allclose(grid.at_node['landslide__probability_of_failure'], 0.)\n",
    "    False\n",
    "    >>> core_nodes = ls_prob.grid.core_nodes\n",
    "\n",
    "    References\n",
    "    ----------\n",
    "    **Required Software Citation(s) Specific to this Component**\n",
    "\n",
    "    Strauch, R., Istanbulluoglu, E., Nudurupati, S., Bandaragoda, C.,\n",
    "    Gasparini, N., Tucker, G. (2018). A hydroclimatological approach to\n",
    "    predicting regional landslide probability using Landlab Earth Surface\n",
    "    Dynamics  6(1), 49-75. https://dx.doi.org/10.5194/esurf-6-49-2018\n",
    "\n",
    "    **Additional References**\n",
    "\n",
    "    Publication Pending\n",
    "\n",
    "    \"\"\"\n",
    "\n",
    "    # component name\n",
    "    _name = \"Landslide Probability\"\n",
    "\n",
    "    _unit_agnostic = False\n",
    "\n",
    "    __version__ = \"2.0\"\n",
    "\n",
    "    _cite_as = \"\"\"\n",
    "    @article{strauch2018hydroclimatological,\n",
    "      author = {Strauch, Ronda and Istanbulluoglu, Erkan and Nudurupati,\n",
    "      Sai Siddhartha and Bandaragoda, Christina and Gasparini, Nicole M and\n",
    "      Tucker, Gregory E},\n",
    "      title = {{A hydroclimatological approach to predicting regional landslide\n",
    "      probability using Landlab}},\n",
    "      issn = {2196-6311},\n",
    "      doi = {10.5194/esurf-6-49-2018},\n",
    "      pages = {49--75},\n",
    "      number = {1},\n",
    "      volume = {6},\n",
    "      journal = {Earth Surface Dynamics},\n",
    "      year = {2018}\n",
    "    }\n",
    "    \"\"\"\n",
    "    _info = {\n",
    "        \"landslide__probability_of_failure\": {\n",
    "            \"dtype\": float,\n",
    "            \"intent\": \"out\",\n",
    "            \"optional\": False,\n",
    "            \"units\": \"None\",\n",
    "            \"mapping\": \"node\",\n",
    "            \"doc\": \"number of times FS is <=1 out of number of iterations user selected\",\n",
    "        },\n",
    "        \"soil__density\": {\n",
    "            \"dtype\": float,\n",
    "            \"intent\": \"in\",\n",
    "            \"optional\": False,\n",
    "            \"units\": \"kg/m3\",\n",
    "            \"mapping\": \"node\",\n",
    "            \"doc\": \"wet bulk density of soil\",\n",
    "        },\n",
    "        \"soil__internal_friction_angle\": {\n",
    "            \"dtype\": float,\n",
    "            \"intent\": \"in\",\n",
    "            \"optional\": False,\n",
    "            \"units\": \"degrees\",\n",
    "            \"mapping\": \"node\",\n",
    "            \"doc\": \"critical angle just before failure due to friction between particles\",\n",
    "        },\n",
    "        \"soil__maximum_total_cohesion\": {\n",
    "            \"dtype\": float,\n",
    "            \"intent\": \"in\",\n",
    "            \"optional\": False,\n",
    "            \"units\": \"Pa or kg/m-s2\",\n",
    "            \"mapping\": \"node\",\n",
    "            \"doc\": \"maximum of combined root and soil cohesion at node\",\n",
    "        },\n",
    "        \"soil__mean_relative_wetness\": {\n",
    "            \"dtype\": float,\n",
    "            \"intent\": \"out\",\n",
    "            \"optional\": False,\n",
    "            \"units\": \"None\",\n",
    "            \"mapping\": \"node\",\n",
    "            \"doc\": \"Indicator of soil wetness; relative depth perched water table within the soil layer\",\n",
    "        },\n",
    "        \"soil__mean_watertable_depth\": {\n",
    "            \"dtype\": float,\n",
    "            \"intent\": \"out\",\n",
    "            \"optional\": False,\n",
    "            \"units\": \"m\",\n",
    "            \"mapping\": \"node\",\n",
    "            \"doc\": \"Mean depth to water table from surface to perched water table within the soil layer\",\n",
    "        },\n",
    "        \n",
    "        \"soil__minimum_total_cohesion\": {\n",
    "            \"dtype\": float,\n",
    "            \"intent\": \"in\",\n",
    "            \"optional\": False,\n",
    "            \"units\": \"Pa or kg/m-s2\",\n",
    "            \"mapping\": \"node\",\n",
    "            \"doc\": \"minimum of combined root and soil cohesion at node\",\n",
    "        },\n",
    "        \"soil__mode_total_cohesion\": {\n",
    "            \"dtype\": float,\n",
    "            \"intent\": \"in\",\n",
    "            \"optional\": False,\n",
    "            \"units\": \"Pa or kg/m-s2\",\n",
    "            \"mapping\": \"node\",\n",
    "            \"doc\": \"mode of combined root and soil cohesion at node\",\n",
    "        },\n",
    "        \"soil__probability_of_saturation\": {\n",
    "            \"dtype\": float,\n",
    "            \"intent\": \"out\",\n",
    "            \"optional\": False,\n",
    "            \"units\": \"None\",\n",
    "            \"mapping\": \"node\",\n",
    "            \"doc\": \"number of times relative wetness is >=1 out of number of iterations user selected\",\n",
    "        },\n",
    "        \"soil__saturated_hydraulic_conductivity\": {\n",
    "            \"dtype\": float,\n",
    "            \"intent\": \"in\",\n",
    "            \"optional\": False,\n",
    "            \"units\": \"m/day\",\n",
    "            \"mapping\": \"node\",\n",
    "            \"doc\": \"mode rate of water transmitted through soil - provided if transmissivity is NOT provided to calculate tranmissivity  with soil depth\",\n",
    "        },\n",
    "        \"soil__thickness\": {\n",
    "            \"dtype\": float,\n",
    "            \"intent\": \"in\",\n",
    "            \"optional\": False,\n",
    "            \"units\": \"m\",\n",
    "            \"mapping\": \"node\",\n",
    "            \"doc\": \"soil depth to restrictive layer\",\n",
    "        },\n",
    "        \"soil__transmissivity\": {\n",
    "            \"dtype\": float,\n",
    "            \"intent\": \"in\",\n",
    "            \"optional\": False,\n",
    "            \"units\": \"m2/day\",\n",
    "            \"mapping\": \"node\",\n",
    "            \"doc\": \"mode rate of water transmitted through a unit width of saturated soil - either provided or calculated with Ksat and soil depth\",\n",
    "        },\n",
    "        \"topographic__slope\": {\n",
    "            \"dtype\": float,\n",
    "            \"intent\": \"in\",\n",
    "            \"optional\": False,\n",
    "            \"units\": \"tan theta\",\n",
    "            \"mapping\": \"node\",\n",
    "            \"doc\": \"gradient of the ground surface\",\n",
    "        },\n",
    "        \"topographic__specific_contributing_area\": {\n",
    "            \"dtype\": float,\n",
    "            \"intent\": \"in\",\n",
    "            \"optional\": False,\n",
    "            \"units\": \"m\",\n",
    "            \"mapping\": \"node\",\n",
    "            \"doc\": \"specific contributing (upslope area/cell face ) that drains to node\",\n",
    "        },\n",
    "    }\n",
    "\n",
    "    def __init__(\n",
    "        self,\n",
    "        grid,\n",
    "        number_of_iterations=250,\n",
    "        g=scipy.constants.g,\n",
    "        groundwater__recharge_distribution=\"uniform\",\n",
    "        groundwater__recharge_min_value=20.0,\n",
    "        groundwater__recharge_max_value=120.0,\n",
    "        groundwater__recharge_mean=None,\n",
    "        groundwater__recharge_standard_deviation=None,\n",
    "        groundwater__recharge_HSD_inputs=[],\n",
    "        groundwater__depth_distribution=\"uniform\",\n",
    "        groundwater__depth_min_value=0.01,\n",
    "        groundwater__depth_max_value=3.,\n",
    "        groundwater__depth_mean=None,\n",
    "        groundwater__depth_standard_deviation=None,\n",
    "        groundwater__depth_HSD_inputs=[],\n",
    "        seed=0,\n",
    "    ):\n",
    "        \"\"\"\n",
    "        Parameters\n",
    "        ----------\n",
    "        grid: RasterModelGrid\n",
    "            A raster grid.\n",
    "        number_of_iterations: int, optional\n",
    "            Number of iterations to run Monte Carlo simulation (default=250).\n",
    "        groundwater__recharge_distribution: str, optional\n",
    "            single word indicating recharge distribution, either 'uniform',\n",
    "            'lognormal', 'lognormal_spatial,' or 'data_driven_spatial'.\n",
    "            (default='uniform')\n",
    "        groundwater__recharge_min_value: float, optional (mm/d)\n",
    "            minium groundwater recharge for 'uniform' (default=20.)\n",
    "        groundwater__recharge_max_value: float, optional (mm/d)\n",
    "            maximum groundwater recharge for 'uniform' (default=120.)\n",
    "        groundwater__recharge_mean: float, optional (mm/d)\n",
    "            mean grounwater recharge for 'lognormal'\n",
    "            and 'lognormal_spatial' (default=None)\n",
    "        groundwater__recharge_standard_deviation: float, optional (mm/d)\n",
    "            standard deviation of grounwater recharge for 'lognormal'\n",
    "            and 'lognormal_spatial' (default=None)\n",
    "        groundwater__recharge_HSD_inputs: list, optional\n",
    "            list of 3 dictionaries in order (default=[]) - HSD_dict\n",
    "            {Hydrologic Source Domain (HSD) keys: recharge numpy array values},\n",
    "            {node IDs keys: list of HSD_Id values}, HSD_fractions {node IDS\n",
    "            keys: list of HSD fractions values} (none)\n",
    "            Note: this input method is a very specific one, and to use this method,\n",
    "            one has to refer Ref 1 & Ref 2 mentioned above, as this set of\n",
    "            inputs require rigorous pre-processing of data.\n",
    "        groundwater__depth_distribution: str, optional\n",
    "            single word indicating depth to water table distribution, either \n",
    "            'uniform', 'lognormal', 'lognormal_spatial,' or \n",
    "            'data_driven_spatial'.\n",
    "             (default=None)\n",
    "        groundwater__depth_min_value: float, optional (m)\n",
    "            minium groundwater depth to water table for 'uniform' (default=0.01)\n",
    "        groundwater__depth_max_value: float, optional (m)\n",
    "            maximum groundwater depth for 'uniform' (default=2.)\n",
    "        groundwater__depth_mean: float, optional (m) \n",
    "            mean groundwater depth to water table for 'lognormal'\n",
    "            and 'lognormal_spatial' (default=None)\n",
    "        groundwater__depth_standard_deviation: float, optional (m)\n",
    "            standard deviation of groundwater depth to water table for \n",
    "            'lognormal' and 'lognormal_spatial' (default=None)\n",
    "        groundwater__depth_HSD_inputs: list, optional\n",
    "            one dictionary (default=[]) - HSD_dict\n",
    "            {Hydrologic Source Domain (HSD) Grid equal size to Landlab \n",
    "            node ID keys: groundwater depth distribution numpy array values}\n",
    "        g: float, optional (m/sec^2)\n",
    "            acceleration due to gravity.\n",
    "        seed: int, optional\n",
    "            seed for random number generation. if seed is assigned any value\n",
    "            other than the default value of zero, it will create different\n",
    "            sequence. To create a certain sequence repititively, use the same\n",
    "            value as input for seed.\n",
    "        \"\"\"\n",
    "        # Initialize seeded random number generation\n",
    "        self._seed_generator(seed)\n",
    "\n",
    "        super().__init__(grid)\n",
    "\n",
    "        # Store parameters and do unit conversions\n",
    "        self._n = int(number_of_iterations)\n",
    "        self._g = g\n",
    "        self._groundwater__recharge_distribution = groundwater__recharge_distribution\n",
    "        self._groundwater__depth_distribution = groundwater__depth_distribution\n",
    "            \n",
    "        # Following code will deal with the input distribution and associated\n",
    "        # parameters for recharge hydrologic forcing\n",
    "        # Recharge Uniform distribution\n",
    "        if self._groundwater__recharge_distribution == \"uniform\":\n",
    "            self._recharge_min = groundwater__recharge_min_value\n",
    "            self._recharge_max = groundwater__recharge_max_value\n",
    "            self._Re = np.random.uniform(\n",
    "                self._recharge_min, self._recharge_max, size=self._n\n",
    "            )\n",
    "            self._Re /= 1000.0  # Convert mm to m\n",
    "        # Recharge Lognormal Distribution - Uniform in space\n",
    "        elif self._groundwater__recharge_distribution == \"lognormal\":\n",
    "            assert (\n",
    "                groundwater__recharge_mean is not None\n",
    "            ), \"Input mean of the distribution!\"\n",
    "            assert (\n",
    "                groundwater__recharge_standard_deviation is not None\n",
    "            ), \"Input standard deviation of the distribution!\"\n",
    "            self._recharge_mean = groundwater__recharge_mean\n",
    "            self._recharge_stdev = groundwater__recharge_standard_deviation\n",
    "            self._mu_lognormal = np.log(\n",
    "                (self._recharge_mean ** 2)\n",
    "                / np.sqrt(self._recharge_stdev ** 2 + self._recharge_mean ** 2)\n",
    "            )\n",
    "            self._sigma_lognormal = np.sqrt(\n",
    "                np.log((self._recharge_stdev ** 2) / (self._recharge_mean ** 2) + 1)\n",
    "            )\n",
    "            self._Re = np.random.lognormal(\n",
    "                self._mu_lognormal, self._sigma_lognormal, self._n\n",
    "            )\n",
    "            self._Re /= 1000.0  # Convert mm to m\n",
    "        # Recharge Lognormal Distribution - Variable in space\n",
    "        elif self._groundwater__recharge_distribution == \"lognormal_spatial\":\n",
    "            assert groundwater__recharge_mean.shape[0] == (\n",
    "                self._grid.number_of_nodes\n",
    "            ), \"Input array should be of the length of grid.number_of_nodes!\"\n",
    "            assert groundwater__recharge_standard_deviation.shape[0] == (\n",
    "                self._grid.number_of_nodes\n",
    "            ), \"Input array should be of the length of grid.number_of_nodes!\"\n",
    "            self._recharge_mean = groundwater__recharge_mean\n",
    "            self._recharge_stdev = groundwater__recharge_standard_deviation\n",
    "        # Recharge Custom HSD inputs - Hydrologic Source Domain -> Model Domain\n",
    "        elif self._groundwater__recharge_distribution == \"data_driven_spatial\":\n",
    "            self._HSD_dict = groundwater__recharge_HSD_inputs[0]\n",
    "            self._HSD_id_dict = groundwater__recharge_HSD_inputs[1]\n",
    "            self._fract_dict = groundwater__recharge_HSD_inputs[2]\n",
    "            self._interpolate_HSD_dict()\n",
    "  \n",
    "        # Following code will deal with the input distribution and associated\n",
    "        # parameters for depth to water table hydrologic forcing\n",
    "        # Depth to water table - Uniform distribution\n",
    "        if self._groundwater__depth_distribution == \"uniform\":\n",
    "            self._depth_min = groundwater__depth_min_value\n",
    "            self._depth_max = groundwater__depth_max_value\n",
    "            self._De = np.random.uniform(self._depth_min, self._depth_max, size=self._n)\n",
    "         # Depth to water table - Lognormal Distribution - Uniform in space\n",
    "        elif self._groundwater__depth_distribution == \"lognormal\":\n",
    "            assert (\n",
    "                groundwater__depth_mean is not None\n",
    "            ), \"Input mean of the distribution!\"\n",
    "            assert (\n",
    "                groundwater__depth_standard_deviation is not None\n",
    "            ), \"Input standard deviation of the distribution!\"\n",
    "            self._depth_mean = groundwater__depth_mean\n",
    "            self._depth_stdev = groundwater__depth_standard_deviation\n",
    "            self._mu_lognormal = np.log(\n",
    "                (self._depth_mean ** 2)\n",
    "                / np.sqrt(self._depth_stdev ** 2 + self._depth_mean ** 2)\n",
    "            )\n",
    "            self._sigma_lognormal = np.sqrt(\n",
    "                np.log((self._depth_stdev ** 2) / (self._depth_mean ** 2) + 1)\n",
    "            )\n",
    "            self._De = np.random.lognormal(\n",
    "                self._mu_lognormal, self._sigma_lognormal, self._n\n",
    "            )    \n",
    "    \n",
    "    # Depth to water table - Lognormal Distribution - Variable in space                                  \n",
    "        elif self._groundwater__depth_distribution == \"lognormal_spatial\":\n",
    "            #assert groundwater__depth_mean.shape[0] == (\n",
    "            #    self._grid.number_of_nodes\n",
    "            #), \"Input array should be of the length of grid.number_of_nodes!\"\n",
    "            #assert (groundwater__depth_standard_deviation.shape[0] == (\n",
    "            #    self._grid.number_of_nodes\n",
    "            #), \"Input array should be of the length of grid.number_of_nodes!\"\n",
    "            self._depth_mean = groundwater__depth_mean\n",
    "            self._depth_stdev = groundwater__depth_standard_deviation        \n",
    "            \n",
    "    # Depth to water table - Hydrologic Source Domain -> Model Domain\n",
    "        elif self._groundwater__depth_distribution == \"data_driven_spatial\":\n",
    "                    self._HSD_dict = groundwater__depth_HSD_inputs[0]\n",
    "            \n",
    "    # Check if all output fields are initialized\n",
    "        self.initialize_output_fields()\n",
    "\n",
    "        # Create a switch to imply whether Ksat is provided.\n",
    "        #if np.all(self._grid.at_node['soil__saturated_hydraulic_conductivity'] is None):\n",
    "        self._Ksat_provided = 0  # False\n",
    "        #else:\n",
    "        #    self._Ksat_provided = 1  # True\n",
    "        # Create a switch to imply whether min/max cohesion is provided.\n",
    "        if np.all(self._grid.at_node['soil__minimum_total_cohesion'] == 0):\n",
    "            self.Cmin_provided = 0  # False\n",
    "        else:\n",
    "            self.Cmin_provided = 1  # True\n",
    "\n",
    "        self._nodal_values = self._grid.at_node\n",
    "\n",
    "    def _calculate_factor_of_safety(self, i):\n",
    "        \"\"\"Method to calculate factor of safety.\n",
    "\n",
    "        Method calculates factor-of-safety stability index by using\n",
    "        node specific parameters, creating distributions of these parameters,\n",
    "        and calculating the index by sampling these distributions 'n' times.\n",
    "\n",
    "        The index is calculated from the 'infinite slope stabilty\n",
    "        factor-of-safety equation' in the format of Pack RT, Tarboton DG,\n",
    "        and Goodwin CN (1998),The SINMAP approach to terrain stability mapping.\n",
    "\n",
    "        Parameters\n",
    "        ----------\n",
    "        i: int\n",
    "            index of core node ID.\n",
    "        \"\"\"\n",
    "        # generate distributions to sample from to provide input parameters\n",
    "        # currently triangle distribution using mode, min, & max\n",
    "        self._a = np.float32(\n",
    "            self._grid.at_node[\"topographic__specific_contributing_area\"][i]\n",
    "        )\n",
    "        self._theta = np.float32(self._grid.at_node[\"topographic__slope\"][i])\n",
    "        self._Tmode = np.float32(self._grid.at_node[\"soil__transmissivity\"][i])\n",
    "        #self._Ksatmode = np.float32(\n",
    "        #    self._grid.at_node[\"soil__saturated_hydraulic_conductivity\"][i]\n",
    "        #)\n",
    "        self._Cmode = np.float32(self._grid.at_node[\"soil__mode_total_cohesion\"][i])\n",
    "        self._Cmin = np.float32(self._grid.at_node[\"soil__minimum_total_cohesion\"][i])\n",
    "        self._Cmax = np.float32(self._grid.at_node[\"soil__maximum_total_cohesion\"][i])\n",
    "        self._phi_mode = np.float32(\n",
    "            self._grid.at_node[\"soil__internal_friction_angle\"][i]\n",
    "        )\n",
    "        self._rho = np.float32(self._grid.at_node[\"soil__density\"][i])\n",
    "        self._hs_mode = np.float32(self._grid.at_node[\"soil__thickness\"][i])\n",
    "\n",
    "        # Create a switch to imply whether Recharge or Depth to Water Table Forcing\n",
    "        if self._groundwater__depth_distribution is not None:\n",
    "            # depth of water  \n",
    "            self._soil__mean_watertable_depth = np.mean(self._De)\n",
    "        \n",
    "        if self._groundwater__depth_distribution == 'data_driven_spatial':\n",
    "            hw_dist= self._hs_mode - self._De                 \n",
    "            # calculate probability of saturation\n",
    "            countr = 0\n",
    "            for val in hw_dist:            # find how many RW values >= 1\n",
    "                if val <= 0:\n",
    "                    countr = countr + 1  # number with RW values (>=1)\n",
    "            # probability: No. high RW values/total No. of values (n)\n",
    "            self._soil__probability_of_saturation = countr / self.n\n",
    "                                \n",
    "            hw_dist[np.where(hw_dist<0)] = self._hs_mode  #replace sat cells with max soil thickness           \n",
    "                   \n",
    "        # recharge distribution based on distribution type\n",
    "        if self._groundwater__recharge_distribution == \"data_driven_spatial\":\n",
    "            self._calculate_HSD_recharge(i)\n",
    "            self._Re /= 1000.0  # mm->m\n",
    "        elif self._groundwater__recharge_distribution == \"lognormal_spatial\":\n",
    "            mu_lognormal = np.log(\n",
    "                (self._recharge_mean[i] ** 2)\n",
    "                / np.sqrt(self._recharge_stdev[i] ** 2 + self._recharge_mean[i] ** 2)\n",
    "            )\n",
    "            sigma_lognormal = np.sqrt(\n",
    "                np.log(\n",
    "                    (self._recharge_stdev[i] ** 2) / (self._recharge_mean[i] ** 2) + 1\n",
    "                )\n",
    "            )\n",
    "            self._Re = np.random.lognormal(mu_lognormal, sigma_lognormal, self._n)\n",
    "            self._Re /= 1000.0  # Convert mm to m\n",
    "\n",
    "        # Depth to water table distribution based on distribution type\n",
    "        if self._groundwater__depth_distribution == \"data_driven_spatial\":\n",
    "            self._calculate_HSD_groundwater_depth(i)\n",
    "        elif self._groundwater__depth_distribution == 'lognormal_spatial':  \n",
    "            mu_lognormal = np.log(\n",
    "                (self._depth_mean[i] ** 2)\n",
    "                / np.sqrt(self._depth_stdev[i] ** 2 + self._depth_mean[i] ** 2)\n",
    "            )\n",
    "            sigma_lognormal = np.sqrt(\n",
    "                np.log(\n",
    "                    (self._depth_stdev[i] ** 2) / (self._depth_mean[i] ** 2) + 1)\n",
    "            )\n",
    "            self._De = np.random.lognormal(mu_lognormal, sigma_lognormal, self._n)\n",
    "                    \n",
    "        # Cohesion\n",
    "        # if don't provide fields of min and max C, uncomment 2 lines below\n",
    "        #    Cmin = self._Cmode-0.3*self._Cmode\n",
    "        #    Cmax = self._Cmode+0.3*self._Cmode\n",
    "        if self.Cmin_provided:\n",
    "            self._C = np.random.triangular(\n",
    "                self._Cmin, self._Cmode, self._Cmax, size=self._n)        \n",
    "        else:\n",
    "            Cmin = self._Cmode-0.3 * self._Cmode\n",
    "            Cmax = self._Cmode+0.3 * self._Cmode\n",
    "            self._C = np.random.triangular(\n",
    "                self._Cmin, self._Cmode, self._Cmax, size=self._n\n",
    "            )\n",
    "\n",
    "        # phi - internal angle of friction provided in degrees\n",
    "        phi_min = self._phi_mode - 0.18 * self._phi_mode\n",
    "        phi_max = self._phi_mode + 0.32 * self._phi_mode\n",
    "        self._phi = np.random.triangular(phi_min, self._phi_mode, phi_max, size=self._n)\n",
    "        # soil thickness\n",
    "        # hs_min = min(0.005, self._hs_mode-0.3*self._hs_mode) # Alternative\n",
    "        hs_min = self._hs_mode - 0.3 * self._hs_mode\n",
    "        hs_max = self._hs_mode + 0.1 * self._hs_mode\n",
    "        self._hs = np.random.triangular(hs_min, self._hs_mode, hs_max, size=self._n)\n",
    "        self._hs[self._hs <= 0.0] = 0.005\n",
    "        if self._Ksat_provided:\n",
    "            # Hydraulic conductivity (Ksat)\n",
    "            Ksatmin = self._Ksatmode - (0.3 * self._Ksatmode)\n",
    "            Ksatmax = self._Ksatmode + (0.1 * self._Ksatmode)\n",
    "            self._Ksat = np.random.triangular(\n",
    "                Ksatmin, self._Ksatmode, Ksatmax, size=self._n\n",
    "            )\n",
    "            self._T = self._Ksat * self._hs\n",
    "        else:\n",
    "            # Transmissivity (T)\n",
    "            Tmin = self._Tmode - (0.3 * self._Tmode)\n",
    "            Tmax = self._Tmode + (0.1 * self._Tmode)\n",
    "            self._T = np.random.triangular(Tmin, self._Tmode, Tmax, size=self._n)\n",
    "\n",
    "        # calculate Factor of Safety for n number of times\n",
    "        # calculate components of FS equation\n",
    "        # dimensionless cohesion            \n",
    "        self._C_dim = self._C / (\n",
    "            self._hs * self._rho * self._g\n",
    "        ) \n",
    "       \n",
    "        # relative wetness\n",
    "        if self._groundwater__recharge_distribution == 'uniform':\n",
    "            self._rel_wetness = (\n",
    "                (self._Re)/self._T)*(self._a/np.sin(np.arctan(self._theta))\n",
    "            )\n",
    "        elif self._groundwater__recharge_distribution == 'lognormal':\n",
    "            self._rel_wetness = (\n",
    "                (self._Re) / self._T) * (self._a/np.sin(np.arctan(self._theta))\n",
    "            )\n",
    "        elif self._groundwater__recharge_distribution == 'lognormal_spatial':\n",
    "            self._rel_wetness = (\n",
    "                (self._Re) / self._T) * (self._a / np.sin(np.arctan(self._theta))\n",
    "            )\n",
    "        elif self._groundwater__recharge_distribution == 'data_driven_spatial':\n",
    "            self._rel_wetness = (\n",
    "                (self._Re) / self._T) * (self._a / np.sin(np.arctan(self._theta))\n",
    "            )\n",
    "        elif self._groundwater__depth_distribution == 'uniform':\n",
    "            self._rel_wetness = ((hw_dist) / self._hs_mode)   \n",
    "        elif self._groundwater__depth_distribution == 'lognormal':\n",
    "            self._rel_wetness = ((hw_dist) / self._hs_mode)       \n",
    "        elif self._groundwater__depth_distribution == 'lognormal_spatial':\n",
    "            self._rel_wetness = ((hw_dist) / self._hs_mode)          \n",
    "        elif self._groundwater__depth_distribution == 'data_driven_spatial':\n",
    "            self._rel_wetness = ((hw_dist) / self._hs_mode)\n",
    "                    \n",
    "       \n",
    "        # calculate probability of saturation\n",
    "        if self._groundwater__recharge_distribution is not None:\n",
    "            countr = 0\n",
    "            for val in self._rel_wetness:            # find how many RW values >= 1\n",
    "                if val >= 1.0:\n",
    "                    countr = countr + 1  # number with RW values (>=1) \n",
    "      \n",
    "        # probability: No. high RW values/total No. of values (n)\n",
    "        self._soil__probability_of_saturation = np.float32(countr) / self._n\n",
    "        # Maximum Rel_wetness = 1.0\n",
    "        np.place(self._rel_wetness, self._rel_wetness > 1, 1.0)\n",
    "        self._soil__mean_relative_wetness = np.mean(self._rel_wetness)\n",
    "        Y = np.tan(np.radians(self._phi)) * (1 - (self._rel_wetness * 0.5))\n",
    "        # convert from degrees; 0.5 = water to soil density ratio\n",
    "        # calculate Factor-of-safety\n",
    "        self._FS = (self._C_dim / np.sin(np.arctan(self._theta))) + (\n",
    "            np.cos(np.arctan(self._theta)) * (Y / np.sin(np.arctan(self._theta)))\n",
    "        )\n",
    "        count = 0\n",
    "        for val in self._FS:  # find how many FS values <= 1\n",
    "            if val <= 1.0:\n",
    "                count = count + 1  # number with unstable FS values (<=1)\n",
    "        # probability: No. unstable values/total No. of values (n)\n",
    "        self._landslide__probability_of_failure = np.float32(count) / self._n\n",
    "\n",
    "    def calculate_landslide_probability(self):\n",
    "        \"\"\"Main method of Landslide Probability class.\n",
    "\n",
    "        Method creates arrays for output variables then loops through\n",
    "        all the core nodes to run the method\n",
    "        'calculate_factor_of_safety.' Output parameters probability of\n",
    "        failure, mean relative wetness, and probability of saturation\n",
    "        are assigned as fields to nodes.\n",
    "        \"\"\"\n",
    "        # Create arrays for data with -9999 as default to store output\n",
    "        self._mean_Relative_Wetness = np.full(self._grid.number_of_nodes, -9999.0)\n",
    "        self._prob_fail = np.full(self._grid.number_of_nodes, -9999.0)\n",
    "        self._prob_sat = np.full(self._grid.number_of_nodes, -9999.0)\n",
    "        self._mean_watertable_depth = np.full(self._grid.number_of_nodes, -9999.)\n",
    "        # Run factor of safety Monte Carlo for all core nodes in domain\n",
    "        # i refers to each core node id\n",
    "        for i in self._grid.core_nodes:\n",
    "            self._calculate_factor_of_safety(i)\n",
    "            # Populate storage arrays with calculated values\n",
    "            self._mean_Relative_Wetness[i] = self._soil__mean_relative_wetness\n",
    "            self._prob_fail[i] = self._landslide__probability_of_failure\n",
    "            self._prob_sat[i] = self._soil__probability_of_saturation\n",
    "            if self._groundwater__depth_distribution is not None:\n",
    "                self._mean_watertable_depth[i]=self._soil__mean_watertable_depth\n",
    "        # Values can't be negative\n",
    "        self._mean_Relative_Wetness[self._mean_Relative_Wetness < 0.0] = 0.0\n",
    "        self._prob_fail[self._prob_fail < 0.0] = 0.0\n",
    "        # assign output fields to nodes\n",
    "        self._grid.at_node[\"soil__mean_relative_wetness\"] = self._mean_Relative_Wetness\n",
    "        self._grid.at_node[\"landslide__probability_of_failure\"] = self._prob_fail\n",
    "        self._grid.at_node[\"soil__probability_of_saturation\"] = self._prob_sat\n",
    "        if self._groundwater__depth_distribution is not None:\n",
    "            self._mean_watertable_depth[\n",
    "                self._mean_watertable_depth < 0.] = 0.\n",
    "            self._grid.at_node['soil__mean_watertable_depth'] = (\n",
    "                self._mean_watertable_depth)\n",
    "\n",
    "    def _seed_generator(self, seed=0):\n",
    "        \"\"\"Method to initiate random seed.\n",
    "\n",
    "        Seed the random-number generator. This method will create the\n",
    "        same sequence again by re-seeding with the same value (default\n",
    "        value is zero). To create a sequence other than the default,\n",
    "        assign non-zero value for seed.\n",
    "        \"\"\"\n",
    "        np.random.seed(seed)\n",
    "\n",
    "    def _interpolate_HSD_dict(self):\n",
    "        \"\"\"Method to extrapolate input data.\n",
    "\n",
    "        This method uses a non-parametric approach to expand the input\n",
    "        recharge array to the length of number of iterations. Output is\n",
    "        a new dictionary of interpolated recharge for each HSD id.\n",
    "        \"\"\"\n",
    "        HSD_dict = copy.deepcopy(self._HSD_dict)\n",
    "        # First generate interpolated Re for each HSD grid\n",
    "        Yrand = np.sort(np.random.rand(self._n))\n",
    "        # n random numbers (0 to 1) in a column\n",
    "        for vkey in HSD_dict.keys():\n",
    "            if isinstance(HSD_dict[vkey], int):\n",
    "                continue  # loop back up if value is integer (e.g. -9999)\n",
    "            Re_temp = HSD_dict[vkey]  # an array of annual Re for 1 HSD grid\n",
    "            Fx = ECDF(Re_temp)  # instantiate to get probabilities with Re\n",
    "            Fx_ = Fx(Re_temp)  # probability array associated with Re data\n",
    "            # interpolate function based on recharge data & probability\n",
    "            f = interpolate.interp1d(\n",
    "                Fx_, Re_temp, bounds_error=False, fill_value=min(Re_temp)\n",
    "            )\n",
    "            # array of Re interpolated from Yrand probabilities (n count)\n",
    "            Re_interpolated = f(Yrand)\n",
    "            # replace values in HSD_dict with interpolated Re\n",
    "            HSD_dict[vkey] = Re_interpolated\n",
    "\n",
    "        self._interpolated_HSD_dict = HSD_dict\n",
    "                    \n",
    "    def _interpolate_HSD_array(self):\n",
    "        \"\"\"Method to extrapolate input data.\n",
    "\n",
    "        This method uses a non-parametric approach to expand the input\n",
    "        depth to water table array to the length of number of iterations. Output is\n",
    "        a new array of interpolated recharge for each HSD id.\n",
    "        \"\"\"        \n",
    "        Yrand = np.sort(np.random.rand(self._n))\n",
    "        Fx = ECDF(self._hwdist.values[0])\n",
    "        Fx_ = Fx(self._hwdist.values[0])\n",
    "        print(Fx_)\n",
    "        f = interpolate.interp1d(\n",
    "            Fx_, self._hwdist.values[0], bounds_error=False,\n",
    "            fill_value=min(self._hwdist.values[0])\n",
    "        )\n",
    "        # array of De interpolated from Yrand probabilities (n count)\n",
    "        \n",
    "        self._interp_De = f(Yrand)\n",
    "                     \n",
    "    def _calculate_HSD_recharge(self, i):\n",
    "        \"\"\"Method to calculate recharge based on upstream fractions.\n",
    "\n",
    "        This method calculates the resultant recharge at node i of the\n",
    "        model domain, using recharge of contributing HSD ids and the\n",
    "        areal fractions of upstream contributing HSD ids. Output is a\n",
    "        numpy array of recharge at node i.\n",
    "        \"\"\"\n",
    "        store_Re = np.zeros(self._n)\n",
    "        HSD_id_list = self._HSD_id_dict[i]\n",
    "        fract_list = self._fract_dict[i]\n",
    "        for j in range(0, len(HSD_id_list)):\n",
    "            Re_temp = self._interpolated_HSD_dict[HSD_id_list[j]]\n",
    "            fract_temp = fract_list[j]\n",
    "            Re_adj = Re_temp * fract_temp\n",
    "            store_Re = np.vstack((store_Re, np.array(Re_adj)))\n",
    "        self._Re = np.sum(store_Re, 0)\n",
    "\n",
    "    def _calculate_HSD_groundwater_depth(self, i):\n",
    "        \"\"\"Method to calculate groundwater depth.\n",
    "        \n",
    "        This method calculates the resultant groundwater depth at node i of the\n",
    "        model domain, using depth to water table. Output is a numpy array\n",
    "        of depth to groundwater at node i.        \n",
    "        \"\"\"\n",
    "        \n",
    "        groundwater__depth_HSD_inputs=self._HSD_dict[i]\n",
    "        self._hwdist = pd.DataFrame.from_dict(groundwater__depth_HSD_inputs, orient='index')\n",
    "        #interpolate\n",
    "        self._interpolate_HSD_array()\n",
    "        #replace values for depth with interpolated depth\n",
    "        self._De=self._interp_De"
   ]
  },
  {
   "cell_type": "code",
   "execution_count": null,
   "metadata": {},
   "outputs": [],
   "source": []
  }
 ],
 "metadata": {
  "anaconda-cloud": {},
  "kernelspec": {
   "display_name": "Python 3",
   "language": "python",
   "name": "python3"
  },
  "language_info": {
   "codemirror_mode": {
    "name": "ipython",
    "version": 3
   },
   "file_extension": ".py",
   "mimetype": "text/x-python",
   "name": "python",
   "nbconvert_exporter": "python",
   "pygments_lexer": "ipython3",
   "version": "3.7.6"
  }
 },
 "nbformat": 4,
 "nbformat_minor": 1
}
