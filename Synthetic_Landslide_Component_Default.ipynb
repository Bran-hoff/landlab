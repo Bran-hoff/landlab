{
 "cells": [
  {
   "cell_type": "markdown",
   "metadata": {},
   "source": [
    "<a href=\"http://landlab.github.io\"><img style=\"float: left\" src=\"../../landlab_header.png\"></a>"
   ]
  },
  {
   "cell_type": "markdown",
   "metadata": {},
   "source": [
    "# Landlab Landslide Component Demonstration with a Synthetic Grid\n",
    "\n",
    "**Two Hydrologic Forcing Options (Depth to Groundwater and Recharge) are compared using default parameters and Uniform Distribution**"
   ]
  },
  {
   "cell_type": "markdown",
   "metadata": {},
   "source": [
    "\n",
    "<hr>\n",
    "<small>For more Landlab tutorials, click here: <a href=\"https://landlab.readthedocs.io/en/latest/user_guide/tutorials.html\">https://landlab.readthedocs.io/en/latest/user_guide/tutorials.html</a></small>\n",
    "<hr>"
   ]
  },
  {
   "cell_type": "markdown",
   "metadata": {},
   "source": [
    "## 0.  Software Setup and Preparation\n",
    "\n",
    "To run this notebook, we must import several libraries.\n",
    "The hs_utils library provides functions for interacting with HydroShare, including resource querying, dowloading, and creation.  Additional libraries support the functions of Landlab. \n",
    "\n",
    "### Import Landlab and other Python utilities"
   ]
  },
  {
   "cell_type": "code",
   "execution_count": 1,
   "metadata": {
    "scrolled": true
   },
   "outputs": [],
   "source": [
    "import numpy as np\n",
    "\n",
    "from landlab import RasterModelGrid\n",
    "from landlab.components.landslides import LandslideProbability\n",
    "import landlab.plot.landslides.plot_landslides as pl\n",
    "import tests.components.landslides.test_landslide_probability as test\n",
    "\n",
    "#temporary code for Ronda Binder/JH demo test in Binder before Pull Request\n",
    "#import LandslideProbability\n",
    "#import plot_landslides as pl\n",
    "#import test_landslide_probability as test"
   ]
  },
  {
   "cell_type": "markdown",
   "metadata": {},
   "source": [
    "### Landslide Component Definitions\n",
    "#### key variables and functions in `test_landslide_probability.py`\n",
    "\n",
    "\n",
    "`grid` is the Landlab raster model grid initialization\n",
    "\n",
    "`ls_grid` is a `grid`  with landslide parameters added to nodes\n",
    "The input fields (see input_var_names) on the node are initialized in this step.\n",
    "\n",
    "`ls_grid` is input to `LandslideProbability()` to add model parameters to define the size of the Monte Carlo method, statistical distribution (four options), and hydrologic forcings (two options: recharge OR depth to water table) for the landslide model. A distribution of hydrologic forcing is used to calculate the probability of lansdlides in the Factor of Safety equation; the mean hydrologic forcing  per node has been added as a model output (in addition to relative wetness, probability of saturation, and probability of failure). \n",
    "\n",
    "`ls_prob` is the output of `LandslideProbability()` and considered a model instance (or model initialization).\n",
    "\n",
    "`ls_prob` is the input to `calculate_landslide_probability()`. Model results are saved in the same input dictionary by adding output fields.\n",
    "\n",
    "`ls_prob` is both the input and output of  `calculate_landslide_probability()` and should be saved, or recalculated with a clean `ls_grid` to ensure variables are saved as expected (not overwritten) for each change of parameters and model calculation.\n",
    "\n",
    "The output fields (see output_var_names) on the node are initialized to zero, and contain the model results. "
   ]
  },
  {
   "cell_type": "markdown",
   "metadata": {},
   "source": [
    "## 1. Create a synthetic grid with landslide unit_default data fields"
   ]
  },
  {
   "cell_type": "markdown",
   "metadata": {},
   "source": [
    "**1.1 Use the unit test to build a synthetic grid investigate features of the grid.** \n",
    "\n",
    "The total number of nodes is limited to 20, which is fast for computers and easy for humans."
   ]
  },
  {
   "cell_type": "code",
   "execution_count": 2,
   "metadata": {},
   "outputs": [
    {
     "name": "stdout",
     "output_type": "stream",
     "text": [
      "The synthetic grid `grid` is a Landlab RasterModelGrid: <xarray.Dataset>\n",
      "Dimensions:         (Two: 2, cell: 6, face: 17, link: 31, max_patch_links: 4, node: 20, patch: 12)\n",
      "Coordinates:\n",
      "  * node            (node) int32 0 1 2 3 4 5 6 7 8 ... 12 13 14 15 16 17 18 19\n",
      "Dimensions without coordinates: Two, cell, face, link, max_patch_links, patch\n",
      "Data variables:\n",
      "    mesh            <U1 'a'\n",
      "    y_of_node       (node) float64 0.0 0.0 0.0 0.0 10.0 ... 40.0 40.0 40.0 40.0\n",
      "    x_of_node       (node) float64 0.0 10.0 20.0 30.0 0.0 ... 0.0 10.0 20.0 30.0\n",
      "    nodes_at_link   (link, Two) int32 0 1 1 2 2 3 0 4 ... 19 16 17 17 18 18 19\n",
      "    links_at_patch  (patch, max_patch_links) int32 4 7 3 0 5 ... 22 27 30 26 23\n",
      "    node_at_cell    (cell) int32 5 6 9 10 13 14\n",
      "    nodes_at_face   (face, Two) int32 1 5 2 6 4 5 5 6 ... 14 14 15 13 17 14 18. \n"
     ]
    },
    {
     "data": {
      "text/plain": [
       "RasterModelGrid((5, 4), xy_spacing=(10.0, 10.0), xy_of_lower_left=(0.0, 0.0))"
      ]
     },
     "execution_count": 2,
     "metadata": {},
     "output_type": "execute_result"
    }
   ],
   "source": [
    "shape = (5, 4)\n",
    "spacing = (10e0, 10e0)\n",
    "coordinates = (0.0, 0.0)\n",
    "grid = RasterModelGrid(shape,spacing,coordinates)\n",
    "\n",
    "print('The synthetic grid `grid` is a Landlab RasterModelGrid: {value}. '.format(value=grid))\n",
    "grid"
   ]
  },
  {
   "cell_type": "markdown",
   "metadata": {},
   "source": [
    "We can see how many core nodes we use in the unit grid (i.e., the nodes that calculations are performed on) in the center of the grid...not the edges, which are 'closed nodes'.  The spacing between nodes is equivalent to the grid cell edge length.  Nodes are the centroid of each grid."
   ]
  },
  {
   "cell_type": "code",
   "execution_count": 3,
   "metadata": {},
   "outputs": [
    {
     "name": "stdout",
     "output_type": "stream",
     "text": [
      "The synthetic grid has 20 total grid cells (nodes), including the boundary nodes.\n",
      "The synthetic grid has 10.0 m grid cell size (space between nodes).\n",
      "Core nodes are the center of a Landlab model grid.\n",
      "Landslide calculations are made only on 6 core nodes.\n",
      "This is the array of Landlab node values used to index the core nodes (dictionary key)\n"
     ]
    },
    {
     "data": {
      "text/plain": [
       "array([ 5,  6,  9, 10, 13, 14])"
      ]
     },
     "execution_count": 3,
     "metadata": {},
     "output_type": "execute_result"
    }
   ],
   "source": [
    "gridnum = grid.number_of_nodes\n",
    "print('The synthetic grid has {value} total grid cells (nodes), including the boundary nodes.'.format(value=grid.number_of_nodes)) \n",
    "print('The synthetic grid has {value} m grid cell size (space between nodes).'.format(value=grid.dx)) \n",
    "grid_cnum = grid.number_of_core_nodes\n",
    "print(\"Core nodes are the center of a Landlab model grid.\")\n",
    "print(\"Landslide calculations are made only on {value} core nodes.\".format(value=grid_cnum))\n",
    "print(\"This is the array of Landlab node values used to index the core nodes (dictionary key)\")\n",
    "grid.core_nodes"
   ]
  },
  {
   "cell_type": "code",
   "execution_count": 4,
   "metadata": {},
   "outputs": [],
   "source": [
    "#grid?"
   ]
  },
  {
   "cell_type": "markdown",
   "metadata": {},
   "source": [
    "To read more documentation about this dataset type:\n",
    "\n",
    "Use `RasterModelGrid?` OR `unitgrid?` OR uncomment cell above.\n",
    "\n",
    "<hr>\n",
    "<small>For more Introduction to Landlab’s Gridding Library, click here: <a href=\"https://landlab.readthedocs.io/en/latest/user_guide/grid.html\">https://landlab.readthedocs.io/en/latest/user_guide/grid.html</a></small>\n",
    "<hr>"
   ]
  },
  {
   "cell_type": "markdown",
   "metadata": {},
   "source": [
    "The Landlab grid variable we input to `LandslideProbability` is a `RasterModelGrid` data type we have named `grid`, it has inputs and outputs on each node, but only calculated on the core nodes."
   ]
  },
  {
   "cell_type": "code",
   "execution_count": 5,
   "metadata": {},
   "outputs": [
    {
     "data": {
      "text/plain": [
       "['soil__density',\n",
       " 'soil__internal_friction_angle',\n",
       " 'soil__maximum_total_cohesion',\n",
       " 'soil__minimum_total_cohesion',\n",
       " 'soil__mode_total_cohesion',\n",
       " 'soil__saturated_hydraulic_conductivity',\n",
       " 'soil__thickness',\n",
       " 'soil__transmissivity',\n",
       " 'topographic__slope',\n",
       " 'topographic__specific_contributing_area']"
      ]
     },
     "execution_count": 5,
     "metadata": {},
     "output_type": "execute_result"
    }
   ],
   "source": [
    " sorted(LandslideProbability.input_var_names)"
   ]
  },
  {
   "cell_type": "markdown",
   "metadata": {},
   "source": [
    "## Write a function to build a landslide component unit grid"
   ]
  },
  {
   "cell_type": "code",
   "execution_count": 6,
   "metadata": {},
   "outputs": [],
   "source": [
    "def build_landslide_unitgrid(shape,spacing,coordinates,forcing):\n",
    "    # 1. Build a Landlab grid\n",
    "    grid = RasterModelGrid(shape,spacing,coordinates)\n",
    "    gridnum = grid.number_of_nodes\n",
    "    # 2. Get range of default landslide parameters\n",
    "    unit_default_value = test.calc_unit_default_value()\n",
    "    # 3. Distribute and Add the parameters to each node on a Landlab grid\n",
    "    ls_grid = test.landslide_pars_ongrid(grid, gridnum, unit_default_value)\n",
    "    # 4. Calculate default depth and recharge forcing range as a function of relative wetness,\n",
    "    # given the default unit grid inputs (Recharge = f(rw, T, a, slope); Depth = f(rw, hs))\n",
    "    relative_wetness = 0.75\n",
    "    Default_R, Default_D=test.scenario_unit_explorer(relative_wetness,ls_grid)\n",
    "    # 5. Distribute and Add the parameters to a Landlab grid that will be linked to the landslide model instance\n",
    "    if forcing == 'depth':\n",
    "        ls_prob = LandslideProbability(\n",
    "        ls_grid,\n",
    "        number_of_iterations=25,\n",
    "        groundwater__depth_distribution=\"uniform\",\n",
    "        groundwater__depth_min_value=Default_D[0],\n",
    "        groundwater__depth_max_value=Default_D[1]\n",
    "        )\n",
    "    else: \n",
    "        ls_prob = LandslideProbability(\n",
    "        ls_grid,\n",
    "        number_of_iterations=25,\n",
    "        groundwater__recharge_distribution=\"uniform\",\n",
    "        groundwater__depth_min_value=Default_R[0],\n",
    "        groundwater__depth_max_value=Default_R[1]\n",
    "        )\n",
    "    ## sometimes a grid format is easier to work with, other times, it's easier to maintain the linked \n",
    "    ## model instance with a new grid for each model test\n",
    "    return ls_prob, ls_grid"
   ]
  },
  {
   "cell_type": "code",
   "execution_count": 7,
   "metadata": {},
   "outputs": [],
   "source": [
    "ls_prob, ls_grid = build_landslide_unitgrid(shape,spacing,coordinates,'depth')"
   ]
  },
  {
   "cell_type": "code",
   "execution_count": 8,
   "metadata": {},
   "outputs": [
    {
     "name": "stdout",
     "output_type": "stream",
     "text": [
      "Landslide Component Input Variables are on the grid/node\n"
     ]
    },
    {
     "data": {
      "text/plain": [
       "('soil__density',\n",
       " 'soil__internal_friction_angle',\n",
       " 'soil__maximum_total_cohesion',\n",
       " 'soil__minimum_total_cohesion',\n",
       " 'soil__mode_total_cohesion',\n",
       " 'soil__saturated_hydraulic_conductivity',\n",
       " 'soil__thickness',\n",
       " 'soil__transmissivity',\n",
       " 'topographic__slope',\n",
       " 'topographic__specific_contributing_area')"
      ]
     },
     "execution_count": 8,
     "metadata": {},
     "output_type": "execute_result"
    }
   ],
   "source": [
    "print(\"Landslide Component Input Variables are on the grid/node\")\n",
    "ls_prob.input_var_names"
   ]
  },
  {
   "cell_type": "code",
   "execution_count": 9,
   "metadata": {
    "scrolled": true
   },
   "outputs": [
    {
     "name": "stdout",
     "output_type": "stream",
     "text": [
      "Landslide Component Output Variables at each grid/node\n"
     ]
    },
    {
     "data": {
      "text/plain": [
       "('landslide__probability_of_failure',\n",
       " 'soil__mean_recharge',\n",
       " 'soil__mean_relative_wetness',\n",
       " 'soil__mean_watertable_depth',\n",
       " 'soil__probability_of_saturation')"
      ]
     },
     "execution_count": 9,
     "metadata": {},
     "output_type": "execute_result"
    }
   ],
   "source": [
    "print(\"Landslide Component Output Variables at each grid/node\")\n",
    "ls_prob.output_var_names"
   ]
  },
  {
   "cell_type": "code",
   "execution_count": 10,
   "metadata": {},
   "outputs": [
    {
     "name": "stdout",
     "output_type": "stream",
     "text": [
      "name: soil__mean_watertable_depth\n",
      "description:\n",
      "  Mean depth to water table from surface to perched water table within\r\n",
      "  the soil layer\n",
      "units: m\n",
      "unit agnostic: False\n",
      "at: node\n",
      "intent: out\n"
     ]
    }
   ],
   "source": [
    "LandslideProbability.var_help('soil__mean_watertable_depth')"
   ]
  },
  {
   "cell_type": "code",
   "execution_count": 11,
   "metadata": {
    "scrolled": false
   },
   "outputs": [
    {
     "name": "stdout",
     "output_type": "stream",
     "text": [
      "name: soil__mean_recharge\n",
      "description:\n",
      "  Mean recharge to the soil layer\n",
      "units: mm/day\n",
      "unit agnostic: False\n",
      "at: node\n",
      "intent: out\n"
     ]
    }
   ],
   "source": [
    "LandslideProbability.var_help('soil__mean_recharge')"
   ]
  },
  {
   "cell_type": "markdown",
   "metadata": {},
   "source": [
    "**1.2 Investigate the range of default parameters on each node of the grid.**\n",
    "\n",
    "The test builds a grid with a default synthetic range of min/max parameter inputs used in the unit test. The function `get_default_nodevalues()` creates a variable from the default values.  Since we haven't calculated the landslide probability yet, only initialized the inputs, the output values are initialized to zeros. "
   ]
  },
  {
   "cell_type": "code",
   "execution_count": 12,
   "metadata": {
    "scrolled": true
   },
   "outputs": [
    {
     "data": {
      "text/plain": [
       "{'topographic__slope': (0.1, 0.8),\n",
       " 'topographic__specific_contributing_area': (10, 100),\n",
       " 'soil__transmissivity': (0.1, 10),\n",
       " 'soil__mode_total_cohesion': (30, 900),\n",
       " 'soil__minimum_total_cohesion': (28, 898),\n",
       " 'soil__maximum_total_cohesion': (32, 902),\n",
       " 'soil__internal_friction_angle': (26, 37),\n",
       " 'soil__thickness': (0.1, 1),\n",
       " 'soil__density': (1999, 2001),\n",
       " 'soil__saturated_hydraulic_conductivity': (0.1, 100.0),\n",
       " 'landslide__probability_of_failure': (0, 1),\n",
       " 'soil__mean_relative_wetness': (0, 1),\n",
       " 'soil__mean_watertable_depth': (0, 1000),\n",
       " 'soil__mean_recharge': (0, 1000),\n",
       " 'soil__probability_of_saturation': (0, 1)}"
      ]
     },
     "execution_count": 12,
     "metadata": {},
     "output_type": "execute_result"
    }
   ],
   "source": [
    "test_unit_defaultpars=test.get_default_nodevalues()\n",
    "test_unit_defaultpars"
   ]
  },
  {
   "cell_type": "markdown",
   "metadata": {},
   "source": [
    "Run the next cells to view DEFAULT soil parameters on the node.(optional)"
   ]
  },
  {
   "cell_type": "code",
   "execution_count": 13,
   "metadata": {},
   "outputs": [
    {
     "name": "stdout",
     "output_type": "stream",
     "text": [
      "topographic__slope (Min, Max) range of (0.1122925705333193,0.7480403039112747) values on node:\n",
      "All topographic__slope default value initialized for each node:\n",
      "[ 0.7480403   0.72716988  0.68776065  0.68015717  0.67050114  0.61065173\n",
      "  0.6028036   0.57932975  0.57409705  0.53597005  0.50366754  0.43871955\n",
      "  0.32205438  0.29514249  0.25984415  0.25510452  0.23846819  0.23009768\n",
      "  0.21061147  0.11229257]\n",
      "\n"
     ]
    }
   ],
   "source": [
    "value_list = ['topographic__slope']\n",
    "pl.print_list_nodevalues(ls_prob, value_list)"
   ]
  },
  {
   "cell_type": "code",
   "execution_count": 14,
   "metadata": {},
   "outputs": [],
   "source": [
    "#value_list = ['soil__transmissivity']\n",
    "#pl.print_list_nodevalues(ls_prob, value_list)"
   ]
  },
  {
   "cell_type": "markdown",
   "metadata": {},
   "source": [
    "Run the next cells to CHANGE DEFAULT soil parameters on the node.(optional)"
   ]
  },
  {
   "cell_type": "code",
   "execution_count": 15,
   "metadata": {},
   "outputs": [],
   "source": [
    "##Transmissivity\n",
    "#grid.at_node[\"soil__transmissivity\"] = np.sort(np.random.uniform(0.1,100,gridnum).astype(float))    \n",
    "#reverse order: lowest Transmissivity value are in upper right of synthethic grid\n",
    "#grid['node']['soil__transmissivity'] = grid['node']['soil__transmissivity'][::-1]  \n",
    "       "
   ]
  },
  {
   "cell_type": "markdown",
   "metadata": {},
   "source": [
    "Add a field for dimensions of recharge in millimeters. Default input is in meters."
   ]
  },
  {
   "cell_type": "code",
   "execution_count": 16,
   "metadata": {},
   "outputs": [],
   "source": [
    "recharge_mm_per_m=1000\n",
    "ls_grid.at_node['soil__mean_recharge_mm']=recharge_mm_per_m * ls_grid.at_node['soil__mean_recharge']"
   ]
  },
  {
   "cell_type": "code",
   "execution_count": 17,
   "metadata": {},
   "outputs": [
    {
     "name": "stdout",
     "output_type": "stream",
     "text": [
      "soil__transmissivity (Min, Max) range of (0.5518624867352111,8.999222060358967) values on node:\n",
      "All soil__transmissivity default value initialized for each node:\n",
      "[ 8.99922206  8.13153568  8.11660316  8.05056567  7.53529099  7.19276421\n",
      "  7.03753653  6.11827834  5.84955765  4.93376387  4.89080833  4.58014162\n",
      "  4.03705543  3.41412464  3.06914378  1.89468106  1.7611151   1.58686495\n",
      "  0.67226364  0.55186249]\n",
      "\n"
     ]
    }
   ],
   "source": [
    "value_list = ['soil__transmissivity']\n",
    "pl.print_list_nodevalues(ls_prob, value_list)"
   ]
  },
  {
   "cell_type": "code",
   "execution_count": 18,
   "metadata": {},
   "outputs": [
    {
     "name": "stdout",
     "output_type": "stream",
     "text": [
      "soil__saturated_hydraulic_conductivity (Min, Max) range of (0.5534901364479368,89.82593850454361) values on node:\n",
      "All soil__saturated_hydraulic_conductivity default value initialized for each node:\n",
      "[ 89.8259385   45.05702575  27.89616029  26.475766    23.62890858\n",
      "  22.5331548   21.54680286  15.08590645  13.78997005  11.45045771\n",
      "  10.45120463   8.62421051   7.43883036   4.96522286   3.86427838\n",
      "   2.35089539   2.17385213   1.7354691    0.73004832   0.55349014]\n",
      "\n",
      "soil__transmissivity (Min, Max) range of (0.5518624867352111,8.999222060358967) values on node:\n",
      "All soil__transmissivity default value initialized for each node:\n",
      "[ 8.99922206  8.13153568  8.11660316  8.05056567  7.53529099  7.19276421\n",
      "  7.03753653  6.11827834  5.84955765  4.93376387  4.89080833  4.58014162\n",
      "  4.03705543  3.41412464  3.06914378  1.89468106  1.7611151   1.58686495\n",
      "  0.67226364  0.55186249]\n",
      "\n",
      "soil__thickness (Min, Max) range of (0.10018511590506526,0.9970592977082279) values on node:\n",
      "All soil__thickness default value initialized for each node:\n",
      "[ 0.10018512  0.18047209  0.29095772  0.304073    0.31890136  0.31920804\n",
      "  0.32661628  0.40556253  0.42418929  0.43087918  0.46796599  0.53107952\n",
      "  0.5427003   0.68760753  0.79423465  0.80594018  0.81013565  0.91437235\n",
      "  0.92084814  0.9970593 ]\n",
      "\n"
     ]
    }
   ],
   "source": [
    "value_list = ['soil__saturated_hydraulic_conductivity','soil__transmissivity','soil__thickness']\n",
    "pl.print_list_nodevalues(ls_prob, value_list)"
   ]
  },
  {
   "cell_type": "code",
   "execution_count": 19,
   "metadata": {},
   "outputs": [],
   "source": [
    "#value_list = ['soil__minimum_total_cohesion','soil__maximum_total_cohesion','soil__mode_total_cohesion']\n",
    "#pl.print_list_nodevalues(ls_grid, value_list)"
   ]
  },
  {
   "cell_type": "markdown",
   "metadata": {},
   "source": [
    "### 1.13 Make Landslide Unit Grid Maps\n",
    "\n",
    "The plot function `plot_landslide_4variables()` uses the Landlab plotting function `imshow_grid()` and creates subplots for any 4 variables on a Landlab grid.\n",
    "\n",
    "Let's see what one of these fields (slope) looks like on the grid of 10 x 10 m grid cells. "
   ]
  },
  {
   "cell_type": "code",
   "execution_count": 20,
   "metadata": {},
   "outputs": [
    {
     "data": {
      "text/plain": [
       "array([ 0.7480403 ,  0.72716988,  0.68776065,  0.68015717,  0.67050114,\n",
       "        0.61065173,  0.6028036 ,  0.57932975,  0.57409705,  0.53597005,\n",
       "        0.50366754,  0.43871955,  0.32205438,  0.29514249,  0.25984415,\n",
       "        0.25510452,  0.23846819,  0.23009768,  0.21061147,  0.11229257])"
      ]
     },
     "execution_count": 20,
     "metadata": {},
     "output_type": "execute_result"
    }
   ],
   "source": [
    "ls_grid.at_node['topographic__slope']\n"
   ]
  },
  {
   "cell_type": "code",
   "execution_count": 21,
   "metadata": {},
   "outputs": [
    {
     "data": {
      "image/png": "[encoded data removed]",
      "text/plain": [
       "<Figure size 720x720 with 8 Axes>"
      ]
     },
     "metadata": {
      "needs_background": "light"
     },
     "output_type": "display_data"
    }
   ],
   "source": [
    "fields=['topographic__slope','soil__thickness','topographic__specific_contributing_area','soil__transmissivity']\n",
    "maxval=[ls_grid.at_node['topographic__slope'].max(),\n",
    "        ls_grid.at_node['soil__thickness'].max(),\n",
    "        ls_grid.at_node['topographic__specific_contributing_area'].max(),\n",
    "        ls_grid.at_node['soil__transmissivity'].max(),]\n",
    "subtitles=['Unit Slope','Unit Soil Thickness','Unit Contributing Area','Unit Transmissivity']\n",
    "colors=['terrain','copper_r','YlGnBu','PuBu']\n",
    "scalelabel=['Slope',' meters','meters','m/day']\n",
    "\n",
    "pl.plot_landslide_4variables([221,222,223,224],\n",
    "                          ls_grid,ls_grid,ls_grid,ls_grid,\n",
    "                          fields,maxval,\n",
    "                          subtitles,colors,scalelabel)"
   ]
  },
  {
   "cell_type": "markdown",
   "metadata": {},
   "source": [
    "Can't get enough nitty gritty landslide component details?  \n",
    "\n",
    "Uncomment the box below to review ALL the details of what each variable represents.  \n",
    "(Close the window with the upper right [x] after viewing.)"
   ]
  },
  {
   "cell_type": "code",
   "execution_count": 22,
   "metadata": {},
   "outputs": [],
   "source": [
    "#?LandslideProbability"
   ]
  },
  {
   "cell_type": "markdown",
   "metadata": {},
   "source": [
    " ### 2.3. Recharge and Depth Options - 'uniform' distribution "
   ]
  },
  {
   "cell_type": "markdown",
   "metadata": {},
   "source": [
    "In this option, we'll apply a uniform distribution of recharge and depth based on minimum and maximum recharge and depth values.  We will then instantiate the LandslideProbability component with these parameters, as well as the grid and number of iterations we specified above.  Instantiate creates an instance of a class.  (For example, the _iPhone_ is a class and _each phone_ is an instance.)\n",
    "\n",
    "No outputs are generated by these commands as they are setting up the recharge and depth and instantiating the component.\n"
   ]
  },
  {
   "cell_type": "code",
   "execution_count": 23,
   "metadata": {
    "scrolled": true
   },
   "outputs": [
    {
     "name": "stdout",
     "output_type": "stream",
     "text": [
      "Recharge Hydrologic Forcing\n",
      "Input: (Min, Max) range of default landslide__probability_of_failure model inputs: (0, 1)\n",
      "Ouput: landslide__probability_of_failure default value initialized for each node:\n",
      "[ 0.    0.    0.    0.    0.    0.8   0.92  0.    0.    1.    0.56  0.\n",
      "  0.    0.52  0.    0.    0.    0.    0.    0.  ]\n",
      "\n",
      "Ouput Failure: landslide__probability_of_failure value calculated for each node:\n",
      "[ 0.    0.    0.    0.    0.    0.8   0.92  0.    0.    1.    0.56  0.\n",
      "  0.    0.52  0.    0.    0.    0.    0.    0.  ]\n",
      "\n",
      "Depth Hydrologic Forcing\n",
      "Input: (Min, Max) range of default landslide__probability_of_failure model inputs: (0, 1)\n",
      "Ouput: landslide__probability_of_failure default value initialized for each node:\n",
      "[ 0.    0.    0.    0.    0.    0.96  0.84  0.    0.    1.    0.72  0.\n",
      "  0.    0.    0.04  0.    0.    0.    0.    0.  ]\n",
      "\n",
      "Ouput Failure: landslide__probability_of_failure value calculated for each node:\n",
      "[ 0.    0.    0.    0.    0.    0.96  0.84  0.    0.    1.    0.72  0.\n",
      "  0.    0.    0.04  0.    0.    0.    0.    0.  ]\n",
      "\n",
      "Unit test core node 6 = 0.96\n",
      "Unit test core node 10 = 1.0\n"
     ]
    }
   ],
   "source": [
    "LS_prob1_r,grid_r1 = build_landslide_unitgrid(shape,spacing,coordinates,'recharge')\n",
    "LS_prob1_d,grid_d1 = build_landslide_unitgrid(shape,spacing,coordinates,'depth')\n",
    "\n",
    "print(\"Recharge Hydrologic Forcing\")\n",
    "LS_prob1_r.calculate_landslide_probability()\n",
    "test.print_list_nodevalues(LS_prob1_r,[\"landslide__probability_of_failure\"])\n",
    "test.print_failure_nodevalues(LS_prob1_r)\n",
    "print(\"Depth Hydrologic Forcing\")\n",
    "LS_prob1_d.calculate_landslide_probability()\n",
    "test.print_list_nodevalues(LS_prob1_d,[\"landslide__probability_of_failure\"])\n",
    "test.print_failure_nodevalues(LS_prob1_d)\n",
    "\n",
    "print(\"Unit test core node 6 = {value}\".format(value=LS_prob1_d.grid.at_node[\"landslide__probability_of_failure\"][5]))\n",
    "print(\"Unit test core node 10 = {value}\".format(value=LS_prob1_d.grid.at_node[\"landslide__probability_of_failure\"][9]))"
   ]
  },
  {
   "cell_type": "code",
   "execution_count": 24,
   "metadata": {},
   "outputs": [
    {
     "name": "stdout",
     "output_type": "stream",
     "text": [
      "Uniform Recharge Synthetic core node 6 = 0.8\n",
      "Uniform Recharge Synthetic  core node 10 = 1.0\n",
      "Uniform Depth Synthetic  core node 6 = 0.96\n",
      "Uniform Depth Synthetic  core node 10 = 1.0\n"
     ]
    }
   ],
   "source": [
    "print(\"Uniform Recharge Synthetic core node 6 = {value}\".format(value=LS_prob1_r.grid.at_node[\"landslide__probability_of_failure\"][5]))\n",
    "print(\"Uniform Recharge Synthetic  core node 10 = {value}\".format(value=LS_prob1_r.grid.at_node[\"landslide__probability_of_failure\"][9]))\n",
    "print(\"Uniform Depth Synthetic  core node 6 = {value}\".format(value=LS_prob1_d.grid.at_node[\"landslide__probability_of_failure\"][5]))\n",
    "print(\"Uniform Depth Synthetic  core node 10 = {value}\".format(value=LS_prob1_d.grid.at_node[\"landslide__probability_of_failure\"][9]))"
   ]
  },
  {
   "cell_type": "code",
   "execution_count": 25,
   "metadata": {},
   "outputs": [],
   "source": [
    "#Default relative wetness calculated with unitgrid input values \n",
    "#this is used to calculate the max and min Depth and Recharge for plotting\n",
    "relative_wetness = 0.75\n"
   ]
  },
  {
   "cell_type": "code",
   "execution_count": 26,
   "metadata": {
    "scrolled": true
   },
   "outputs": [
    {
     "data": {
      "image/png": "[encoded data removed]",
      "text/plain": [
       "<Figure size 720x720 with 8 Axes>"
      ]
     },
     "metadata": {
      "needs_background": "light"
     },
     "output_type": "display_data"
    }
   ],
   "source": [
    "#Main Plot inputs\n",
    "pgrid = LS_prob1_d.grid\n",
    "[unit_R,unit_D]=test.scenario_unit_explorer(relative_wetness,pgrid) #set max\n",
    "#Landslide plot inputs for Uniform Depth forcing\n",
    "fields=['soil__probability_of_saturation','soil__mean_relative_wetness','soil__mean_watertable_depth','landslide__probability_of_failure']\n",
    "maxval=[1,1, unit_D[1],1,]\n",
    "colors=['YlGnBu','YlGnBu','YlGnBu','OrRd']\n",
    "scalelabel=['Probability',' Wetness','Depth (m)','Probability']\n",
    "subtitle=['Prob.of Saturation','Relative Wetness','Mean Depth to Water Table','Probability of Failure']\n",
    "smashtitle=subtitle\n",
    "ptitle = \"Uniform-Depth %s\"\n",
    "for s in subtitle: smashtitle[subtitle.index(s)]=\"\".join(ptitle % (s))\n",
    "    \n",
    "pl.plot_landslide_4variables([221,222,223,224],\n",
    "                          pgrid,pgrid,pgrid,pgrid,\n",
    "                          fields,maxval,\n",
    "                          smashtitle,colors,scalelabel)"
   ]
  },
  {
   "cell_type": "markdown",
   "metadata": {},
   "source": [
    "### Uniform-Recharge\n",
    "Recharge outputs are in meters (m), here we convert the recharge to mm/day and add to the grid. "
   ]
  },
  {
   "cell_type": "code",
   "execution_count": 27,
   "metadata": {},
   "outputs": [
    {
     "name": "stdout",
     "output_type": "stream",
     "text": [
      "[0.21158308226351061, 429.95313818623936, 88.514077976873821, 110.11583638971329]\n"
     ]
    }
   ],
   "source": [
    "print(unit_R)\n",
    "recharge_mm_per_m=1000\n",
    "LS_prob1_r.grid.at_node['soil__mean_recharge_mm']=recharge_mm_per_m * LS_prob1_r.grid.at_node['soil__mean_recharge']"
   ]
  },
  {
   "cell_type": "code",
   "execution_count": 28,
   "metadata": {},
   "outputs": [
    {
     "data": {
      "text/plain": [
       "array([ nan,  nan,  nan,  nan,  nan,  nan,  nan,  nan,  nan,  nan,  nan,\n",
       "        nan,  nan,  nan,  nan,  nan,  nan,  nan,  nan,  nan])"
      ]
     },
     "execution_count": 28,
     "metadata": {},
     "output_type": "execute_result"
    }
   ],
   "source": [
    "LS_prob1_d.grid.at_node['soil__mean_recharge']"
   ]
  },
  {
   "cell_type": "code",
   "execution_count": 29,
   "metadata": {},
   "outputs": [
    {
     "data": {
      "text/plain": [
       "array([ 0.        ,  0.        ,  0.        ,  0.        ,  0.        ,\n",
       "        0.07907663,  0.07907663,  0.        ,  0.        ,  0.07907663,\n",
       "        0.07907663,  0.        ,  0.        ,  0.07907663,  0.07907663,\n",
       "        0.        ,  0.        ,  0.        ,  0.        ,  0.        ])"
      ]
     },
     "execution_count": 29,
     "metadata": {},
     "output_type": "execute_result"
    }
   ],
   "source": [
    "LS_prob1_r.grid.at_node['soil__mean_recharge']"
   ]
  },
  {
   "cell_type": "code",
   "execution_count": 30,
   "metadata": {},
   "outputs": [
    {
     "data": {
      "image/png": "[encoded data removed]",
      "text/plain": [
       "<Figure size 720x720 with 8 Axes>"
      ]
     },
     "metadata": {
      "needs_background": "light"
     },
     "output_type": "display_data"
    }
   ],
   "source": [
    "pgrid = LS_prob1_r.grid\n",
    "[unit_R,unit_D]=test.scenario_unit_explorer(relative_wetness,pgrid)\n",
    "fields=['soil__probability_of_saturation','soil__mean_relative_wetness','soil__mean_recharge_mm','landslide__probability_of_failure']\n",
    "maxval=[1,1, unit_R[1],1,]\n",
    "colors=['YlGnBu','YlGnBu','YlGnBu','OrRd']\n",
    "scalelabel=['Probability',' Wetness','Recharge (mm/day)','Probability']\n",
    "subtitle=['Prob.of Saturation','Relative Wetness','Mean Recharge','Probability of Failure']\n",
    "smashtitle=subtitle\n",
    "ptitle = \"Uniform-Recharge %s\"\n",
    "for s in subtitle: smashtitle[subtitle.index(s)]=\"\".join(ptitle % (s))\n",
    "    \n",
    "pl.plot_landslide_4variables([221,222,223,224],\n",
    "                          pgrid,pgrid,pgrid,pgrid,\n",
    "                          fields,maxval,\n",
    "                          smashtitle,colors,scalelabel)"
   ]
  },
  {
   "cell_type": "markdown",
   "metadata": {},
   "source": [
    "## Citing Landlab Landslide Component\n",
    "\n",
    "**If you use any portion of Landlab, you must cite the following papers:**\n",
    "\n",
    "Hobley, D. E. J., Adams, J. M., Nudurupati, S. S., Hutton, E. W. H., Gasparini, N. M., Istanbulluoglu, E. and Tucker, G. E., 2017, Creative computing with Landlab: an open-source toolkit for building, coupling, and exploring two-dimensional numerical models of Earth-surface dynamics, Earth Surface Dynamics, 5, p 21-46, 10.5194/esurf-5-21-2017.\n",
    "\n",
    "Barnhart, K. R., Hutton, E. W. H., Tucker, G. E., Gasparini, N. M., Istanbulluoglu, E., Hobley, D. E. J., Lyons, N. J., Mouchene, M., Nudurupati, S. S., Adams, J. M., and Bandaragoda, C.: Short communication: Landlab v2.0: A software package for Earth surface dynamics, Earth Surf. Dynam. Discuss., https://doi.org/10.5194/esurf-2020-12, in review, 2020.\n",
    "                \n",
    "**If you use any portion of the Landlab Landslide Component, you must cite the following paper:**\n",
    "Strauch, R., Istanbulluoglu, E., Nudurupati, S.S., Bandaragoda, C., Gasparini, N.M. and Tucker, G.E., 2018. A hydroclimatological approach to predicting regional landslide probability using Landlab. Earth Surface Dynamics, 6(1), pp.49-49."
   ]
  },
  {
   "cell_type": "markdown",
   "metadata": {},
   "source": [
    "<img src=\"https://www.washington.edu/brand/files/2014/09/W-Logo_Purple_Hex.png\" style=\"float:right;width:150px;padding:20px\">   \n"
   ]
  },
  {
   "cell_type": "markdown",
   "metadata": {},
   "source": [
    "The development of this Notebook has been made possible by the Landlab project funded by the National Science Foundation (OAC 1450338 to N. Gasparini, OAC 1450409 to G. Tucker, OAC 1450412 to E. Istanbulluoglu).\n",
    "\n",
    "We acknowledge that this research takes place in the ancestral homelands of Tribes, Bands, and First Nations, including most notably the Upper Skagit Indian Tribe, Sauk-Suiattle Indian Tribe, Swinomish Indian Tribal Community, Samish Indian Nation, Nooksack Tribe, Lummi Nation, Stó:lō Nation, Nlaka’pamux Nation, Colville Confederated Tribes, Syilx/Okanagan Nation.  The University of Washington acknowledges the Coast Salish peoples of this land, the land which touches the shared waters of all tribes and bands within the Suquamish, Tulalip and Muckleshoot nations. "
   ]
  },
  {
   "cell_type": "markdown",
   "metadata": {},
   "source": [
    "\n",
    "<hr>\n",
    "<small>For more Landlab tutorials, click here: <a href=\"https://landlab.readthedocs.io/en/latest/user_guide/tutorials.html\">https://landlab.readthedocs.io/en/latest/user_guide/tutorials.html</a></small>\n",
    "<hr>"
   ]
  }
 ],
 "metadata": {
  "anaconda-cloud": {},
  "kernelspec": {
   "display_name": "Python 3",
   "language": "python",
   "name": "python3"
  },
  "language_info": {
   "codemirror_mode": {
    "name": "ipython",
    "version": 3
   },
   "file_extension": ".py",
   "mimetype": "text/x-python",
   "name": "python",
   "nbconvert_exporter": "python",
   "pygments_lexer": "ipython3",
   "version": "3.7.7"
  }
 },
 "nbformat": 4,
 "nbformat_minor": 1
}
